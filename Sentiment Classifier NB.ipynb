{
 "cells": [
  {
   "metadata": {},
   "cell_type": "markdown",
   "source": [
    "# Naive-Bayes Sentiment Classifier for Twitter Political Data   \n",
    "This notebook explains in details various steps implemented for a Naive-Bayes classifier. The steps we've taken have been broken into stages (represented as `<stage number> - <stage name>`)."
   ],
   "id": "79f7c78cfe20397d"
  },
  {
   "metadata": {},
   "cell_type": "markdown",
   "source": [
    "# 1 - Getting Started\n",
    "In this stage, we:\n",
    "\n",
    "a. Install and import all dependencies required for the challenge.\n",
    "\n",
    "b. Initialize Spark Session.\n",
    "\n",
    "c. Read and cache dataset."
   ],
   "id": "fa87ae8f5c9cd7c5"
  },
  {
   "metadata": {
    "ExecuteTime": {
     "end_time": "2024-05-12T18:55:00.639063Z",
     "start_time": "2024-05-12T18:54:59.635950Z"
    }
   },
   "cell_type": "code",
   "source": [
    "import matplotlib.pyplot as plt\n",
    "!pip install textblob"
   ],
   "id": "e076f296395546b0",
   "outputs": [
    {
     "name": "stdout",
     "output_type": "stream",
     "text": [
      "Requirement already satisfied: textblob in /Users/abeljohny/My/Uni/Modules/2 Spring/COMP4030 Data Science with ML/ctos/.venv/lib/python3.11/site-packages (0.18.0.post0)\r\n",
      "Requirement already satisfied: nltk>=3.8 in /Users/abeljohny/My/Uni/Modules/2 Spring/COMP4030 Data Science with ML/ctos/.venv/lib/python3.11/site-packages (from textblob) (3.8.1)\r\n",
      "Requirement already satisfied: click in /Users/abeljohny/My/Uni/Modules/2 Spring/COMP4030 Data Science with ML/ctos/.venv/lib/python3.11/site-packages (from nltk>=3.8->textblob) (8.1.7)\r\n",
      "Requirement already satisfied: joblib in /Users/abeljohny/My/Uni/Modules/2 Spring/COMP4030 Data Science with ML/ctos/.venv/lib/python3.11/site-packages (from nltk>=3.8->textblob) (1.4.0)\r\n",
      "Requirement already satisfied: regex>=2021.8.3 in /Users/abeljohny/My/Uni/Modules/2 Spring/COMP4030 Data Science with ML/ctos/.venv/lib/python3.11/site-packages (from nltk>=3.8->textblob) (2024.4.28)\r\n",
      "Requirement already satisfied: tqdm in /Users/abeljohny/My/Uni/Modules/2 Spring/COMP4030 Data Science with ML/ctos/.venv/lib/python3.11/site-packages (from nltk>=3.8->textblob) (4.66.2)\r\n",
      "\r\n",
      "\u001B[1m[\u001B[0m\u001B[34;49mnotice\u001B[0m\u001B[1;39;49m]\u001B[0m\u001B[39;49m A new release of pip is available: \u001B[0m\u001B[31;49m23.2.1\u001B[0m\u001B[39;49m -> \u001B[0m\u001B[32;49m24.0\u001B[0m\r\n",
      "\u001B[1m[\u001B[0m\u001B[34;49mnotice\u001B[0m\u001B[1;39;49m]\u001B[0m\u001B[39;49m To update, run: \u001B[0m\u001B[32;49mpip install --upgrade pip\u001B[0m\r\n"
     ]
    }
   ],
   "execution_count": 1
  },
  {
   "cell_type": "code",
   "id": "653eb8eb92d7c6d0",
   "metadata": {
    "ExecuteTime": {
     "end_time": "2024-05-12T18:55:01.057410Z",
     "start_time": "2024-05-12T18:55:00.640448Z"
    }
   },
   "source": [
    "%matplotlib inline \n",
    "from src.jobs.spark_etl import extract\n",
    "from src.utils.spark import initSparkSession\n",
    "from src.utils.dataset import getPolarity\n",
    "from src.transforms.Preprocessing import CleanTweet, polarityCalculator\n",
    "from sklearn.preprocessing import MinMaxScaler\n",
    "from pyspark.ml import Pipeline\n",
    "from pyspark.ml.evaluation import MulticlassClassificationEvaluator\n",
    "from pyspark.mllib.evaluation import MulticlassMetrics\n",
    "from pyspark.ml.feature import RegexTokenizer, StopWordsRemover, CountVectorizer, NGram, VectorAssembler, SQLTransformer, HashingTF, IDF, StringIndexer, ChiSqSelector\n",
    "from pyspark.ml.classification import NaiveBayes\n",
    "from pyspark.ml.tuning import ParamGridBuilder, CrossValidator, TrainValidationSplit\n",
    "import seaborn as sns"
   ],
   "outputs": [],
   "execution_count": 2
  },
  {
   "cell_type": "code",
   "id": "6dec4e81682027bb",
   "metadata": {
    "ExecuteTime": {
     "end_time": "2024-05-12T18:55:02.761792Z",
     "start_time": "2024-05-12T18:55:01.058032Z"
    }
   },
   "source": [
    "# Spark Session for ETL job\n",
    "sparkSession = initSparkSession(appName='Preprocessing')\n",
    "sparkSession"
   ],
   "outputs": [
    {
     "name": "stderr",
     "output_type": "stream",
     "text": [
      "24/05/12 19:55:01 WARN Utils: Your hostname, Abels-MacBook-Pro.local resolves to a loopback address: 127.0.0.1; using 10.247.203.189 instead (on interface en0)\n",
      "24/05/12 19:55:01 WARN Utils: Set SPARK_LOCAL_IP if you need to bind to another address\n",
      "Setting default log level to \"WARN\".\n",
      "To adjust logging level use sc.setLogLevel(newLevel). For SparkR, use setLogLevel(newLevel).\n",
      "24/05/12 19:55:01 WARN NativeCodeLoader: Unable to load native-hadoop library for your platform... using builtin-java classes where applicable\n",
      "24/05/12 19:55:02 WARN Utils: Service 'SparkUI' could not bind on port 4040. Attempting port 4041.\n",
      "24/05/12 19:55:02 WARN Utils: Service 'SparkUI' could not bind on port 4041. Attempting port 4042.\n",
      "24/05/12 19:55:02 WARN Utils: Service 'SparkUI' could not bind on port 4042. Attempting port 4043.\n",
      "24/05/12 19:55:02 WARN Utils: Service 'SparkUI' could not bind on port 4043. Attempting port 4044.\n",
      "24/05/12 19:55:02 WARN Utils: Service 'SparkUI' could not bind on port 4044. Attempting port 4045.\n",
      "24/05/12 19:55:02 WARN Utils: Service 'SparkUI' could not bind on port 4045. Attempting port 4046.\n",
      "24/05/12 19:55:02 WARN Utils: Service 'SparkUI' could not bind on port 4046. Attempting port 4047.\n",
      "24/05/12 19:55:02 WARN Utils: Service 'SparkUI' could not bind on port 4047. Attempting port 4048.\n",
      "24/05/12 19:55:02 WARN Utils: Service 'SparkUI' could not bind on port 4048. Attempting port 4049.\n",
      "24/05/12 19:55:02 WARN Utils: Service 'SparkUI' could not bind on port 4049. Attempting port 4050.\n"
     ]
    },
    {
     "data": {
      "text/plain": [
       "<pyspark.sql.session.SparkSession at 0x32f437690>"
      ],
      "text/html": [
       "\n",
       "            <div>\n",
       "                <p><b>SparkSession - in-memory</b></p>\n",
       "                \n",
       "        <div>\n",
       "            <p><b>SparkContext</b></p>\n",
       "\n",
       "            <p><a href=\"http://10.247.203.189:4050\">Spark UI</a></p>\n",
       "\n",
       "            <dl>\n",
       "              <dt>Version</dt>\n",
       "                <dd><code>v3.5.1</code></dd>\n",
       "              <dt>Master</dt>\n",
       "                <dd><code>local</code></dd>\n",
       "              <dt>AppName</dt>\n",
       "                <dd><code>Preprocessing</code></dd>\n",
       "            </dl>\n",
       "        </div>\n",
       "        \n",
       "            </div>\n",
       "        "
      ]
     },
     "execution_count": 3,
     "metadata": {},
     "output_type": "execute_result"
    }
   ],
   "execution_count": 3
  },
  {
   "cell_type": "code",
   "id": "288faabbd7e8cb6",
   "metadata": {
    "ExecuteTime": {
     "end_time": "2024-05-12T18:55:03.476364Z",
     "start_time": "2024-05-12T18:55:02.762720Z"
    }
   },
   "source": [
    "df = extract(sparkSession)\n",
    "df_train, df_test = df.randomSplit([0.70, 0.30], seed=123456) \n",
    "df_train.cache()\n",
    "df_test.cache()"
   ],
   "outputs": [
    {
     "data": {
      "text/plain": [
       "DataFrame[created_at: timestamp, tweet_id: string, tweet: string, likes: float, retweet_count: float, source: string, user_id: string, user_name: string, user_screen_name: string, user_description: string, user_join_date: timestamp, user_followers_count: float, user_location: string, lat: double, long: double, city: string, country: string, continent: string, state: string, state_code: string, collected_at: timestamp, candidate: string]"
      ]
     },
     "execution_count": 4,
     "metadata": {},
     "output_type": "execute_result"
    }
   ],
   "execution_count": 4
  },
  {
   "cell_type": "code",
   "id": "d19837e21897204b",
   "metadata": {
    "ExecuteTime": {
     "end_time": "2024-05-12T18:55:03.503304Z",
     "start_time": "2024-05-12T18:55:03.477269Z"
    }
   },
   "source": [
    "df.createOrReplaceTempView(\"politicalTweets\")\n",
    "df.printSchema()"
   ],
   "outputs": [
    {
     "name": "stdout",
     "output_type": "stream",
     "text": [
      "root\n",
      " |-- created_at: timestamp (nullable = true)\n",
      " |-- tweet_id: string (nullable = true)\n",
      " |-- tweet: string (nullable = true)\n",
      " |-- likes: float (nullable = true)\n",
      " |-- retweet_count: float (nullable = true)\n",
      " |-- source: string (nullable = true)\n",
      " |-- user_id: string (nullable = true)\n",
      " |-- user_name: string (nullable = true)\n",
      " |-- user_screen_name: string (nullable = true)\n",
      " |-- user_description: string (nullable = true)\n",
      " |-- user_join_date: timestamp (nullable = true)\n",
      " |-- user_followers_count: float (nullable = true)\n",
      " |-- user_location: string (nullable = true)\n",
      " |-- lat: double (nullable = true)\n",
      " |-- long: double (nullable = true)\n",
      " |-- city: string (nullable = true)\n",
      " |-- country: string (nullable = true)\n",
      " |-- continent: string (nullable = true)\n",
      " |-- state: string (nullable = true)\n",
      " |-- state_code: string (nullable = true)\n",
      " |-- collected_at: timestamp (nullable = true)\n",
      " |-- candidate: string (nullable = false)\n",
      "\n"
     ]
    }
   ],
   "execution_count": 5
  },
  {
   "metadata": {},
   "cell_type": "markdown",
   "source": [
    "# 2 - Spark User Defined Function (UDF)\n",
    "In this stage, we implement an UDF for labelling our dataset using a rule-based algorithm. "
   ],
   "id": "74115ac90c7d2d9f"
  },
  {
   "metadata": {
    "ExecuteTime": {
     "end_time": "2024-05-12T18:55:03.518227Z",
     "start_time": "2024-05-12T18:55:03.504077Z"
    }
   },
   "cell_type": "code",
   "source": "polarity = sparkSession.udf.register('Polarity', lambda record: getPolarity(record))",
   "id": "f40d9d0c224b7534",
   "outputs": [],
   "execution_count": 6
  },
  {
   "metadata": {},
   "cell_type": "markdown",
   "source": [
    "# 3 - Pipelines\n",
    "In this stage, we experiment with different pipeline configurations (stages in the pipeline) to analyze which gives us the best results.    "
   ],
   "id": "67e02432e78f4543"
  },
  {
   "metadata": {},
   "cell_type": "markdown",
   "source": "## 3.1 - Pipeline using HashingTF",
   "id": "a45ecf480f1ae87e"
  },
  {
   "metadata": {
    "ExecuteTime": {
     "end_time": "2024-05-12T18:55:51.566032Z",
     "start_time": "2024-05-12T18:55:03.520439Z"
    }
   },
   "cell_type": "code",
   "source": [
    "def pipelineModelHashtf():\n",
    "    cleanTweet = CleanTweet()\n",
    "    regexTokenizer = RegexTokenizer(inputCol=\"cleaned_tweet\", outputCol=\"cleaned_tweet_words\", pattern=\"[^a-zA-Z0-9_#]\")\n",
    "    stopWordsRemover = StopWordsRemover(inputCol='cleaned_tweet_words', outputCol='cleaned_tweet_nostop')\n",
    "    polarityCalc = polarityCalculator()\n",
    "    hashTF = HashingTF(inputCol=\"cleaned_tweet_nostop\", outputCol='tf')\n",
    "    idf = IDF(inputCol='tf', outputCol=\"features\")\n",
    "    sentimentStringIdx = StringIndexer(inputCol = \"polarity\", outputCol = \"label\")\n",
    "    naiveBayes = NaiveBayes()  # defaulted to featuresCol='features', labelCol='label'\n",
    "\n",
    "    dataCleaningStages = [cleanTweet, regexTokenizer, stopWordsRemover]\n",
    "    featureLabelMapStages = [hashTF, idf, sentimentStringIdx]\n",
    "    \n",
    "    return Pipeline(stages=dataCleaningStages+[polarityCalc]+featureLabelMapStages+[naiveBayes]), naiveBayes\n",
    "    \n",
    "    \n",
    "pipeline, _ = pipelineModelHashtf()\n",
    "pipelineModel = pipeline.fit(df_train)\n",
    "predictions = pipelineModel.transform(df_test)\n",
    "evaluator = MulticlassClassificationEvaluator(predictionCol=\"prediction\")\n",
    "accuracy = evaluator.evaluate(predictions, {evaluator.metricName: \"accuracy\"})\n",
    "f1 = evaluator.evaluate(predictions, {evaluator.metricName: \"f1\"})\n",
    "precision = evaluator.evaluate(predictions, {evaluator.metricName: \"weightedPrecision\"})\n",
    "recall = evaluator.evaluate(predictions, {evaluator.metricName: \"weightedRecall\"})\n",
    "\n",
    "# Print the results\n",
    "print(\"Accuracy:\", accuracy)\n",
    "print(\"F1 Score:\", f1)\n",
    "print(\"Precision:\", precision)\n",
    "print(\"Recall:\", recall)"
   ],
   "id": "594079527d207c7",
   "outputs": [
    {
     "name": "stderr",
     "output_type": "stream",
     "text": [
      "24/05/12 19:55:16 WARN MemoryStore: Not enough space to cache rdd_11_0 in memory! (computed 262.6 MiB so far)\n",
      "24/05/12 19:55:16 WARN BlockManager: Persisting block rdd_11_0 to disk instead.\n",
      "24/05/12 19:55:19 WARN GarbageCollectionMetrics: To enable non-built-in garbage collector(s) List(G1 Concurrent GC), users should configure it(them) to spark.eventLog.gcMetrics.youngGenerationGarbageCollectors or spark.eventLog.gcMetrics.oldGenerationGarbageCollectors\n",
      "24/05/12 19:55:26 WARN MemoryStore: Not enough space to cache rdd_11_0 in memory! (computed 150.6 MiB so far)\n",
      "24/05/12 19:55:28 WARN MemoryStore: Not enough space to cache rdd_11_0 in memory! (computed 150.6 MiB so far)\n",
      "24/05/12 19:55:31 WARN DAGScheduler: Broadcasting large task binary with size 4.1 MiB\n",
      "24/05/12 19:55:31 WARN MemoryStore: Not enough space to cache rdd_11_0 in memory! (computed 150.6 MiB so far)\n",
      "24/05/12 19:55:32 WARN DAGScheduler: Broadcasting large task binary with size 4.1 MiB\n",
      "24/05/12 19:55:49 WARN DAGScheduler: Broadcasting large task binary with size 10.1 MiB\n",
      "24/05/12 19:55:49 WARN InstanceBuilder: Failed to load implementation from:dev.ludovic.netlib.blas.JNIBLAS\n",
      "24/05/12 19:55:49 WARN InstanceBuilder: Failed to load implementation from:dev.ludovic.netlib.blas.VectorBLAS\n",
      "24/05/12 19:55:49 WARN DAGScheduler: Broadcasting large task binary with size 10.1 MiB\n",
      "24/05/12 19:55:50 WARN DAGScheduler: Broadcasting large task binary with size 10.1 MiB\n",
      "24/05/12 19:55:51 WARN DAGScheduler: Broadcasting large task binary with size 10.1 MiB\n"
     ]
    },
    {
     "name": "stdout",
     "output_type": "stream",
     "text": [
      "Accuracy: 0.6423278510753659\n",
      "F1 Score: 0.6336903304517316\n",
      "Precision: 0.7128854640537836\n",
      "Recall: 0.642327851075366\n"
     ]
    }
   ],
   "execution_count": 7
  },
  {
   "metadata": {},
   "cell_type": "markdown",
   "source": "## 3.2 - Pipeline using CountVectorizer",
   "id": "9dbadb7e9dfde38e"
  },
  {
   "metadata": {
    "ExecuteTime": {
     "end_time": "2024-05-12T18:55:51.572408Z",
     "start_time": "2024-05-12T18:55:51.567505Z"
    }
   },
   "cell_type": "code",
   "source": [
    "def pipelineCv():\n",
    "    cleanTweet = CleanTweet()\n",
    "    regexTokenizer = RegexTokenizer(inputCol=\"cleaned_tweet\", outputCol=\"cleaned_tweet_words\", pattern=\"[^a-zA-Z0-9_#]\")\n",
    "    stopWordsRemover = StopWordsRemover(inputCol='cleaned_tweet_words', outputCol='cleaned_tweet_nostop')\n",
    "    polarityCalc = polarityCalculator()\n",
    "    countVectorizer = CountVectorizer(inputCol='cleaned_tweet_nostop', outputCol='cv')\n",
    "    idf = IDF(inputCol='cv', outputCol=\"features\")\n",
    "    sentimentStringIdx = StringIndexer(inputCol = \"polarity\", outputCol = \"label\")\n",
    "    naiveBayes = NaiveBayes()  # defaulted to featuresCol='features', labelCol='label'\n",
    "\n",
    "    dataCleaningStages = [cleanTweet, regexTokenizer, stopWordsRemover]\n",
    "    featureLabelMapStages = [countVectorizer, idf, sentimentStringIdx]\n",
    "    \n",
    "    return Pipeline(stages=dataCleaningStages+[polarityCalc]+featureLabelMapStages+[naiveBayes]), naiveBayes"
   ],
   "id": "8d7b84639eb26b11",
   "outputs": [],
   "execution_count": 8
  },
  {
   "metadata": {
    "ExecuteTime": {
     "end_time": "2024-05-12T18:55:59.820726Z",
     "start_time": "2024-05-12T18:55:51.573679Z"
    }
   },
   "cell_type": "code",
   "source": [
    "pipeline, _ = pipelineCv()\n",
    "pipelineModel = pipeline.fit(df_train)\n",
    "predictions = pipelineModel.transform(df_test)\n",
    "evaluator = MulticlassClassificationEvaluator(predictionCol=\"prediction\")\n",
    "accuracy = evaluator.evaluate(predictions, {evaluator.metricName: \"accuracy\"})\n",
    "f1 = evaluator.evaluate(predictions, {evaluator.metricName: \"f1\"})\n",
    "precision = evaluator.evaluate(predictions, {evaluator.metricName: \"weightedPrecision\"})\n",
    "recall = evaluator.evaluate(predictions, {evaluator.metricName: \"weightedRecall\"})\n",
    "\n",
    "# Print the results\n",
    "print(\"Accuracy:\", accuracy)\n",
    "print(\"F1 Score:\", f1)\n",
    "print(\"Precision:\", precision)\n",
    "print(\"Recall:\", recall)"
   ],
   "id": "288e9ef6e0635e82",
   "outputs": [
    {
     "name": "stderr",
     "output_type": "stream",
     "text": [
      "24/05/12 19:55:53 WARN MemoryStore: Not enough space to cache rdd_11_1 in memory! (computed 158.9 MiB so far)\n",
      "24/05/12 19:55:54 WARN MemoryStore: Not enough space to cache rdd_11_1 in memory! (computed 158.9 MiB so far)\n",
      "24/05/12 19:55:55 WARN MemoryStore: Not enough space to cache rdd_11_1 in memory! (computed 158.9 MiB so far)\n",
      "24/05/12 19:55:56 WARN MemoryStore: Not enough space to cache rdd_11_1 in memory! (computed 158.9 MiB so far)\n",
      "24/05/12 19:55:57 WARN DAGScheduler: Broadcasting large task binary with size 1415.2 KiB\n",
      "24/05/12 19:55:58 WARN DAGScheduler: Broadcasting large task binary with size 1415.2 KiB\n",
      "24/05/12 19:55:58 WARN DAGScheduler: Broadcasting large task binary with size 1415.2 KiB\n",
      "24/05/12 19:55:59 WARN DAGScheduler: Broadcasting large task binary with size 1415.2 KiB\n"
     ]
    },
    {
     "name": "stdout",
     "output_type": "stream",
     "text": [
      "Accuracy: 0.6441351888667992\n",
      "F1 Score: 0.6431669928478216\n",
      "Precision: 0.7172081420868828\n",
      "Recall: 0.6441351888667992\n"
     ]
    }
   ],
   "execution_count": 9
  },
  {
   "metadata": {},
   "cell_type": "markdown",
   "source": [
    "# 4 - Fine-tuning\n",
    "In this stage, we experiment with cross-validation and the lesser expensive train-validation split for fine-tuning our models. "
   ],
   "id": "ba9e28bbfba178b0"
  },
  {
   "metadata": {},
   "cell_type": "markdown",
   "source": "## 4.1 Cross-Validation",
   "id": "b55ad77c3d9dab6d"
  },
  {
   "metadata": {
    "ExecuteTime": {
     "end_time": "2024-05-12T19:02:08.783999Z",
     "start_time": "2024-05-12T18:55:59.821501Z"
    }
   },
   "cell_type": "code",
   "source": [
    "# 10-fold cross-validation\n",
    "pipeline, naiveBayes = pipelineCv()\n",
    "\n",
    "paramGrid = ParamGridBuilder() \\\n",
    "    .addGrid(naiveBayes.smoothing, [0.0, 0.2, 0.4, 0.6, 0.8, 1.0]) \\\n",
    "    .build()\n",
    "\n",
    "evaluator = MulticlassClassificationEvaluator(predictionCol=\"prediction\")\n",
    "crossVal = CrossValidator(estimator=pipeline, estimatorParamMaps=paramGrid, evaluator=evaluator, numFolds=10, seed=123456)\n",
    "crossValModel = crossVal.fit(df_train)\n",
    "predictions = crossValModel.transform(df_test)\n",
    "accuracy = evaluator.evaluate(predictions, {evaluator.metricName: \"accuracy\"})\n",
    "f1 = evaluator.evaluate(predictions, {evaluator.metricName: \"f1\"})\n",
    "precision = evaluator.evaluate(predictions, {evaluator.metricName: \"weightedPrecision\"})\n",
    "recall = evaluator.evaluate(predictions, {evaluator.metricName: \"weightedRecall\"})\n",
    "\n",
    "print(\"Accuracy:\", accuracy)\n",
    "print(\"F1 Score:\", f1)\n",
    "print(\"Precision:\", precision)\n",
    "print(\"Recall:\", recall)"
   ],
   "id": "3846a3b7f7ee057c",
   "outputs": [
    {
     "name": "stderr",
     "output_type": "stream",
     "text": [
      "24/05/12 19:56:02 WARN MemoryStore: Not enough space to cache rdd_239_0 in memory! (computed 154.1 MiB so far)\n",
      "24/05/12 19:56:02 WARN BlockManager: Persisting block rdd_239_0 to disk instead.\n",
      "24/05/12 19:56:07 WARN MemoryStore: Not enough space to cache rdd_239_1 in memory! (computed 160.7 MiB so far)\n",
      "24/05/12 19:56:07 WARN BlockManager: Persisting block rdd_239_1 to disk instead.\n",
      "24/05/12 19:56:08 WARN MemoryStore: Not enough space to cache rdd_239_0 in memory! (computed 249.6 MiB so far)\n",
      "24/05/12 19:56:09 WARN MemoryStore: Not enough space to cache rdd_239_0 in memory! (computed 249.6 MiB so far)\n",
      "24/05/12 19:56:10 WARN MemoryStore: Not enough space to cache rdd_239_0 in memory! (computed 249.6 MiB so far)\n",
      "24/05/12 19:56:11 WARN MemoryStore: Not enough space to cache rdd_239_0 in memory! (computed 249.6 MiB so far)\n",
      "24/05/12 19:56:14 WARN MemoryStore: Not enough space to cache rdd_11_1 in memory! (computed 158.9 MiB so far)\n",
      "24/05/12 19:56:15 WARN DAGScheduler: Broadcasting large task binary with size 1362.8 KiB\n",
      "24/05/12 19:56:16 WARN MemoryStore: Not enough space to cache rdd_239_1 in memory! (computed 160.7 MiB so far)\n",
      "24/05/12 19:56:16 WARN MemoryStore: Not enough space to cache rdd_239_1 in memory! (computed 160.7 MiB so far)\n",
      "24/05/12 19:56:17 WARN MemoryStore: Not enough space to cache rdd_239_1 in memory! (computed 160.7 MiB so far)\n",
      "24/05/12 19:56:19 WARN MemoryStore: Not enough space to cache rdd_239_1 in memory! (computed 160.7 MiB so far)\n",
      "24/05/12 19:56:19 WARN DAGScheduler: Broadcasting large task binary with size 1362.8 KiB\n",
      "24/05/12 19:56:20 WARN MemoryStore: Not enough space to cache rdd_239_1 in memory! (computed 160.7 MiB so far)\n",
      "24/05/12 19:56:21 WARN MemoryStore: Not enough space to cache rdd_239_1 in memory! (computed 160.7 MiB so far)\n",
      "24/05/12 19:56:22 WARN MemoryStore: Not enough space to cache rdd_239_1 in memory! (computed 160.7 MiB so far)\n",
      "24/05/12 19:56:23 WARN MemoryStore: Not enough space to cache rdd_239_1 in memory! (computed 160.7 MiB so far)\n",
      "24/05/12 19:56:24 WARN DAGScheduler: Broadcasting large task binary with size 1362.8 KiB\n",
      "24/05/12 19:56:24 WARN MemoryStore: Not enough space to cache rdd_239_1 in memory! (computed 160.7 MiB so far)\n",
      "24/05/12 19:56:25 WARN MemoryStore: Not enough space to cache rdd_239_1 in memory! (computed 160.7 MiB so far)\n",
      "24/05/12 19:56:26 WARN MemoryStore: Not enough space to cache rdd_239_1 in memory! (computed 160.7 MiB so far)\n",
      "24/05/12 19:56:27 WARN MemoryStore: Not enough space to cache rdd_239_1 in memory! (computed 160.7 MiB so far)\n",
      "24/05/12 19:56:28 WARN DAGScheduler: Broadcasting large task binary with size 1362.8 KiB\n",
      "24/05/12 19:56:28 WARN MemoryStore: Not enough space to cache rdd_239_1 in memory! (computed 160.7 MiB so far)\n",
      "24/05/12 19:56:29 WARN MemoryStore: Not enough space to cache rdd_239_1 in memory! (computed 160.7 MiB so far)\n",
      "24/05/12 19:56:30 WARN MemoryStore: Not enough space to cache rdd_239_1 in memory! (computed 160.7 MiB so far)\n",
      "24/05/12 19:56:31 WARN MemoryStore: Not enough space to cache rdd_239_1 in memory! (computed 160.7 MiB so far)\n",
      "24/05/12 19:56:32 WARN DAGScheduler: Broadcasting large task binary with size 1362.8 KiB\n",
      "24/05/12 19:56:33 WARN MemoryStore: Not enough space to cache rdd_239_1 in memory! (computed 160.7 MiB so far)\n",
      "24/05/12 19:56:34 WARN MemoryStore: Not enough space to cache rdd_239_1 in memory! (computed 160.7 MiB so far)\n",
      "24/05/12 19:56:34 WARN MemoryStore: Not enough space to cache rdd_239_1 in memory! (computed 160.7 MiB so far)\n",
      "24/05/12 19:56:35 WARN MemoryStore: Not enough space to cache rdd_239_1 in memory! (computed 160.7 MiB so far)\n",
      "24/05/12 19:56:36 WARN DAGScheduler: Broadcasting large task binary with size 1362.8 KiB\n",
      "24/05/12 19:56:39 WARN MemoryStore: Not enough space to cache rdd_689_0 in memory! (computed 154.0 MiB so far)\n",
      "24/05/12 19:56:39 WARN BlockManager: Persisting block rdd_689_0 to disk instead.\n",
      "24/05/12 19:56:44 WARN MemoryStore: Not enough space to cache rdd_689_1 in memory! (computed 160.7 MiB so far)\n",
      "24/05/12 19:56:44 WARN BlockManager: Persisting block rdd_689_1 to disk instead.\n",
      "24/05/12 19:56:45 WARN MemoryStore: Not enough space to cache rdd_689_0 in memory! (computed 249.1 MiB so far)\n",
      "24/05/12 19:56:46 WARN MemoryStore: Not enough space to cache rdd_689_0 in memory! (computed 249.1 MiB so far)\n",
      "24/05/12 19:56:47 WARN MemoryStore: Not enough space to cache rdd_689_0 in memory! (computed 249.1 MiB so far)\n",
      "24/05/12 19:56:48 WARN MemoryStore: Not enough space to cache rdd_689_0 in memory! (computed 249.1 MiB so far)\n",
      "24/05/12 19:56:51 WARN MemoryStore: Not enough space to cache rdd_11_1 in memory! (computed 158.9 MiB so far)\n",
      "24/05/12 19:56:52 WARN DAGScheduler: Broadcasting large task binary with size 1366.9 KiB\n",
      "24/05/12 19:56:53 WARN MemoryStore: Not enough space to cache rdd_689_1 in memory! (computed 160.7 MiB so far)\n",
      "24/05/12 19:56:53 WARN MemoryStore: Not enough space to cache rdd_689_1 in memory! (computed 160.7 MiB so far)\n",
      "24/05/12 19:56:54 WARN MemoryStore: Not enough space to cache rdd_689_1 in memory! (computed 160.7 MiB so far)\n",
      "24/05/12 19:56:55 WARN MemoryStore: Not enough space to cache rdd_689_1 in memory! (computed 160.7 MiB so far)\n",
      "24/05/12 19:56:56 WARN DAGScheduler: Broadcasting large task binary with size 1366.9 KiB\n",
      "24/05/12 19:56:57 WARN MemoryStore: Not enough space to cache rdd_689_1 in memory! (computed 160.7 MiB so far)\n",
      "24/05/12 19:56:58 WARN MemoryStore: Not enough space to cache rdd_689_1 in memory! (computed 160.7 MiB so far)\n",
      "24/05/12 19:56:59 WARN MemoryStore: Not enough space to cache rdd_689_1 in memory! (computed 160.7 MiB so far)\n",
      "24/05/12 19:57:00 WARN MemoryStore: Not enough space to cache rdd_689_1 in memory! (computed 160.7 MiB so far)\n",
      "24/05/12 19:57:00 WARN DAGScheduler: Broadcasting large task binary with size 1366.9 KiB\n",
      "24/05/12 19:57:01 WARN MemoryStore: Not enough space to cache rdd_689_1 in memory! (computed 160.7 MiB so far)\n",
      "24/05/12 19:57:02 WARN MemoryStore: Not enough space to cache rdd_689_1 in memory! (computed 160.7 MiB so far)\n",
      "24/05/12 19:57:03 WARN MemoryStore: Not enough space to cache rdd_689_1 in memory! (computed 160.7 MiB so far)\n",
      "24/05/12 19:57:04 WARN MemoryStore: Not enough space to cache rdd_689_1 in memory! (computed 160.7 MiB so far)\n",
      "24/05/12 19:57:05 WARN DAGScheduler: Broadcasting large task binary with size 1366.9 KiB\n",
      "24/05/12 19:57:06 WARN MemoryStore: Not enough space to cache rdd_689_1 in memory! (computed 160.7 MiB so far)\n",
      "24/05/12 19:57:06 WARN MemoryStore: Not enough space to cache rdd_689_1 in memory! (computed 160.7 MiB so far)\n",
      "24/05/12 19:57:07 WARN MemoryStore: Not enough space to cache rdd_689_1 in memory! (computed 160.7 MiB so far)\n",
      "24/05/12 19:57:08 WARN MemoryStore: Not enough space to cache rdd_689_1 in memory! (computed 160.7 MiB so far)\n",
      "24/05/12 19:57:09 WARN DAGScheduler: Broadcasting large task binary with size 1366.9 KiB\n",
      "24/05/12 19:57:10 WARN MemoryStore: Not enough space to cache rdd_689_1 in memory! (computed 160.7 MiB so far)\n",
      "24/05/12 19:57:10 WARN MemoryStore: Not enough space to cache rdd_689_1 in memory! (computed 160.7 MiB so far)\n",
      "24/05/12 19:57:11 WARN MemoryStore: Not enough space to cache rdd_689_1 in memory! (computed 160.7 MiB so far)\n",
      "24/05/12 19:57:12 WARN MemoryStore: Not enough space to cache rdd_689_1 in memory! (computed 160.7 MiB so far)\n",
      "24/05/12 19:57:13 WARN DAGScheduler: Broadcasting large task binary with size 1366.9 KiB\n",
      "24/05/12 19:57:16 WARN MemoryStore: Not enough space to cache rdd_1139_0 in memory! (computed 154.3 MiB so far)\n",
      "24/05/12 19:57:16 WARN BlockManager: Persisting block rdd_1139_0 to disk instead.\n",
      "24/05/12 19:57:20 WARN MemoryStore: Not enough space to cache rdd_1139_1 in memory! (computed 160.9 MiB so far)\n",
      "24/05/12 19:57:20 WARN BlockManager: Persisting block rdd_1139_1 to disk instead.\n",
      "24/05/12 19:57:22 WARN MemoryStore: Not enough space to cache rdd_1139_0 in memory! (computed 249.3 MiB so far)\n",
      "24/05/12 19:57:23 WARN MemoryStore: Not enough space to cache rdd_1139_0 in memory! (computed 249.3 MiB so far)\n",
      "24/05/12 19:57:23 WARN MemoryStore: Not enough space to cache rdd_1139_0 in memory! (computed 249.3 MiB so far)\n",
      "24/05/12 19:57:25 WARN MemoryStore: Not enough space to cache rdd_1139_0 in memory! (computed 249.3 MiB so far)\n",
      "24/05/12 19:57:27 WARN MemoryStore: Not enough space to cache rdd_11_1 in memory! (computed 158.9 MiB so far)\n",
      "24/05/12 19:57:28 WARN DAGScheduler: Broadcasting large task binary with size 1363.9 KiB\n",
      "24/05/12 19:57:29 WARN MemoryStore: Not enough space to cache rdd_1139_1 in memory! (computed 160.9 MiB so far)\n",
      "24/05/12 19:57:30 WARN MemoryStore: Not enough space to cache rdd_1139_1 in memory! (computed 160.9 MiB so far)\n",
      "24/05/12 19:57:31 WARN MemoryStore: Not enough space to cache rdd_1139_1 in memory! (computed 160.9 MiB so far)\n",
      "24/05/12 19:57:32 WARN MemoryStore: Not enough space to cache rdd_1139_1 in memory! (computed 160.9 MiB so far)\n",
      "24/05/12 19:57:33 WARN DAGScheduler: Broadcasting large task binary with size 1363.9 KiB\n",
      "24/05/12 19:57:33 WARN MemoryStore: Not enough space to cache rdd_1139_1 in memory! (computed 160.9 MiB so far)\n",
      "24/05/12 19:57:34 WARN MemoryStore: Not enough space to cache rdd_1139_1 in memory! (computed 160.9 MiB so far)\n",
      "24/05/12 19:57:35 WARN MemoryStore: Not enough space to cache rdd_1139_1 in memory! (computed 160.9 MiB so far)\n",
      "24/05/12 19:57:36 WARN MemoryStore: Not enough space to cache rdd_1139_1 in memory! (computed 160.9 MiB so far)\n",
      "24/05/12 19:57:37 WARN DAGScheduler: Broadcasting large task binary with size 1363.9 KiB\n",
      "24/05/12 19:57:37 WARN MemoryStore: Not enough space to cache rdd_1139_1 in memory! (computed 160.9 MiB so far)\n",
      "24/05/12 19:57:38 WARN MemoryStore: Not enough space to cache rdd_1139_1 in memory! (computed 160.9 MiB so far)\n",
      "24/05/12 19:57:39 WARN MemoryStore: Not enough space to cache rdd_1139_1 in memory! (computed 160.9 MiB so far)\n",
      "24/05/12 19:57:40 WARN MemoryStore: Not enough space to cache rdd_1139_1 in memory! (computed 160.9 MiB so far)\n",
      "24/05/12 19:57:41 WARN DAGScheduler: Broadcasting large task binary with size 1363.9 KiB\n",
      "24/05/12 19:57:41 WARN MemoryStore: Not enough space to cache rdd_1139_1 in memory! (computed 160.9 MiB so far)\n",
      "24/05/12 19:57:42 WARN MemoryStore: Not enough space to cache rdd_1139_1 in memory! (computed 160.9 MiB so far)\n",
      "24/05/12 19:57:43 WARN MemoryStore: Not enough space to cache rdd_1139_1 in memory! (computed 160.9 MiB so far)\n",
      "24/05/12 19:57:44 WARN MemoryStore: Not enough space to cache rdd_1139_1 in memory! (computed 160.9 MiB so far)\n",
      "24/05/12 19:57:45 WARN DAGScheduler: Broadcasting large task binary with size 1363.9 KiB\n",
      "24/05/12 19:57:46 WARN MemoryStore: Not enough space to cache rdd_1139_1 in memory! (computed 160.9 MiB so far)\n",
      "24/05/12 19:57:46 WARN MemoryStore: Not enough space to cache rdd_1139_1 in memory! (computed 160.9 MiB so far)\n",
      "24/05/12 19:57:47 WARN MemoryStore: Not enough space to cache rdd_1139_1 in memory! (computed 160.9 MiB so far)\n",
      "24/05/12 19:57:48 WARN MemoryStore: Not enough space to cache rdd_1139_1 in memory! (computed 160.9 MiB so far)\n",
      "24/05/12 19:57:49 WARN DAGScheduler: Broadcasting large task binary with size 1363.9 KiB\n",
      "24/05/12 19:57:52 WARN MemoryStore: Not enough space to cache rdd_1589_0 in memory! (computed 154.0 MiB so far)\n",
      "24/05/12 19:57:52 WARN BlockManager: Persisting block rdd_1589_0 to disk instead.\n",
      "24/05/12 19:57:56 WARN MemoryStore: Not enough space to cache rdd_1589_1 in memory! (computed 160.7 MiB so far)\n",
      "24/05/12 19:57:56 WARN BlockManager: Persisting block rdd_1589_1 to disk instead.\n",
      "24/05/12 19:57:58 WARN MemoryStore: Not enough space to cache rdd_1589_0 in memory! (computed 248.9 MiB so far)\n",
      "24/05/12 19:57:58 WARN MemoryStore: Not enough space to cache rdd_1589_0 in memory! (computed 248.9 MiB so far)\n",
      "24/05/12 19:57:59 WARN MemoryStore: Not enough space to cache rdd_1589_0 in memory! (computed 248.9 MiB so far)\n",
      "24/05/12 19:58:01 WARN MemoryStore: Not enough space to cache rdd_1589_0 in memory! (computed 248.9 MiB so far)\n",
      "24/05/12 19:58:03 WARN MemoryStore: Not enough space to cache rdd_11_1 in memory! (computed 158.9 MiB so far)\n",
      "24/05/12 19:58:04 WARN DAGScheduler: Broadcasting large task binary with size 1365.4 KiB\n",
      "24/05/12 19:58:05 WARN MemoryStore: Not enough space to cache rdd_1589_1 in memory! (computed 160.7 MiB so far)\n",
      "24/05/12 19:58:06 WARN MemoryStore: Not enough space to cache rdd_1589_1 in memory! (computed 160.7 MiB so far)\n",
      "24/05/12 19:58:06 WARN MemoryStore: Not enough space to cache rdd_1589_1 in memory! (computed 160.7 MiB so far)\n",
      "24/05/12 19:58:07 WARN MemoryStore: Not enough space to cache rdd_1589_1 in memory! (computed 160.7 MiB so far)\n",
      "24/05/12 19:58:08 WARN DAGScheduler: Broadcasting large task binary with size 1365.4 KiB\n",
      "24/05/12 19:58:09 WARN MemoryStore: Not enough space to cache rdd_1589_1 in memory! (computed 160.7 MiB so far)\n",
      "24/05/12 19:58:10 WARN MemoryStore: Not enough space to cache rdd_1589_1 in memory! (computed 160.7 MiB so far)\n",
      "24/05/12 19:58:11 WARN MemoryStore: Not enough space to cache rdd_1589_1 in memory! (computed 160.7 MiB so far)\n",
      "24/05/12 19:58:12 WARN MemoryStore: Not enough space to cache rdd_1589_1 in memory! (computed 160.7 MiB so far)\n",
      "24/05/12 19:58:12 WARN DAGScheduler: Broadcasting large task binary with size 1365.4 KiB\n",
      "24/05/12 19:58:13 WARN MemoryStore: Not enough space to cache rdd_1589_1 in memory! (computed 160.7 MiB so far)\n",
      "24/05/12 19:58:14 WARN MemoryStore: Not enough space to cache rdd_1589_1 in memory! (computed 160.7 MiB so far)\n",
      "24/05/12 19:58:15 WARN MemoryStore: Not enough space to cache rdd_1589_1 in memory! (computed 160.7 MiB so far)\n",
      "24/05/12 19:58:16 WARN MemoryStore: Not enough space to cache rdd_1589_1 in memory! (computed 160.7 MiB so far)\n",
      "24/05/12 19:58:17 WARN DAGScheduler: Broadcasting large task binary with size 1365.4 KiB\n",
      "24/05/12 19:58:17 WARN MemoryStore: Not enough space to cache rdd_1589_1 in memory! (computed 160.7 MiB so far)\n",
      "24/05/12 19:58:18 WARN MemoryStore: Not enough space to cache rdd_1589_1 in memory! (computed 160.7 MiB so far)\n",
      "24/05/12 19:58:19 WARN MemoryStore: Not enough space to cache rdd_1589_1 in memory! (computed 160.7 MiB so far)\n",
      "24/05/12 19:58:20 WARN MemoryStore: Not enough space to cache rdd_1589_1 in memory! (computed 160.7 MiB so far)\n",
      "24/05/12 19:58:21 WARN DAGScheduler: Broadcasting large task binary with size 1365.4 KiB\n",
      "24/05/12 19:58:21 WARN MemoryStore: Not enough space to cache rdd_1589_1 in memory! (computed 160.7 MiB so far)\n",
      "24/05/12 19:58:22 WARN MemoryStore: Not enough space to cache rdd_1589_1 in memory! (computed 160.7 MiB so far)\n",
      "24/05/12 19:58:23 WARN MemoryStore: Not enough space to cache rdd_1589_1 in memory! (computed 160.7 MiB so far)\n",
      "24/05/12 19:58:24 WARN MemoryStore: Not enough space to cache rdd_1589_1 in memory! (computed 160.7 MiB so far)\n",
      "24/05/12 19:58:25 WARN DAGScheduler: Broadcasting large task binary with size 1365.4 KiB\n",
      "24/05/12 19:58:28 WARN MemoryStore: Not enough space to cache rdd_2039_0 in memory! (computed 154.0 MiB so far)\n",
      "24/05/12 19:58:28 WARN BlockManager: Persisting block rdd_2039_0 to disk instead.\n",
      "24/05/12 19:58:32 WARN MemoryStore: Not enough space to cache rdd_2039_1 in memory! (computed 160.7 MiB so far)\n",
      "24/05/12 19:58:32 WARN BlockManager: Persisting block rdd_2039_1 to disk instead.\n",
      "24/05/12 19:58:34 WARN MemoryStore: Not enough space to cache rdd_2039_0 in memory! (computed 249.4 MiB so far)\n",
      "24/05/12 19:58:34 WARN MemoryStore: Not enough space to cache rdd_2039_0 in memory! (computed 249.4 MiB so far)\n",
      "24/05/12 19:58:35 WARN MemoryStore: Not enough space to cache rdd_2039_0 in memory! (computed 249.4 MiB so far)\n",
      "24/05/12 19:58:36 WARN MemoryStore: Not enough space to cache rdd_2039_0 in memory! (computed 249.4 MiB so far)\n",
      "24/05/12 19:58:39 WARN MemoryStore: Not enough space to cache rdd_11_1 in memory! (computed 158.9 MiB so far)\n",
      "24/05/12 19:58:40 WARN DAGScheduler: Broadcasting large task binary with size 1358.3 KiB\n",
      "24/05/12 19:58:41 WARN MemoryStore: Not enough space to cache rdd_2039_1 in memory! (computed 160.7 MiB so far)\n",
      "24/05/12 19:58:41 WARN MemoryStore: Not enough space to cache rdd_2039_1 in memory! (computed 160.7 MiB so far)\n",
      "24/05/12 19:58:42 WARN MemoryStore: Not enough space to cache rdd_2039_1 in memory! (computed 160.7 MiB so far)\n",
      "24/05/12 19:58:43 WARN MemoryStore: Not enough space to cache rdd_2039_1 in memory! (computed 160.7 MiB so far)\n",
      "24/05/12 19:58:44 WARN DAGScheduler: Broadcasting large task binary with size 1358.3 KiB\n",
      "24/05/12 19:58:45 WARN MemoryStore: Not enough space to cache rdd_2039_1 in memory! (computed 160.7 MiB so far)\n",
      "24/05/12 19:58:46 WARN MemoryStore: Not enough space to cache rdd_2039_1 in memory! (computed 160.7 MiB so far)\n",
      "24/05/12 19:58:47 WARN MemoryStore: Not enough space to cache rdd_2039_1 in memory! (computed 160.7 MiB so far)\n",
      "24/05/12 19:58:48 WARN MemoryStore: Not enough space to cache rdd_2039_1 in memory! (computed 160.7 MiB so far)\n",
      "24/05/12 19:58:48 WARN DAGScheduler: Broadcasting large task binary with size 1358.3 KiB\n",
      "24/05/12 19:58:49 WARN MemoryStore: Not enough space to cache rdd_2039_1 in memory! (computed 160.7 MiB so far)\n",
      "24/05/12 19:58:50 WARN MemoryStore: Not enough space to cache rdd_2039_1 in memory! (computed 160.7 MiB so far)\n",
      "24/05/12 19:58:51 WARN MemoryStore: Not enough space to cache rdd_2039_1 in memory! (computed 160.7 MiB so far)\n",
      "24/05/12 19:58:52 WARN MemoryStore: Not enough space to cache rdd_2039_1 in memory! (computed 160.7 MiB so far)\n",
      "24/05/12 19:58:52 WARN DAGScheduler: Broadcasting large task binary with size 1358.3 KiB\n",
      "24/05/12 19:58:53 WARN MemoryStore: Not enough space to cache rdd_2039_1 in memory! (computed 160.7 MiB so far)\n",
      "24/05/12 19:58:54 WARN MemoryStore: Not enough space to cache rdd_2039_1 in memory! (computed 160.7 MiB so far)\n",
      "24/05/12 19:58:55 WARN MemoryStore: Not enough space to cache rdd_2039_1 in memory! (computed 160.7 MiB so far)\n",
      "24/05/12 19:58:56 WARN MemoryStore: Not enough space to cache rdd_2039_1 in memory! (computed 160.7 MiB so far)\n",
      "24/05/12 19:58:57 WARN DAGScheduler: Broadcasting large task binary with size 1358.3 KiB\n",
      "24/05/12 19:58:57 WARN MemoryStore: Not enough space to cache rdd_2039_1 in memory! (computed 160.7 MiB so far)\n",
      "24/05/12 19:58:58 WARN MemoryStore: Not enough space to cache rdd_2039_1 in memory! (computed 160.7 MiB so far)\n",
      "24/05/12 19:58:59 WARN MemoryStore: Not enough space to cache rdd_2039_1 in memory! (computed 160.7 MiB so far)\n",
      "24/05/12 19:59:00 WARN MemoryStore: Not enough space to cache rdd_2039_1 in memory! (computed 160.7 MiB so far)\n",
      "24/05/12 19:59:01 WARN DAGScheduler: Broadcasting large task binary with size 1358.3 KiB\n",
      "24/05/12 19:59:03 WARN MemoryStore: Not enough space to cache rdd_2489_0 in memory! (computed 154.0 MiB so far)\n",
      "24/05/12 19:59:03 WARN BlockManager: Persisting block rdd_2489_0 to disk instead.\n",
      "24/05/12 19:59:08 WARN MemoryStore: Not enough space to cache rdd_2489_1 in memory! (computed 160.9 MiB so far)\n",
      "24/05/12 19:59:08 WARN BlockManager: Persisting block rdd_2489_1 to disk instead.\n",
      "24/05/12 19:59:09 WARN MemoryStore: Not enough space to cache rdd_2489_0 in memory! (computed 249.4 MiB so far)\n",
      "24/05/12 19:59:10 WARN MemoryStore: Not enough space to cache rdd_2489_0 in memory! (computed 249.4 MiB so far)\n",
      "24/05/12 19:59:11 WARN MemoryStore: Not enough space to cache rdd_2489_0 in memory! (computed 249.4 MiB so far)\n",
      "24/05/12 19:59:12 WARN MemoryStore: Not enough space to cache rdd_2489_0 in memory! (computed 249.4 MiB so far)\n",
      "24/05/12 19:59:15 WARN MemoryStore: Not enough space to cache rdd_11_1 in memory! (computed 158.9 MiB so far)\n",
      "24/05/12 19:59:16 WARN DAGScheduler: Broadcasting large task binary with size 1359.9 KiB\n",
      "24/05/12 19:59:17 WARN MemoryStore: Not enough space to cache rdd_2489_1 in memory! (computed 160.9 MiB so far)\n",
      "24/05/12 19:59:17 WARN MemoryStore: Not enough space to cache rdd_2489_1 in memory! (computed 160.9 MiB so far)\n",
      "24/05/12 19:59:18 WARN MemoryStore: Not enough space to cache rdd_2489_1 in memory! (computed 160.9 MiB so far)\n",
      "24/05/12 19:59:19 WARN MemoryStore: Not enough space to cache rdd_2489_1 in memory! (computed 160.9 MiB so far)\n",
      "24/05/12 19:59:20 WARN DAGScheduler: Broadcasting large task binary with size 1359.9 KiB\n",
      "24/05/12 19:59:21 WARN MemoryStore: Not enough space to cache rdd_2489_1 in memory! (computed 160.9 MiB so far)\n",
      "24/05/12 19:59:22 WARN MemoryStore: Not enough space to cache rdd_2489_1 in memory! (computed 160.9 MiB so far)\n",
      "24/05/12 19:59:23 WARN MemoryStore: Not enough space to cache rdd_2489_1 in memory! (computed 160.9 MiB so far)\n",
      "24/05/12 19:59:24 WARN MemoryStore: Not enough space to cache rdd_2489_1 in memory! (computed 160.9 MiB so far)\n",
      "24/05/12 19:59:24 WARN DAGScheduler: Broadcasting large task binary with size 1359.9 KiB\n",
      "24/05/12 19:59:25 WARN MemoryStore: Not enough space to cache rdd_2489_1 in memory! (computed 160.9 MiB so far)\n",
      "24/05/12 19:59:26 WARN MemoryStore: Not enough space to cache rdd_2489_1 in memory! (computed 160.9 MiB so far)\n",
      "24/05/12 19:59:27 WARN MemoryStore: Not enough space to cache rdd_2489_1 in memory! (computed 160.9 MiB so far)\n",
      "24/05/12 19:59:28 WARN MemoryStore: Not enough space to cache rdd_2489_1 in memory! (computed 160.9 MiB so far)\n",
      "24/05/12 19:59:28 WARN DAGScheduler: Broadcasting large task binary with size 1359.9 KiB\n",
      "24/05/12 19:59:29 WARN MemoryStore: Not enough space to cache rdd_2489_1 in memory! (computed 160.9 MiB so far)\n",
      "24/05/12 19:59:30 WARN MemoryStore: Not enough space to cache rdd_2489_1 in memory! (computed 160.9 MiB so far)\n",
      "24/05/12 19:59:31 WARN MemoryStore: Not enough space to cache rdd_2489_1 in memory! (computed 160.9 MiB so far)\n",
      "24/05/12 19:59:32 WARN MemoryStore: Not enough space to cache rdd_2489_1 in memory! (computed 160.9 MiB so far)\n",
      "24/05/12 19:59:33 WARN DAGScheduler: Broadcasting large task binary with size 1359.9 KiB\n",
      "24/05/12 19:59:33 WARN MemoryStore: Not enough space to cache rdd_2489_1 in memory! (computed 160.9 MiB so far)\n",
      "24/05/12 19:59:34 WARN MemoryStore: Not enough space to cache rdd_2489_1 in memory! (computed 160.9 MiB so far)\n",
      "24/05/12 19:59:35 WARN MemoryStore: Not enough space to cache rdd_2489_1 in memory! (computed 160.9 MiB so far)\n",
      "24/05/12 19:59:36 WARN MemoryStore: Not enough space to cache rdd_2489_1 in memory! (computed 160.9 MiB so far)\n",
      "24/05/12 19:59:37 WARN DAGScheduler: Broadcasting large task binary with size 1359.9 KiB\n",
      "24/05/12 19:59:40 WARN MemoryStore: Not enough space to cache rdd_2939_0 in memory! (computed 154.1 MiB so far)\n",
      "24/05/12 19:59:40 WARN BlockManager: Persisting block rdd_2939_0 to disk instead.\n",
      "24/05/12 19:59:44 WARN MemoryStore: Not enough space to cache rdd_2939_1 in memory! (computed 161.0 MiB so far)\n",
      "24/05/12 19:59:44 WARN BlockManager: Persisting block rdd_2939_1 to disk instead.\n",
      "24/05/12 19:59:46 WARN MemoryStore: Not enough space to cache rdd_2939_0 in memory! (computed 249.3 MiB so far)\n",
      "24/05/12 19:59:46 WARN MemoryStore: Not enough space to cache rdd_2939_0 in memory! (computed 249.3 MiB so far)\n",
      "24/05/12 19:59:47 WARN MemoryStore: Not enough space to cache rdd_2939_0 in memory! (computed 249.3 MiB so far)\n",
      "24/05/12 19:59:49 WARN MemoryStore: Not enough space to cache rdd_2939_0 in memory! (computed 249.3 MiB so far)\n",
      "24/05/12 19:59:51 WARN MemoryStore: Not enough space to cache rdd_11_1 in memory! (computed 158.9 MiB so far)\n",
      "24/05/12 19:59:52 WARN DAGScheduler: Broadcasting large task binary with size 1361.7 KiB\n",
      "24/05/12 19:59:53 WARN MemoryStore: Not enough space to cache rdd_2939_1 in memory! (computed 161.0 MiB so far)\n",
      "24/05/12 19:59:54 WARN MemoryStore: Not enough space to cache rdd_2939_1 in memory! (computed 161.0 MiB so far)\n",
      "24/05/12 19:59:54 WARN MemoryStore: Not enough space to cache rdd_2939_1 in memory! (computed 161.0 MiB so far)\n",
      "24/05/12 19:59:56 WARN MemoryStore: Not enough space to cache rdd_2939_1 in memory! (computed 161.0 MiB so far)\n",
      "24/05/12 19:59:56 WARN DAGScheduler: Broadcasting large task binary with size 1361.7 KiB\n",
      "24/05/12 19:59:57 WARN MemoryStore: Not enough space to cache rdd_2939_1 in memory! (computed 161.0 MiB so far)\n",
      "24/05/12 19:59:58 WARN MemoryStore: Not enough space to cache rdd_2939_1 in memory! (computed 161.0 MiB so far)\n",
      "24/05/12 19:59:59 WARN MemoryStore: Not enough space to cache rdd_2939_1 in memory! (computed 161.0 MiB so far)\n",
      "24/05/12 20:00:00 WARN MemoryStore: Not enough space to cache rdd_2939_1 in memory! (computed 161.0 MiB so far)\n",
      "24/05/12 20:00:00 WARN DAGScheduler: Broadcasting large task binary with size 1361.7 KiB\n",
      "24/05/12 20:00:01 WARN MemoryStore: Not enough space to cache rdd_2939_1 in memory! (computed 161.0 MiB so far)\n",
      "24/05/12 20:00:02 WARN MemoryStore: Not enough space to cache rdd_2939_1 in memory! (computed 161.0 MiB so far)\n",
      "24/05/12 20:00:03 WARN MemoryStore: Not enough space to cache rdd_2939_1 in memory! (computed 161.0 MiB so far)\n",
      "24/05/12 20:00:04 WARN MemoryStore: Not enough space to cache rdd_2939_1 in memory! (computed 161.0 MiB so far)\n",
      "24/05/12 20:00:05 WARN DAGScheduler: Broadcasting large task binary with size 1361.7 KiB\n",
      "24/05/12 20:00:05 WARN MemoryStore: Not enough space to cache rdd_2939_1 in memory! (computed 161.0 MiB so far)\n",
      "24/05/12 20:00:06 WARN MemoryStore: Not enough space to cache rdd_2939_1 in memory! (computed 161.0 MiB so far)\n",
      "24/05/12 20:00:07 WARN MemoryStore: Not enough space to cache rdd_2939_1 in memory! (computed 161.0 MiB so far)\n",
      "24/05/12 20:00:08 WARN MemoryStore: Not enough space to cache rdd_2939_1 in memory! (computed 161.0 MiB so far)\n",
      "24/05/12 20:00:09 WARN DAGScheduler: Broadcasting large task binary with size 1361.7 KiB\n",
      "24/05/12 20:00:09 WARN MemoryStore: Not enough space to cache rdd_2939_1 in memory! (computed 161.0 MiB so far)\n",
      "24/05/12 20:00:10 WARN MemoryStore: Not enough space to cache rdd_2939_1 in memory! (computed 161.0 MiB so far)\n",
      "24/05/12 20:00:11 WARN MemoryStore: Not enough space to cache rdd_2939_1 in memory! (computed 161.0 MiB so far)\n",
      "24/05/12 20:00:12 WARN MemoryStore: Not enough space to cache rdd_2939_1 in memory! (computed 161.0 MiB so far)\n",
      "24/05/12 20:00:13 WARN DAGScheduler: Broadcasting large task binary with size 1361.7 KiB\n",
      "24/05/12 20:00:15 WARN MemoryStore: Not enough space to cache rdd_3389_0 in memory! (computed 154.1 MiB so far)\n",
      "24/05/12 20:00:15 WARN BlockManager: Persisting block rdd_3389_0 to disk instead.\n",
      "24/05/12 20:00:20 WARN MemoryStore: Not enough space to cache rdd_3389_1 in memory! (computed 161.0 MiB so far)\n",
      "24/05/12 20:00:20 WARN BlockManager: Persisting block rdd_3389_1 to disk instead.\n",
      "24/05/12 20:00:21 WARN MemoryStore: Not enough space to cache rdd_3389_0 in memory! (computed 249.3 MiB so far)\n",
      "24/05/12 20:00:22 WARN MemoryStore: Not enough space to cache rdd_3389_0 in memory! (computed 249.3 MiB so far)\n",
      "24/05/12 20:00:23 WARN MemoryStore: Not enough space to cache rdd_3389_0 in memory! (computed 249.3 MiB so far)\n",
      "24/05/12 20:00:24 WARN MemoryStore: Not enough space to cache rdd_3389_0 in memory! (computed 249.3 MiB so far)\n",
      "24/05/12 20:00:27 WARN MemoryStore: Not enough space to cache rdd_11_1 in memory! (computed 158.9 MiB so far)\n",
      "24/05/12 20:00:28 WARN DAGScheduler: Broadcasting large task binary with size 1364.7 KiB\n",
      "24/05/12 20:00:29 WARN MemoryStore: Not enough space to cache rdd_3389_1 in memory! (computed 161.0 MiB so far)\n",
      "24/05/12 20:00:29 WARN MemoryStore: Not enough space to cache rdd_3389_1 in memory! (computed 161.0 MiB so far)\n",
      "24/05/12 20:00:30 WARN MemoryStore: Not enough space to cache rdd_3389_1 in memory! (computed 161.0 MiB so far)\n",
      "24/05/12 20:00:32 WARN MemoryStore: Not enough space to cache rdd_3389_1 in memory! (computed 161.0 MiB so far)\n",
      "24/05/12 20:00:32 WARN DAGScheduler: Broadcasting large task binary with size 1364.7 KiB\n",
      "24/05/12 20:00:33 WARN MemoryStore: Not enough space to cache rdd_3389_1 in memory! (computed 161.0 MiB so far)\n",
      "24/05/12 20:00:34 WARN MemoryStore: Not enough space to cache rdd_3389_1 in memory! (computed 161.0 MiB so far)\n",
      "24/05/12 20:00:35 WARN MemoryStore: Not enough space to cache rdd_3389_1 in memory! (computed 161.0 MiB so far)\n",
      "24/05/12 20:00:36 WARN MemoryStore: Not enough space to cache rdd_3389_1 in memory! (computed 161.0 MiB so far)\n",
      "24/05/12 20:00:37 WARN DAGScheduler: Broadcasting large task binary with size 1364.7 KiB\n",
      "24/05/12 20:00:37 WARN MemoryStore: Not enough space to cache rdd_3389_1 in memory! (computed 161.0 MiB so far)\n",
      "24/05/12 20:00:38 WARN MemoryStore: Not enough space to cache rdd_3389_1 in memory! (computed 161.0 MiB so far)\n",
      "24/05/12 20:00:39 WARN MemoryStore: Not enough space to cache rdd_3389_1 in memory! (computed 161.0 MiB so far)\n",
      "24/05/12 20:00:40 WARN MemoryStore: Not enough space to cache rdd_3389_1 in memory! (computed 161.0 MiB so far)\n",
      "24/05/12 20:00:41 WARN DAGScheduler: Broadcasting large task binary with size 1364.7 KiB\n",
      "24/05/12 20:00:42 WARN MemoryStore: Not enough space to cache rdd_3389_1 in memory! (computed 161.0 MiB so far)\n",
      "24/05/12 20:00:43 WARN MemoryStore: Not enough space to cache rdd_3389_1 in memory! (computed 161.0 MiB so far)\n",
      "24/05/12 20:00:44 WARN MemoryStore: Not enough space to cache rdd_3389_1 in memory! (computed 161.0 MiB so far)\n",
      "24/05/12 20:00:45 WARN MemoryStore: Not enough space to cache rdd_3389_1 in memory! (computed 161.0 MiB so far)\n",
      "24/05/12 20:00:45 WARN DAGScheduler: Broadcasting large task binary with size 1364.7 KiB\n",
      "24/05/12 20:00:46 WARN MemoryStore: Not enough space to cache rdd_3389_1 in memory! (computed 161.0 MiB so far)\n",
      "24/05/12 20:00:47 WARN MemoryStore: Not enough space to cache rdd_3389_1 in memory! (computed 161.0 MiB so far)\n",
      "24/05/12 20:00:48 WARN MemoryStore: Not enough space to cache rdd_3389_1 in memory! (computed 161.0 MiB so far)\n",
      "24/05/12 20:00:49 WARN MemoryStore: Not enough space to cache rdd_3389_1 in memory! (computed 161.0 MiB so far)\n",
      "24/05/12 20:00:49 WARN DAGScheduler: Broadcasting large task binary with size 1364.7 KiB\n",
      "24/05/12 20:00:53 WARN MemoryStore: Not enough space to cache rdd_3839_0 in memory! (computed 154.1 MiB so far)\n",
      "24/05/12 20:00:53 WARN BlockManager: Persisting block rdd_3839_0 to disk instead.\n",
      "24/05/12 20:00:57 WARN MemoryStore: Not enough space to cache rdd_3839_1 in memory! (computed 160.8 MiB so far)\n",
      "24/05/12 20:00:57 WARN BlockManager: Persisting block rdd_3839_1 to disk instead.\n",
      "24/05/12 20:00:59 WARN MemoryStore: Not enough space to cache rdd_3839_0 in memory! (computed 249.2 MiB so far)\n",
      "24/05/12 20:01:00 WARN MemoryStore: Not enough space to cache rdd_3839_0 in memory! (computed 249.2 MiB so far)\n",
      "24/05/12 20:01:00 WARN MemoryStore: Not enough space to cache rdd_3839_0 in memory! (computed 249.2 MiB so far)\n",
      "24/05/12 20:01:02 WARN MemoryStore: Not enough space to cache rdd_3839_0 in memory! (computed 249.2 MiB so far)\n",
      "24/05/12 20:01:04 WARN MemoryStore: Not enough space to cache rdd_11_1 in memory! (computed 158.9 MiB so far)\n",
      "24/05/12 20:01:05 WARN DAGScheduler: Broadcasting large task binary with size 1359.3 KiB\n",
      "24/05/12 20:01:06 WARN MemoryStore: Not enough space to cache rdd_3839_1 in memory! (computed 160.8 MiB so far)\n",
      "24/05/12 20:01:07 WARN MemoryStore: Not enough space to cache rdd_3839_1 in memory! (computed 160.8 MiB so far)\n",
      "24/05/12 20:01:08 WARN MemoryStore: Not enough space to cache rdd_3839_1 in memory! (computed 160.8 MiB so far)\n",
      "24/05/12 20:01:09 WARN MemoryStore: Not enough space to cache rdd_3839_1 in memory! (computed 160.8 MiB so far)\n",
      "24/05/12 20:01:10 WARN DAGScheduler: Broadcasting large task binary with size 1359.3 KiB\n",
      "24/05/12 20:01:10 WARN MemoryStore: Not enough space to cache rdd_3839_1 in memory! (computed 160.8 MiB so far)\n",
      "24/05/12 20:01:11 WARN MemoryStore: Not enough space to cache rdd_3839_1 in memory! (computed 160.8 MiB so far)\n",
      "24/05/12 20:01:12 WARN MemoryStore: Not enough space to cache rdd_3839_1 in memory! (computed 160.8 MiB so far)\n",
      "24/05/12 20:01:13 WARN MemoryStore: Not enough space to cache rdd_3839_1 in memory! (computed 160.8 MiB so far)\n",
      "24/05/12 20:01:14 WARN DAGScheduler: Broadcasting large task binary with size 1359.3 KiB\n",
      "24/05/12 20:01:14 WARN MemoryStore: Not enough space to cache rdd_3839_1 in memory! (computed 160.8 MiB so far)\n",
      "24/05/12 20:01:15 WARN MemoryStore: Not enough space to cache rdd_3839_1 in memory! (computed 160.8 MiB so far)\n",
      "24/05/12 20:01:16 WARN MemoryStore: Not enough space to cache rdd_3839_1 in memory! (computed 160.8 MiB so far)\n",
      "24/05/12 20:01:17 WARN MemoryStore: Not enough space to cache rdd_3839_1 in memory! (computed 160.8 MiB so far)\n",
      "24/05/12 20:01:18 WARN DAGScheduler: Broadcasting large task binary with size 1359.3 KiB\n",
      "24/05/12 20:01:18 WARN MemoryStore: Not enough space to cache rdd_3839_1 in memory! (computed 160.8 MiB so far)\n",
      "24/05/12 20:01:19 WARN MemoryStore: Not enough space to cache rdd_3839_1 in memory! (computed 160.8 MiB so far)\n",
      "24/05/12 20:01:20 WARN MemoryStore: Not enough space to cache rdd_3839_1 in memory! (computed 160.8 MiB so far)\n",
      "24/05/12 20:01:21 WARN MemoryStore: Not enough space to cache rdd_3839_1 in memory! (computed 160.8 MiB so far)\n",
      "24/05/12 20:01:22 WARN DAGScheduler: Broadcasting large task binary with size 1359.3 KiB\n",
      "24/05/12 20:01:22 WARN MemoryStore: Not enough space to cache rdd_3839_1 in memory! (computed 160.8 MiB so far)\n",
      "24/05/12 20:01:23 WARN MemoryStore: Not enough space to cache rdd_3839_1 in memory! (computed 160.8 MiB so far)\n",
      "24/05/12 20:01:24 WARN MemoryStore: Not enough space to cache rdd_3839_1 in memory! (computed 160.8 MiB so far)\n",
      "24/05/12 20:01:25 WARN MemoryStore: Not enough space to cache rdd_3839_1 in memory! (computed 160.8 MiB so far)\n",
      "24/05/12 20:01:26 WARN DAGScheduler: Broadcasting large task binary with size 1359.3 KiB\n",
      "24/05/12 20:01:29 WARN MemoryStore: Not enough space to cache rdd_4289_0 in memory! (computed 154.0 MiB so far)\n",
      "24/05/12 20:01:29 WARN BlockManager: Persisting block rdd_4289_0 to disk instead.\n",
      "24/05/12 20:01:33 WARN MemoryStore: Not enough space to cache rdd_4289_1 in memory! (computed 160.8 MiB so far)\n",
      "24/05/12 20:01:33 WARN BlockManager: Persisting block rdd_4289_1 to disk instead.\n",
      "24/05/12 20:01:34 WARN MemoryStore: Not enough space to cache rdd_4289_0 in memory! (computed 249.3 MiB so far)\n",
      "24/05/12 20:01:35 WARN MemoryStore: Not enough space to cache rdd_4289_0 in memory! (computed 249.3 MiB so far)\n",
      "24/05/12 20:01:36 WARN MemoryStore: Not enough space to cache rdd_4289_0 in memory! (computed 249.3 MiB so far)\n",
      "24/05/12 20:01:37 WARN MemoryStore: Not enough space to cache rdd_4289_0 in memory! (computed 249.3 MiB so far)\n",
      "24/05/12 20:01:40 WARN MemoryStore: Not enough space to cache rdd_11_1 in memory! (computed 158.9 MiB so far)\n",
      "24/05/12 20:01:40 WARN DAGScheduler: Broadcasting large task binary with size 1363.4 KiB\n",
      "24/05/12 20:01:41 WARN MemoryStore: Not enough space to cache rdd_4289_1 in memory! (computed 160.8 MiB so far)\n",
      "24/05/12 20:01:42 WARN MemoryStore: Not enough space to cache rdd_4289_1 in memory! (computed 160.8 MiB so far)\n",
      "24/05/12 20:01:43 WARN MemoryStore: Not enough space to cache rdd_4289_1 in memory! (computed 160.8 MiB so far)\n",
      "24/05/12 20:01:44 WARN MemoryStore: Not enough space to cache rdd_4289_1 in memory! (computed 160.8 MiB so far)\n",
      "24/05/12 20:01:45 WARN DAGScheduler: Broadcasting large task binary with size 1363.4 KiB\n",
      "24/05/12 20:01:46 WARN MemoryStore: Not enough space to cache rdd_4289_1 in memory! (computed 160.8 MiB so far)\n",
      "24/05/12 20:01:46 WARN MemoryStore: Not enough space to cache rdd_4289_1 in memory! (computed 160.8 MiB so far)\n",
      "24/05/12 20:01:47 WARN MemoryStore: Not enough space to cache rdd_4289_1 in memory! (computed 160.8 MiB so far)\n",
      "24/05/12 20:01:48 WARN MemoryStore: Not enough space to cache rdd_4289_1 in memory! (computed 160.8 MiB so far)\n",
      "24/05/12 20:01:49 WARN DAGScheduler: Broadcasting large task binary with size 1363.4 KiB\n",
      "24/05/12 20:01:50 WARN MemoryStore: Not enough space to cache rdd_4289_1 in memory! (computed 160.8 MiB so far)\n",
      "24/05/12 20:01:50 WARN MemoryStore: Not enough space to cache rdd_4289_1 in memory! (computed 160.8 MiB so far)\n",
      "24/05/12 20:01:51 WARN MemoryStore: Not enough space to cache rdd_4289_1 in memory! (computed 160.8 MiB so far)\n",
      "24/05/12 20:01:52 WARN MemoryStore: Not enough space to cache rdd_4289_1 in memory! (computed 160.8 MiB so far)\n",
      "24/05/12 20:01:53 WARN DAGScheduler: Broadcasting large task binary with size 1363.4 KiB\n",
      "24/05/12 20:01:54 WARN MemoryStore: Not enough space to cache rdd_4289_1 in memory! (computed 160.8 MiB so far)\n",
      "24/05/12 20:01:54 WARN MemoryStore: Not enough space to cache rdd_4289_1 in memory! (computed 160.8 MiB so far)\n",
      "24/05/12 20:01:55 WARN MemoryStore: Not enough space to cache rdd_4289_1 in memory! (computed 160.8 MiB so far)\n",
      "24/05/12 20:01:56 WARN MemoryStore: Not enough space to cache rdd_4289_1 in memory! (computed 160.8 MiB so far)\n",
      "24/05/12 20:01:57 WARN DAGScheduler: Broadcasting large task binary with size 1363.4 KiB\n",
      "24/05/12 20:01:57 WARN MemoryStore: Not enough space to cache rdd_4289_1 in memory! (computed 160.8 MiB so far)\n",
      "24/05/12 20:01:58 WARN MemoryStore: Not enough space to cache rdd_4289_1 in memory! (computed 160.8 MiB so far)\n",
      "24/05/12 20:01:59 WARN MemoryStore: Not enough space to cache rdd_4289_1 in memory! (computed 160.8 MiB so far)\n",
      "24/05/12 20:02:00 WARN MemoryStore: Not enough space to cache rdd_4289_1 in memory! (computed 160.8 MiB so far)\n",
      "24/05/12 20:02:01 WARN DAGScheduler: Broadcasting large task binary with size 1363.4 KiB\n",
      "24/05/12 20:02:02 WARN MemoryStore: Not enough space to cache rdd_11_1 in memory! (computed 158.9 MiB so far)\n",
      "24/05/12 20:02:03 WARN MemoryStore: Not enough space to cache rdd_11_1 in memory! (computed 158.9 MiB so far)\n",
      "24/05/12 20:02:04 WARN MemoryStore: Not enough space to cache rdd_11_1 in memory! (computed 158.9 MiB so far)\n",
      "24/05/12 20:02:05 WARN MemoryStore: Not enough space to cache rdd_11_1 in memory! (computed 158.9 MiB so far)\n",
      "24/05/12 20:02:06 WARN DAGScheduler: Broadcasting large task binary with size 1415.2 KiB\n",
      "24/05/12 20:02:07 WARN DAGScheduler: Broadcasting large task binary with size 1415.2 KiB\n",
      "24/05/12 20:02:07 WARN DAGScheduler: Broadcasting large task binary with size 1415.2 KiB\n",
      "24/05/12 20:02:08 WARN DAGScheduler: Broadcasting large task binary with size 1415.2 KiB\n"
     ]
    },
    {
     "name": "stdout",
     "output_type": "stream",
     "text": [
      "Accuracy: 0.6441351888667992\n",
      "F1 Score: 0.6431669928478216\n",
      "Precision: 0.7172081420868828\n",
      "Recall: 0.6441351888667992\n"
     ]
    }
   ],
   "execution_count": 10
  },
  {
   "metadata": {
    "ExecuteTime": {
     "end_time": "2024-05-12T19:02:08.788195Z",
     "start_time": "2024-05-12T19:02:08.785238Z"
    }
   },
   "cell_type": "code",
   "source": [
    "bestPipelineModel = crossValModel.bestModel\n",
    "bestModel = bestPipelineModel.stages[-1]\n",
    "bestParams = bestModel.extractParamMap()\n",
    "# crossValModel.getEstimatorParamMaps()[np.argmax(crossValModel.avgMetrics)]"
   ],
   "id": "b2218442feaf964c",
   "outputs": [],
   "execution_count": 11
  },
  {
   "metadata": {
    "ExecuteTime": {
     "end_time": "2024-05-12T19:02:08.792255Z",
     "start_time": "2024-05-12T19:02:08.789223Z"
    }
   },
   "cell_type": "code",
   "source": "bestModel",
   "id": "7f24e1f8366988b7",
   "outputs": [
    {
     "data": {
      "text/plain": [
       "NaiveBayesModel: uid=NaiveBayes_780c8a6ce2f0, modelType=multinomial, numClasses=3, numFeatures=25315"
      ]
     },
     "execution_count": 12,
     "metadata": {},
     "output_type": "execute_result"
    }
   ],
   "execution_count": 12
  },
  {
   "metadata": {},
   "cell_type": "markdown",
   "source": "## 4.2 Train-Validation Split",
   "id": "8f8eda739362059"
  },
  {
   "metadata": {
    "ExecuteTime": {
     "end_time": "2024-05-12T19:02:51.066374Z",
     "start_time": "2024-05-12T19:02:08.792910Z"
    }
   },
   "cell_type": "code",
   "source": [
    "# using Train Validation Split\n",
    "pipeline, _ = pipelineCv()\n",
    "evaluator = MulticlassClassificationEvaluator(predictionCol=\"prediction\")\n",
    "\n",
    "trainValidationSplit = TrainValidationSplit(\n",
    "    estimator=pipeline\n",
    "    ,estimatorParamMaps=paramGrid\n",
    "    ,evaluator=evaluator\n",
    "    ,trainRatio=0.8\n",
    "    ,seed=123456\n",
    ")\n",
    "trainValidationSplitModel = trainValidationSplit.fit(df_train)\n",
    "predictions = trainValidationSplitModel.transform(df_test)\n",
    "\n",
    "accuracy = evaluator.evaluate(predictions, {evaluator.metricName: \"accuracy\"})\n",
    "f1 = evaluator.evaluate(predictions, {evaluator.metricName: \"f1\"})\n",
    "precision = evaluator.evaluate(predictions, {evaluator.metricName: \"weightedPrecision\"})\n",
    "recall = evaluator.evaluate(predictions, {evaluator.metricName: \"weightedRecall\"})\n",
    "\n",
    "print(\"Accuracy:\", accuracy)\n",
    "print(\"F1 Score:\", f1)\n",
    "print(\"Precision:\", precision)\n",
    "print(\"Recall:\", recall)"
   ],
   "id": "5f91738d16a6ae41",
   "outputs": [
    {
     "name": "stderr",
     "output_type": "stream",
     "text": [
      "24/05/12 20:02:11 WARN MemoryStore: Not enough space to cache rdd_4851_0 in memory! (computed 156.6 MiB so far)\n",
      "24/05/12 20:02:11 WARN BlockManager: Persisting block rdd_4851_0 to disk instead.\n",
      "24/05/12 20:02:16 WARN MemoryStore: Not enough space to cache rdd_4851_1 in memory! (computed 163.1 MiB so far)\n",
      "24/05/12 20:02:16 WARN BlockManager: Persisting block rdd_4851_1 to disk instead.\n",
      "24/05/12 20:02:22 WARN MemoryStore: Not enough space to cache rdd_11_1 in memory! (computed 158.9 MiB so far)\n",
      "24/05/12 20:02:23 WARN DAGScheduler: Broadcasting large task binary with size 1290.2 KiB\n",
      "24/05/12 20:02:24 WARN MemoryStore: Not enough space to cache rdd_4851_1 in memory! (computed 163.1 MiB so far)\n",
      "24/05/12 20:02:25 WARN MemoryStore: Not enough space to cache rdd_4851_1 in memory! (computed 163.1 MiB so far)\n",
      "24/05/12 20:02:26 WARN MemoryStore: Not enough space to cache rdd_4851_1 in memory! (computed 163.1 MiB so far)\n",
      "24/05/12 20:02:27 WARN MemoryStore: Not enough space to cache rdd_4851_1 in memory! (computed 163.1 MiB so far)\n",
      "24/05/12 20:02:27 WARN DAGScheduler: Broadcasting large task binary with size 1290.2 KiB\n",
      "24/05/12 20:02:28 WARN MemoryStore: Not enough space to cache rdd_4851_1 in memory! (computed 163.1 MiB so far)\n",
      "24/05/12 20:02:29 WARN MemoryStore: Not enough space to cache rdd_4851_1 in memory! (computed 163.1 MiB so far)\n",
      "24/05/12 20:02:30 WARN MemoryStore: Not enough space to cache rdd_4851_1 in memory! (computed 163.1 MiB so far)\n",
      "24/05/12 20:02:31 WARN MemoryStore: Not enough space to cache rdd_4851_1 in memory! (computed 163.1 MiB so far)\n",
      "24/05/12 20:02:31 WARN DAGScheduler: Broadcasting large task binary with size 1290.2 KiB\n",
      "24/05/12 20:02:32 WARN MemoryStore: Not enough space to cache rdd_4851_1 in memory! (computed 163.1 MiB so far)\n",
      "24/05/12 20:02:33 WARN MemoryStore: Not enough space to cache rdd_4851_1 in memory! (computed 163.1 MiB so far)\n",
      "24/05/12 20:02:34 WARN MemoryStore: Not enough space to cache rdd_4851_1 in memory! (computed 163.1 MiB so far)\n",
      "24/05/12 20:02:35 WARN MemoryStore: Not enough space to cache rdd_4851_1 in memory! (computed 163.1 MiB so far)\n",
      "24/05/12 20:02:35 WARN DAGScheduler: Broadcasting large task binary with size 1290.2 KiB\n",
      "24/05/12 20:02:36 WARN MemoryStore: Not enough space to cache rdd_4851_1 in memory! (computed 163.1 MiB so far)\n",
      "24/05/12 20:02:37 WARN MemoryStore: Not enough space to cache rdd_4851_1 in memory! (computed 163.1 MiB so far)\n",
      "24/05/12 20:02:38 WARN MemoryStore: Not enough space to cache rdd_4851_1 in memory! (computed 163.1 MiB so far)\n",
      "24/05/12 20:02:39 WARN MemoryStore: Not enough space to cache rdd_4851_1 in memory! (computed 163.1 MiB so far)\n",
      "24/05/12 20:02:40 WARN DAGScheduler: Broadcasting large task binary with size 1290.2 KiB\n",
      "24/05/12 20:02:40 WARN MemoryStore: Not enough space to cache rdd_4851_1 in memory! (computed 163.1 MiB so far)\n",
      "24/05/12 20:02:41 WARN MemoryStore: Not enough space to cache rdd_4851_1 in memory! (computed 163.1 MiB so far)\n",
      "24/05/12 20:02:42 WARN MemoryStore: Not enough space to cache rdd_4851_1 in memory! (computed 163.1 MiB so far)\n",
      "24/05/12 20:02:43 WARN MemoryStore: Not enough space to cache rdd_4851_1 in memory! (computed 163.1 MiB so far)\n",
      "24/05/12 20:02:43 WARN DAGScheduler: Broadcasting large task binary with size 1290.2 KiB\n",
      "24/05/12 20:02:45 WARN MemoryStore: Not enough space to cache rdd_11_1 in memory! (computed 158.9 MiB so far)\n",
      "24/05/12 20:02:45 WARN MemoryStore: Not enough space to cache rdd_11_1 in memory! (computed 158.9 MiB so far)\n",
      "24/05/12 20:02:46 WARN MemoryStore: Not enough space to cache rdd_11_1 in memory! (computed 158.9 MiB so far)\n",
      "24/05/12 20:02:48 WARN MemoryStore: Not enough space to cache rdd_11_1 in memory! (computed 158.9 MiB so far)\n",
      "24/05/12 20:02:48 WARN DAGScheduler: Broadcasting large task binary with size 1415.2 KiB\n",
      "24/05/12 20:02:49 WARN DAGScheduler: Broadcasting large task binary with size 1415.2 KiB\n",
      "24/05/12 20:02:50 WARN DAGScheduler: Broadcasting large task binary with size 1415.2 KiB\n",
      "24/05/12 20:02:50 WARN DAGScheduler: Broadcasting large task binary with size 1415.2 KiB\n"
     ]
    },
    {
     "name": "stdout",
     "output_type": "stream",
     "text": [
      "Accuracy: 0.6441351888667992\n",
      "F1 Score: 0.6431669928478216\n",
      "Precision: 0.7172081420868828\n",
      "Recall: 0.6441351888667992\n"
     ]
    }
   ],
   "execution_count": 13
  },
  {
   "metadata": {
    "ExecuteTime": {
     "end_time": "2024-05-12T19:02:52.852983Z",
     "start_time": "2024-05-12T19:02:51.067500Z"
    }
   },
   "cell_type": "code",
   "source": [
    "labels =['Negative', 'Neutral', 'Positive']\n",
    "sns.heatmap(MulticlassMetrics(predictions['label','prediction'].rdd).confusionMatrix().toArray(),\n",
    "            cmap='viridis',\n",
    "            annot=True,fmt='0',\n",
    "            cbar=False, \n",
    "            xticklabels=labels, \n",
    "            yticklabels=labels)"
   ],
   "id": "8070d912d4f2bc36",
   "outputs": [
    {
     "name": "stderr",
     "output_type": "stream",
     "text": [
      "/Users/abeljohny/My/Uni/Modules/2 Spring/COMP4030 Data Science with ML/ctos/.venv/lib/python3.11/site-packages/pyspark/sql/context.py:158: FutureWarning: Deprecated in 3.0.0. Use SparkSession.builder.getOrCreate() instead.\n",
      "  warnings.warn(\n",
      "24/05/12 20:02:51 WARN DAGScheduler: Broadcasting large task binary with size 1400.5 KiB\n",
      "24/05/12 20:02:51 WARN DAGScheduler: Broadcasting large task binary with size 1414.1 KiB\n",
      "                                                                                \r"
     ]
    },
    {
     "data": {
      "text/plain": [
       "<Axes: >"
      ]
     },
     "execution_count": 14,
     "metadata": {},
     "output_type": "execute_result"
    },
    {
     "data": {
      "text/plain": [
       "<Figure size 640x480 with 1 Axes>"
      ],
      "image/png": "[encoded data removed]"
     },
     "metadata": {},
     "output_type": "display_data"
    }
   ],
   "execution_count": 14
  },
  {
   "metadata": {
    "ExecuteTime": {
     "end_time": "2024-05-12T19:02:53.623523Z",
     "start_time": "2024-05-12T19:02:52.854288Z"
    }
   },
   "cell_type": "code",
   "source": "sparkSession.stop()",
   "id": "f941d6b42a73d9f9",
   "outputs": [],
   "execution_count": 15
  }
 ],
 "metadata": {
  "kernelspec": {
   "display_name": "Python 3 (ipykernel)",
   "language": "python",
   "name": "python3"
  },
  "language_info": {
   "codemirror_mode": {
    "name": "ipython",
    "version": 3
   },
   "file_extension": ".py",
   "mimetype": "text/x-python",
   "name": "python",
   "nbconvert_exporter": "python",
   "pygments_lexer": "ipython3",
   "version": "3.12.3"
  }
 },
 "nbformat": 4,
 "nbformat_minor": 5
}
