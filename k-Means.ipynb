{
 "cells": [
  {
   "metadata": {},
   "cell_type": "markdown",
   "source": [
    "# Unsupervised Sentiment Classifier using K-Means for Twitter Political Data \n",
    "This notebook explains in details various steps implemented for an unsupervised classifier using K-Means. The steps we've taken have been broken into stages (represented as `<stage number> - <stage name>`)."
   ],
   "id": "8f19a833af39b36c"
  },
  {
   "metadata": {},
   "cell_type": "markdown",
   "source": [
    "# 1 - Getting Started\n",
    "In this stage, we:\n",
    "\n",
    "a. Install and import all dependencies required for the challenge.\n",
    "\n",
    "b. Initialize Spark Session.\n",
    "\n",
    "c. Read and cache dataset."
   ],
   "id": "799f3ac92684c2a4"
  },
  {
   "metadata": {
    "ExecuteTime": {
     "end_time": "2024-05-12T13:04:06.871873Z",
     "start_time": "2024-05-12T13:04:06.868060Z"
    }
   },
   "cell_type": "code",
   "source": [
    "%matplotlib inline \n",
    "from src.jobs.spark_etl import extract\n",
    "from src.utils.dataset import getPolarity\n",
    "from src.utils.spark import initSparkSession\n",
    "from src.transforms.Preprocessing import CleanTweet, polarityCalculator\n",
    "from pyspark.ml import Pipeline\n",
    "from pyspark.ml.feature import RegexTokenizer, StopWordsRemover, CountVectorizer, IDF, MinMaxScaler, SQLTransformer, StringIndexer\n",
    "from pyspark.ml.clustering import KMeans\n",
    "from pyspark.ml.evaluation import MulticlassClassificationEvaluator\n",
    "import numpy as np"
   ],
   "id": "4ffce9289d08b3c1",
   "outputs": [],
   "execution_count": 18
  },
  {
   "metadata": {
    "ExecuteTime": {
     "end_time": "2024-05-12T13:04:06.947880Z",
     "start_time": "2024-05-12T13:04:06.872663Z"
    }
   },
   "cell_type": "code",
   "source": [
    "# Spark Session for ETL job\n",
    "sparkSession = initSparkSession(appName='k-Means')\n",
    "sparkSession"
   ],
   "id": "e7d707043f6dcdf3",
   "outputs": [
    {
     "name": "stderr",
     "output_type": "stream",
     "text": [
      "24/05/12 14:04:06 WARN Utils: Service 'SparkUI' could not bind on port 4040. Attempting port 4041.\n",
      "24/05/12 14:04:06 WARN Utils: Service 'SparkUI' could not bind on port 4041. Attempting port 4042.\n",
      "24/05/12 14:04:06 WARN Utils: Service 'SparkUI' could not bind on port 4042. Attempting port 4043.\n",
      "24/05/12 14:04:06 WARN Utils: Service 'SparkUI' could not bind on port 4043. Attempting port 4044.\n",
      "24/05/12 14:04:06 WARN Utils: Service 'SparkUI' could not bind on port 4044. Attempting port 4045.\n",
      "24/05/12 14:04:06 WARN Utils: Service 'SparkUI' could not bind on port 4045. Attempting port 4046.\n",
      "24/05/12 14:04:06 WARN Utils: Service 'SparkUI' could not bind on port 4046. Attempting port 4047.\n",
      "24/05/12 14:04:06 WARN Utils: Service 'SparkUI' could not bind on port 4047. Attempting port 4048.\n",
      "24/05/12 14:04:06 WARN Utils: Service 'SparkUI' could not bind on port 4048. Attempting port 4049.\n"
     ]
    },
    {
     "data": {
      "text/plain": [
       "<pyspark.sql.session.SparkSession at 0x174eac850>"
      ],
      "text/html": [
       "\n",
       "            <div>\n",
       "                <p><b>SparkSession - in-memory</b></p>\n",
       "                \n",
       "        <div>\n",
       "            <p><b>SparkContext</b></p>\n",
       "\n",
       "            <p><a href=\"http://10.247.203.189:4049\">Spark UI</a></p>\n",
       "\n",
       "            <dl>\n",
       "              <dt>Version</dt>\n",
       "                <dd><code>v3.5.1</code></dd>\n",
       "              <dt>Master</dt>\n",
       "                <dd><code>local</code></dd>\n",
       "              <dt>AppName</dt>\n",
       "                <dd><code>k-Means</code></dd>\n",
       "            </dl>\n",
       "        </div>\n",
       "        \n",
       "            </div>\n",
       "        "
      ]
     },
     "execution_count": 19,
     "metadata": {},
     "output_type": "execute_result"
    }
   ],
   "execution_count": 19
  },
  {
   "metadata": {
    "ExecuteTime": {
     "end_time": "2024-05-12T13:04:06.992637Z",
     "start_time": "2024-05-12T13:04:06.948697Z"
    }
   },
   "cell_type": "code",
   "source": [
    "df = extract(sparkSession)\n",
    "df_train, df_test = df.randomSplit([0.70, 0.30], seed=123456) \n",
    "df_train.cache()\n",
    "df_test.cache()"
   ],
   "id": "f29041c0bf97f5e6",
   "outputs": [
    {
     "data": {
      "text/plain": [
       "DataFrame[created_at: timestamp, tweet_id: string, tweet: string, likes: float, retweet_count: float, source: string, user_id: string, user_name: string, user_screen_name: string, user_description: string, user_join_date: timestamp, user_followers_count: float, user_location: string, lat: double, long: double, city: string, country: string, continent: string, state: string, state_code: string, collected_at: timestamp, candidate: string]"
      ]
     },
     "execution_count": 20,
     "metadata": {},
     "output_type": "execute_result"
    }
   ],
   "execution_count": 20
  },
  {
   "metadata": {},
   "cell_type": "markdown",
   "source": [
    "# 2 - Spark User Defined Function (UDF)\n",
    "In this stage, we implement an UDF for labelling our dataset using a rule-based algorithm. "
   ],
   "id": "9e3a540269e431cf"
  },
  {
   "metadata": {
    "ExecuteTime": {
     "end_time": "2024-05-12T13:04:07.001179Z",
     "start_time": "2024-05-12T13:04:06.993407Z"
    }
   },
   "cell_type": "code",
   "source": "polarity = sparkSession.udf.register('Polarity', lambda record: getPolarity(record))",
   "id": "caa6f959913d9e3b",
   "outputs": [],
   "execution_count": 21
  },
  {
   "metadata": {},
   "cell_type": "markdown",
   "source": [
    "# 3 - Pipelines\n",
    "In this stage, we implemented a pipeline for data cleaning and vectorizing features.    "
   ],
   "id": "1f3957d0b8d1b707"
  },
  {
   "metadata": {
    "ExecuteTime": {
     "end_time": "2024-05-12T13:04:29.513938Z",
     "start_time": "2024-05-12T13:04:07.001953Z"
    }
   },
   "cell_type": "code",
   "source": [
    "# define pipeline stages\n",
    "cleanTweet = CleanTweet()\n",
    "regexTokenizer = RegexTokenizer(inputCol=\"cleaned_tweet\", outputCol=\"cleaned_tweet_words\", pattern=\"[^a-zA-Z0-9_#]\")\n",
    "stopWordsRemover = StopWordsRemover(inputCol='cleaned_tweet_words', outputCol='cleaned_tweet_nostop')\n",
    "polarityCalc = polarityCalculator()\n",
    "countVectorizer = CountVectorizer(inputCol='cleaned_tweet_nostop', outputCol='cv')\n",
    "idf = IDF(inputCol='cv', outputCol=\"features\")\n",
    "sentimentStringIdx = StringIndexer(inputCol = \"polarity\", outputCol = \"label\")\n",
    "stages = [cleanTweet, regexTokenizer, stopWordsRemover, polarityCalc, countVectorizer, idf, sentimentStringIdx]\n",
    "\n",
    "pipelineModel = Pipeline(stages=stages).fit(df_train)\n",
    "\n",
    "df_train = pipelineModel.transform(df_train)"
   ],
   "id": "10576c90487f58a2",
   "outputs": [
    {
     "name": "stderr",
     "output_type": "stream",
     "text": [
      "24/05/12 14:04:16 WARN MemoryStore: Not enough space to cache rdd_11_0 in memory! (computed 262.6 MiB so far)\n",
      "24/05/12 14:04:16 WARN BlockManager: Persisting block rdd_11_0 to disk instead.\n",
      "24/05/12 14:04:25 WARN MemoryStore: Not enough space to cache rdd_11_0 in memory! (computed 150.6 MiB so far)\n",
      "24/05/12 14:04:26 WARN MemoryStore: Not enough space to cache rdd_11_0 in memory! (computed 150.6 MiB so far)\n",
      "24/05/12 14:04:27 WARN MemoryStore: Not enough space to cache rdd_11_0 in memory! (computed 150.6 MiB so far)\n",
      "                                                                                \r"
     ]
    }
   ],
   "execution_count": 22
  },
  {
   "metadata": {
    "ExecuteTime": {
     "end_time": "2024-05-12T13:04:29.517884Z",
     "start_time": "2024-05-12T13:04:29.515084Z"
    }
   },
   "cell_type": "code",
   "source": "df_train.printSchema()",
   "id": "b9aaec8abca55c7d",
   "outputs": [
    {
     "name": "stdout",
     "output_type": "stream",
     "text": [
      "root\n",
      " |-- tweet_id: string (nullable = true)\n",
      " |-- created_at: timestamp (nullable = true)\n",
      " |-- tweet: string (nullable = true)\n",
      " |-- likes: float (nullable = true)\n",
      " |-- retweet_count: float (nullable = true)\n",
      " |-- source: string (nullable = true)\n",
      " |-- user_id: string (nullable = true)\n",
      " |-- user_join_date: timestamp (nullable = true)\n",
      " |-- user_followers_count: float (nullable = true)\n",
      " |-- user_location: string (nullable = true)\n",
      " |-- lat: double (nullable = true)\n",
      " |-- long: double (nullable = true)\n",
      " |-- city: string (nullable = true)\n",
      " |-- state: string (nullable = true)\n",
      " |-- state_code: string (nullable = true)\n",
      " |-- tweet: string (nullable = true)\n",
      " |-- candidate: string (nullable = false)\n",
      " |-- cleaned_tweet_nostop: array (nullable = true)\n",
      " |    |-- element: string (containsNull = true)\n",
      " |-- polarity: string (nullable = true)\n",
      " |-- cv: vector (nullable = true)\n",
      " |-- features: vector (nullable = true)\n",
      " |-- label: double (nullable = false)\n",
      "\n"
     ]
    }
   ],
   "execution_count": 23
  },
  {
   "metadata": {},
   "cell_type": "markdown",
   "source": [
    "# 4 - Implementing K-Means\n",
    "## Experimenting with 3 clusters"
   ],
   "id": "b74c054ff4eccb92"
  },
  {
   "metadata": {
    "ExecuteTime": {
     "end_time": "2024-05-12T13:04:48.877544Z",
     "start_time": "2024-05-12T13:04:29.518556Z"
    }
   },
   "cell_type": "code",
   "source": [
    "kmeans = KMeans().setMaxIter(400).setK(3).setSeed(1).setDistanceMeasure('cosine')  \n",
    "kMeansModel = kmeans.fit(df_train)\n",
    "predictions = kMeansModel.transform(pipelineModel.transform(df_test))\n",
    "predictions.select('tweet_id', 'tweet', 'label', 'prediction').limit(100).toPandas()"
   ],
   "id": "c8aa4f0c9f2127b0",
   "outputs": [
    {
     "name": "stderr",
     "output_type": "stream",
     "text": [
      "24/05/12 14:04:29 WARN MemoryStore: Not enough space to cache rdd_11_0 in memory! (computed 150.6 MiB so far)\n",
      "24/05/12 14:04:30 WARN MemoryStore: Not enough space to cache rdd_11_0 in memory! (computed 150.6 MiB so far)\n",
      "24/05/12 14:04:31 WARN MemoryStore: Not enough space to cache rdd_11_0 in memory! (computed 150.6 MiB so far)\n",
      "24/05/12 14:04:33 WARN DAGScheduler: Broadcasting large task binary with size 1392.8 KiB\n",
      "24/05/12 14:04:33 WARN MemoryStore: Not enough space to cache rdd_11_0 in memory! (computed 150.6 MiB so far)\n",
      "24/05/12 14:04:33 WARN DAGScheduler: Broadcasting large task binary with size 1381.3 KiB\n",
      "24/05/12 14:04:48 WARN DAGScheduler: Broadcasting large task binary with size 1392.9 KiB\n",
      "                                                                                \r"
     ]
    },
    {
     "data": {
      "text/plain": [
       "                  tweet_id                                              tweet  \\\n",
       "0   1.3165296068962304e+18  Ice Cube is teaming up to work with President ...   \n",
       "1    1.316532492795605e+18  @CNN @HarrietD428 This is true!\\n\\nIn a relate...   \n",
       "2    1.316546586227376e+18  \"First the corporate hack-media refused to cov...   \n",
       "3   1.3165466968648172e+18  #Iowa experienced severe devastation from the ...   \n",
       "4   1.3165493286773432e+18  If @CBS is willing, I'd be happy to do a #Town...   \n",
       "..                     ...                                                ...   \n",
       "95  1.3169061333664932e+18  The stage set up matters a lot in the tone of ...   \n",
       "96  1.3169063036425462e+18  Lie lie lie Lie. Right now #trump is trying to...   \n",
       "97  1.3169063288839086e+18  @MichaelJGwin @TVietor08 #Trump’s claim that h...   \n",
       "98  1.3169079052501975e+18  Actually a fine last question from #SavannahGu...   \n",
       "99  1.3169082976482468e+18  @AdamParkhomenko Lady complimented #Trump’s fa...   \n",
       "\n",
       "    label  prediction  \n",
       "0     0.0           0  \n",
       "1     1.0           1  \n",
       "2     1.0           1  \n",
       "3     1.0           1  \n",
       "4     1.0           1  \n",
       "..    ...         ...  \n",
       "95    1.0           1  \n",
       "96    1.0           1  \n",
       "97    1.0           1  \n",
       "98    1.0           1  \n",
       "99    2.0           1  \n",
       "\n",
       "[100 rows x 4 columns]"
      ],
      "text/html": [
       "<div>\n",
       "<style scoped>\n",
       "    .dataframe tbody tr th:only-of-type {\n",
       "        vertical-align: middle;\n",
       "    }\n",
       "\n",
       "    .dataframe tbody tr th {\n",
       "        vertical-align: top;\n",
       "    }\n",
       "\n",
       "    .dataframe thead th {\n",
       "        text-align: right;\n",
       "    }\n",
       "</style>\n",
       "<table border=\"1\" class=\"dataframe\">\n",
       "  <thead>\n",
       "    <tr style=\"text-align: right;\">\n",
       "      <th></th>\n",
       "      <th>tweet_id</th>\n",
       "      <th>tweet</th>\n",
       "      <th>label</th>\n",
       "      <th>prediction</th>\n",
       "    </tr>\n",
       "  </thead>\n",
       "  <tbody>\n",
       "    <tr>\n",
       "      <th>0</th>\n",
       "      <td>1.3165296068962304e+18</td>\n",
       "      <td>Ice Cube is teaming up to work with President ...</td>\n",
       "      <td>0.0</td>\n",
       "      <td>0</td>\n",
       "    </tr>\n",
       "    <tr>\n",
       "      <th>1</th>\n",
       "      <td>1.316532492795605e+18</td>\n",
       "      <td>@CNN @HarrietD428 This is true!\\n\\nIn a relate...</td>\n",
       "      <td>1.0</td>\n",
       "      <td>1</td>\n",
       "    </tr>\n",
       "    <tr>\n",
       "      <th>2</th>\n",
       "      <td>1.316546586227376e+18</td>\n",
       "      <td>\"First the corporate hack-media refused to cov...</td>\n",
       "      <td>1.0</td>\n",
       "      <td>1</td>\n",
       "    </tr>\n",
       "    <tr>\n",
       "      <th>3</th>\n",
       "      <td>1.3165466968648172e+18</td>\n",
       "      <td>#Iowa experienced severe devastation from the ...</td>\n",
       "      <td>1.0</td>\n",
       "      <td>1</td>\n",
       "    </tr>\n",
       "    <tr>\n",
       "      <th>4</th>\n",
       "      <td>1.3165493286773432e+18</td>\n",
       "      <td>If @CBS is willing, I'd be happy to do a #Town...</td>\n",
       "      <td>1.0</td>\n",
       "      <td>1</td>\n",
       "    </tr>\n",
       "    <tr>\n",
       "      <th>...</th>\n",
       "      <td>...</td>\n",
       "      <td>...</td>\n",
       "      <td>...</td>\n",
       "      <td>...</td>\n",
       "    </tr>\n",
       "    <tr>\n",
       "      <th>95</th>\n",
       "      <td>1.3169061333664932e+18</td>\n",
       "      <td>The stage set up matters a lot in the tone of ...</td>\n",
       "      <td>1.0</td>\n",
       "      <td>1</td>\n",
       "    </tr>\n",
       "    <tr>\n",
       "      <th>96</th>\n",
       "      <td>1.3169063036425462e+18</td>\n",
       "      <td>Lie lie lie Lie. Right now #trump is trying to...</td>\n",
       "      <td>1.0</td>\n",
       "      <td>1</td>\n",
       "    </tr>\n",
       "    <tr>\n",
       "      <th>97</th>\n",
       "      <td>1.3169063288839086e+18</td>\n",
       "      <td>@MichaelJGwin @TVietor08 #Trump’s claim that h...</td>\n",
       "      <td>1.0</td>\n",
       "      <td>1</td>\n",
       "    </tr>\n",
       "    <tr>\n",
       "      <th>98</th>\n",
       "      <td>1.3169079052501975e+18</td>\n",
       "      <td>Actually a fine last question from #SavannahGu...</td>\n",
       "      <td>1.0</td>\n",
       "      <td>1</td>\n",
       "    </tr>\n",
       "    <tr>\n",
       "      <th>99</th>\n",
       "      <td>1.3169082976482468e+18</td>\n",
       "      <td>@AdamParkhomenko Lady complimented #Trump’s fa...</td>\n",
       "      <td>2.0</td>\n",
       "      <td>1</td>\n",
       "    </tr>\n",
       "  </tbody>\n",
       "</table>\n",
       "<p>100 rows × 4 columns</p>\n",
       "</div>"
      ]
     },
     "execution_count": 24,
     "metadata": {},
     "output_type": "execute_result"
    }
   ],
   "execution_count": 24
  },
  {
   "metadata": {
    "ExecuteTime": {
     "end_time": "2024-05-12T13:04:50.044222Z",
     "start_time": "2024-05-12T13:04:48.878406Z"
    }
   },
   "cell_type": "code",
   "source": [
    "evaluator = MulticlassClassificationEvaluator(predictionCol=\"prediction\", metricName=\"weightedPrecision\")\n",
    "evaluator.evaluate(predictions.withColumn(\"prediction\", predictions.prediction.cast(\"double\")))"
   ],
   "id": "1907466e0dabbe9",
   "outputs": [
    {
     "name": "stderr",
     "output_type": "stream",
     "text": [
      "24/05/12 14:04:48 WARN DAGScheduler: Broadcasting large task binary with size 1401.7 KiB\n",
      "                                                                                \r"
     ]
    },
    {
     "data": {
      "text/plain": [
       "0.3820198419032508"
      ]
     },
     "execution_count": 25,
     "metadata": {},
     "output_type": "execute_result"
    }
   ],
   "execution_count": 25
  },
  {
   "metadata": {
    "ExecuteTime": {
     "end_time": "2024-05-12T13:04:50.090540Z",
     "start_time": "2024-05-12T13:04:50.049085Z"
    }
   },
   "cell_type": "code",
   "source": [
    "# display centroids\n",
    "np.array(kMeansModel.clusterCenters()).squeeze()"
   ],
   "id": "51f7087e916619cb",
   "outputs": [
    {
     "data": {
      "text/plain": [
       "array([[3.07033307e-02, 4.56174286e-02, 6.05974062e-01, ...,\n",
       "        0.00000000e+00, 0.00000000e+00, 0.00000000e+00],\n",
       "       [2.91576596e-01, 3.13148481e-01, 3.99225404e-02, ...,\n",
       "        4.60213920e-04, 0.00000000e+00, 3.41958380e-04],\n",
       "       [6.65875964e-02, 6.37044901e-02, 4.86834817e-02, ...,\n",
       "        0.00000000e+00, 7.16349504e-04, 0.00000000e+00]])"
      ]
     },
     "execution_count": 26,
     "metadata": {},
     "output_type": "execute_result"
    }
   ],
   "execution_count": 26
  },
  {
   "metadata": {},
   "cell_type": "markdown",
   "source": "## Experimenting with 2 clusters",
   "id": "e89cf0539fdfdc0f"
  },
  {
   "metadata": {
    "ExecuteTime": {
     "end_time": "2024-05-12T13:04:50.120272Z",
     "start_time": "2024-05-12T13:04:50.091214Z"
    }
   },
   "cell_type": "code",
   "source": [
    "# trying with just 2 clusters to see if we can improve accuracy\n",
    "df = extract(sparkSession)\n",
    "df_train, df_test = df.randomSplit([0.70, 0.30], seed=123456) \n",
    "df_train.cache()\n",
    "df_test.cache()"
   ],
   "id": "653ac00c5176bd18",
   "outputs": [
    {
     "name": "stderr",
     "output_type": "stream",
     "text": [
      "24/05/12 14:04:50 WARN CacheManager: Asked to cache already cached data.\n",
      "24/05/12 14:04:50 WARN CacheManager: Asked to cache already cached data.\n"
     ]
    },
    {
     "data": {
      "text/plain": [
       "DataFrame[created_at: timestamp, tweet_id: string, tweet: string, likes: float, retweet_count: float, source: string, user_id: string, user_name: string, user_screen_name: string, user_description: string, user_join_date: timestamp, user_followers_count: float, user_location: string, lat: double, long: double, city: string, country: string, continent: string, state: string, state_code: string, collected_at: timestamp, candidate: string]"
      ]
     },
     "execution_count": 27,
     "metadata": {},
     "output_type": "execute_result"
    }
   ],
   "execution_count": 27
  },
  {
   "metadata": {
    "ExecuteTime": {
     "end_time": "2024-05-12T13:04:53.751824Z",
     "start_time": "2024-05-12T13:04:50.120867Z"
    }
   },
   "cell_type": "code",
   "source": [
    "pipelineModel = Pipeline(stages=stages).fit(df_train)\n",
    "df_train = pipelineModel.transform(df_train)"
   ],
   "id": "96a1820a8abc5f69",
   "outputs": [
    {
     "name": "stderr",
     "output_type": "stream",
     "text": [
      "24/05/12 14:04:51 WARN MemoryStore: Not enough space to cache rdd_11_1 in memory! (computed 158.9 MiB so far)\n",
      "24/05/12 14:04:52 WARN MemoryStore: Not enough space to cache rdd_11_1 in memory! (computed 158.9 MiB so far)\n",
      "24/05/12 14:04:53 WARN MemoryStore: Not enough space to cache rdd_11_1 in memory! (computed 158.9 MiB so far)\n",
      "                                                                                \r"
     ]
    }
   ],
   "execution_count": 28
  },
  {
   "metadata": {
    "ExecuteTime": {
     "end_time": "2024-05-12T13:04:54.549524Z",
     "start_time": "2024-05-12T13:04:53.752729Z"
    }
   },
   "cell_type": "code",
   "source": "df_train.show(truncate=False)",
   "id": "afef6112e63cf730",
   "outputs": [
    {
     "name": "stdout",
     "output_type": "stream",
     "text": [
      "+----------------------+-------------------+-----------------------------------------------------------------------------------------------------------------------------------------------------------------------------------------------------------------------------------------------------------------------------------------------------------------+------+-------------+-------------------+----------------------+-------------------+--------------------+------------------------------+------------------+-------------------+----------+--------------------+----------+-----------------------------------------------------------------------------------------------------------------------------------------------------------------------------------------------------------------------------------------------------------------------------------------------------------------+---------+---------------------------------------------------------------------------------------------------------------------------------------------------------------------------------------------------------------------------------------+--------+-------------------------------------------------------------------------------------------------------------------------------------------------------------------------------------------------------------------------------------------------------------------------------------+------------------------------------------------------------------------------------------------------------------------------------------------------------------------------------------------------------------------------------------------------------------------------------------------------------------------------------------------------------------------------------------------------------------------------------------------------------------------------------------------------------------------------------------------------------------------------------------------------------------------------------------------------------------------------------------------------------------------------------------+-----+\n",
      "|tweet_id              |created_at         |tweet                                                                                                                                                                                                                                                                                                            |likes |retweet_count|source             |user_id               |user_join_date     |user_followers_count|user_location                 |lat               |long               |city      |state               |state_code|tweet                                                                                                                                                                                                                                                                                                            |candidate|cleaned_tweet_nostop                                                                                                                                                                                                                   |polarity|cv                                                                                                                                                                                                                                                                                   |features                                                                                                                                                                                                                                                                                                                                                                                                                                                                                                                                                                                                                                                                                                                                  |label|\n",
      "+----------------------+-------------------+-----------------------------------------------------------------------------------------------------------------------------------------------------------------------------------------------------------------------------------------------------------------------------------------------------------------+------+-------------+-------------------+----------------------+-------------------+--------------------+------------------------------+------------------+-------------------+----------+--------------------+----------+-----------------------------------------------------------------------------------------------------------------------------------------------------------------------------------------------------------------------------------------------------------------------------------------------------------------+---------+---------------------------------------------------------------------------------------------------------------------------------------------------------------------------------------------------------------------------------------+--------+-------------------------------------------------------------------------------------------------------------------------------------------------------------------------------------------------------------------------------------------------------------------------------------+------------------------------------------------------------------------------------------------------------------------------------------------------------------------------------------------------------------------------------------------------------------------------------------------------------------------------------------------------------------------------------------------------------------------------------------------------------------------------------------------------------------------------------------------------------------------------------------------------------------------------------------------------------------------------------------------------------------------------------------+-----+\n",
      "|1.3165307481203548e+18|2020-10-15 00:06:04|Twazis says they blocked NY Post's #HunterBiden story cuz they block stories with stolen info.\\n\\nLet's test their theory &amp; #Leftist agenda in protecting #Biden with the story by the #NYPost on STOLEN secret audio tapes of #Trump!\\n\\n#LiberalPrivilege #MAGA\\n https://t.co/bWriPoqI0d                  |19.0  |16.0         |Twitter for Android|1.2584711766717686e+18|2020-05-07 18:58:17|20636.0             |South Carolina, USA           |33.687438799999995|-80.4363743        |NULL      |South Carolina      |SC        |Twazis says they blocked NY Post's #HunterBiden story cuz they block stories with stolen info.\\n\\nLet's test their theory &amp; #Leftist agenda in protecting #Biden with the story by the #NYPost on STOLEN secret audio tapes of #Trump!\\n\\n#LiberalPrivilege #MAGA\\n https://t.co/bWriPoqI0d                  |TRUMP    |[twazis, says, blocked, ny, post, #hunterbiden, story, cuz, block, stories, stolen, info, let, test, theory, amp, #leftist, agenda, protecting, #biden, story, #nypost, stolen, secret, audio, tapes, #trump, #liberalprivilege, #maga]|Negative|(25315,[0,1,3,40,51,72,98,302,378,864,930,1122,1488,1761,1844,2102,2228,2249,2731,2813,3023,3277,3460,3501,6177,8034,10116],[1.0,1.0,1.0,1.0,1.0,1.0,1.0,2.0,1.0,1.0,1.0,1.0,1.0,2.0,1.0,1.0,1.0,1.0,1.0,1.0,1.0,1.0,1.0,1.0,1.0,1.0,1.0])                                           |(25315,[0,1,3,40,51,72,98,302,378,864,930,1122,1488,1761,1844,2102,2228,2249,2731,2813,3023,3277,3460,3501,6177,8034,10116],[0.7042944951573549,0.9394045212809903,2.2812027642938038,3.5815271439881107,3.6840264273649046,3.868254562429441,3.9685389250554066,9.807999146074563,4.993947809700222,5.747719612076602,5.853080127734428,6.002611861705391,6.301104850261388,13.206771444268643,6.546227308294373,6.664010343950757,6.728548865088328,6.728548865088328,6.951692416402538,6.951692416402538,7.038703793392167,7.134013973196492,7.239374488854319,7.239374488854319,7.827161153756437,8.050304705070648,8.337986777522428])                                                                                               |2.0  |\n",
      "|1.3165343833613066e+18|2020-10-15 00:20:31|Another killer @realDonaldTrump ad from @donwinslow...  #Trump #Election2020 https://t.co/48lkIXmFfb                                                                                                                                                                                                             |537.0 |358.0        |Twitter for iPhone |123281100.0           |2010-03-15 15:46:27|82715.0             |NYC                           |40.7127281        |-74.0060152        |New York  |New York            |NY        |Another killer @realDonaldTrump ad from @donwinslow...  #Trump #Election2020 https://t.co/48lkIXmFfb                                                                                                                                                                                                             |TRUMP    |[another, killer, ad, #trump, #election2020]                                                                                                                                                                                           |Neutral |(25315,[0,5,225,1662,13696],[1.0,1.0,1.0,1.0,1.0])                                                                                                                                                                                                                                   |(25315,[0,5,225,1662,13696],[0.7042944951573549,2.0613432881807836,4.5924119797319465,6.440866792636547,8.743451885630593])                                                                                                                                                                                                                                                                                                                                                                                                                                                                                                                                                                                                               |0.0  |\n",
      "|1.3165367082179502e+18|2020-10-15 00:29:45|California 23rd...vote...for... @KimMangone! It’s time to dump that shameless #Trump cultist Kevin McCarthy... https://t.co/qn6r4IQ6C9                                                                                                                                                                           |58.0  |26.0         |Twitter for iPhone |123281100.0           |2010-03-15 15:46:27|82715.0             |NYC                           |40.7127281        |-74.0060152        |New York  |New York            |NY        |California 23rd...vote...for... @KimMangone! It’s time to dump that shameless #Trump cultist Kevin McCarthy... https://t.co/qn6r4IQ6C9                                                                                                                                                                           |TRUMP    |[california, 23rd, vote, time, dump, shameless, #trump, cultist, kevin, mccarthy]                                                                                                                                                      |Neutral |(25315,[0,10,35,934,2030,6388,9678,11428,11913,12584],[1.0,1.0,1.0,1.0,1.0,1.0,1.0,1.0,1.0,1.0])                                                                                                                                                                                     |(25315,[0,10,35,934,2030,6388,9678,11428,11913,12584],[0.7042944951573549,2.7139692713350896,3.4755937265672645,5.881251004701124,6.6033857221343215,7.827161153756437,8.337986777522428,8.337986777522428,8.337986777522428,8.337986777522428])                                                                                                                                                                                                                                                                                                                                                                                                                                                                                          |0.0  |\n",
      "|1.3165396011216937e+18|2020-10-15 00:41:15|@86_45_in2018 @JoeBiden My 18 year old sun just voided your vote.  \\n\\nTexas will reject #socialism \\n\\nStay free #vote for #Trump                                                                                                                                                                               |13.0  |3.0          |Twitter Web App    |7.159702622992548e+17 |2016-04-01 18:33:07|14036.0             |Texas, USA                    |31.8160381        |-99.51209859999999 |NULL      |Texas               |TX        |@86_45_in2018 @JoeBiden My 18 year old sun just voided your vote.  \\n\\nTexas will reject #socialism \\n\\nStay free #vote for #Trump                                                                                                                                                                               |TRUMP    |[18, year, old, sun, voided, vote, texas, reject, #socialism, stay, free, #vote, #trump]                                                                                                                                               |Positive|(25315,[0,10,18,230,355,379,420,450,754,2666,2757,4272,14152],[1.0,1.0,1.0,1.0,1.0,1.0,1.0,1.0,1.0,1.0,1.0,1.0,1.0])                                                                                                                                                                 |(25315,[0,10,18,230,355,379,420,450,754,2666,2757,4272,14152],[0.7042944951573549,2.7139692713350896,2.929321353805526,4.640808520593796,5.029879818926284,5.0927936443368536,5.146139625042147,5.277715982830866,5.747719612076602,7.134013973196492,6.951692416402538,7.490688917135224,8.743451885630593])                                                                                                                                                                                                                                                                                                                                                                                                                             |1.0  |\n",
      "|1.3165398596081828e+18|2020-10-15 00:42:17|Trump 2020 highway caravan overflowing this rest stop, one of many planned ahead of the election as America closes in on three weeks to November 3rd #Trump #MAGA #Trump2020 #Michigan https://t.co/k3PKk8Lg4l                                                                                                   |709.0 |255.0        |Twitter for iPhone |23951440.0            |2009-03-12 14:05:32|74290.0             |United States                 |39.7837304        |-100.4458825       |NULL      |NULL                |NULL      |Trump 2020 highway caravan overflowing this rest stop, one of many planned ahead of the election as America closes in on three weeks to November 3rd #Trump #MAGA #Trump2020 #Michigan https://t.co/k3PKk8Lg4l                                                                                                   |TRUMP    |[trump, 2020, highway, caravan, overflowing, rest, stop, one, many, planned, ahead, election, america, closes, three, weeks, november, 3rd, #trump, #maga, #trump2020, #michigan]                                                      |Positive|(25315,[0,4,13,25,29,37,40,73,92,131,198,339,390,506,556,707,1075,1897,2415,3799,12766,16615],[1.0,1.0,1.0,1.0,1.0,1.0,1.0,1.0,1.0,1.0,1.0,1.0,1.0,1.0,1.0,1.0,1.0,1.0,1.0,1.0,1.0,1.0])                                                                                             |(25315,[0,4,13,25,29,37,40,73,92,131,198,339,390,506,556,707,1075,1897,2415,3799,12766,16615],[0.7042944951573549,2.124712902113373,2.8421856064407596,3.217998946498809,3.4155757168410115,3.4833557319027535,3.5815271439881107,3.931267530258175,4.029427294730419,4.260449333616709,4.494956643581234,4.936789395860273,5.079890239500946,5.2469443241641125,5.359061622284818,5.607957669701443,5.970863163390812,6.546227308294373,6.797541736575279,7.357157524510702,8.337986777522428,8.743451885630593])                                                                                                                                                                                                                        |1.0  |\n",
      "|1.3165404444032614e+18|2020-10-15 00:44:36|@MollyBeck @patrickdmarley #Trump is president. I have a hard time believing anyone can be that offended over a cuss word at this point.                                                                                                                                                                         |15.0  |1.0          |Twitter for Android|35540152.0            |2009-04-26 19:22:04|3166.0              |Wisconsin, USA                |44.4308975        |-89.6884637        |NULL      |Wisconsin           |WI        |@MollyBeck @patrickdmarley #Trump is president. I have a hard time believing anyone can be that offended over a cuss word at this point.                                                                                                                                                                         |TRUMP    |[#trump, president, hard, time, believing, anyone, offended, cuss, word, point]                                                                                                                                                        |Negative|(25315,[0,8,35,233,292,309,747,5109,5269,20343],[1.0,1.0,1.0,1.0,1.0,1.0,1.0,1.0,1.0,1.0])                                                                                                                                                                                           |(25315,[0,8,35,233,292,309,747,5109,5269,20343],[0.7042944951573549,2.4819602013095503,3.4755937265672645,4.640808520593796,4.792208167049165,4.851631587519966,5.629936576420218,7.644839596962483,7.644839596962483,8.743451885630593])                                                                                                                                                                                                                                                                                                                                                                                                                                                                                                 |2.0  |\n",
      "|1.316540849036161e+18 |2020-10-15 00:46:13|#Trump: “Los venezolanos verán cosas buenas pasar, siempre estaré con ellos”.  https://t.co/T1FDSD3uRj                                                                                                                                                                                                           |16.0  |6.0          |Twitter Web App    |88537980.0            |2009-11-08 23:26:19|223483.0            |Washington, DC                |38.8949924        |-77.0365581        |Washington|District of Columbia|DC        |#Trump: “Los venezolanos verán cosas buenas pasar, siempre estaré con ellos”.  https://t.co/T1FDSD3uRj                                                                                                                                                                                                           |TRUMP    |[#trump, los, venezolanos, ver, n, cosas, buenas, pasar, siempre, estar, con, ellos]                                                                                                                                                   |Neutral |(25315,[0,30,58,129,2090,2978,3375,5289,5732,6728,7196,18343],[1.0,1.0,1.0,1.0,1.0,1.0,1.0,1.0,1.0,1.0,1.0,1.0])                                                                                                                                                                     |(25315,[0,30,58,129,2090,2978,3375,5289,5732,6728,7196,18343],[0.7042944951573549,3.634480690813475,3.9071699786791143,4.277543766976009,6.728548865088328,7.038703793392167,7.239374488854319,7.644839596962483,7.827161153756437,7.827161153756437,8.050304705070648,8.743451885630593])                                                                                                                                                                                                                                                                                                                                                                                                                                                |0.0  |\n",
      "|1.316542762615935e+18 |2020-10-15 00:53:49|#Trump #Abortion #AP666 https://t.co/5tzLS9GdfA                                                                                                                                                                                                                                                                  |22.0  |3.0          |Twitter for iPhone |3911707993.0          |2015-10-16 07:58:53|24520.0             |Hell is in the mind .New York |40.7127281        |-74.0060152        |New York  |New York            |NY        |#Trump #Abortion #AP666 https://t.co/5tzLS9GdfA                                                                                                                                                                                                                                                                  |TRUMP    |[#trump, #abortion, #ap666]                                                                                                                                                                                                            |Neutral |(25315,[0,7491,18205],[1.0,1.0,1.0])                                                                                                                                                                                                                                                 |(25315,[0,7491,18205],[0.7042944951573549,8.050304705070648,8.743451885630593])                                                                                                                                                                                                                                                                                                                                                                                                                                                                                                                                                                                                                                                           |0.0  |\n",
      "|1.316543798227411e+18 |2020-10-15 00:57:56|@WalshFreedom @GOP Cult of #trump\\n\\n#MontyPython https://t.co/V7ZdRWmGEA                                                                                                                                                                                                                                        |23.0  |7.0          |Twitter Web App    |8.743729821347594e+17 |2017-06-12 21:08:58|84273.0             |New York, USA                 |40.7127281        |-74.0060152        |New York  |New York            |NY        |@WalshFreedom @GOP Cult of #trump\\n\\n#MontyPython https://t.co/V7ZdRWmGEA                                                                                                                                                                                                                                        |TRUMP    |[cult, #trump, #montypython]                                                                                                                                                                                                           |Neutral |(25315,[0,1437,10573],[1.0,1.0,1.0])                                                                                                                                                                                                                                                 |(25315,[0,1437,10573],[0.7042944951573549,6.301104850261388,8.337986777522428])                                                                                                                                                                                                                                                                                                                                                                                                                                                                                                                                                                                                                                                           |0.0  |\n",
      "|1.316544633959338e+18 |2020-10-15 01:01:15|@Waitwha85766617 #Trump already has a library. It's the warehouse where all the copies of Art of the Deal that he purchased are stored. https://t.co/4b9CjoNn3z                                                                                                                                                  |28.0  |1.0          |Twitter Web App    |1.1059268941160572e+18|2019-03-13 20:21:33|14328.0             |Dissident In Florida, USA     |27.7567667        |-81.4639835        |NULL      |Florida             |FL        |@Waitwha85766617 #Trump already has a library. It's the warehouse where all the copies of Art of the Deal that he purchased are stored. https://t.co/4b9CjoNn3z                                                                                                                                                  |TRUMP    |[#trump, already, library, warehouse, copies, art, deal, purchased, stored]                                                                                                                                                            |Neutral |(25315,[0,210,446,1961,4043,4308,8049,10326,11504],[1.0,1.0,1.0,1.0,1.0,1.0,1.0,1.0,1.0])                                                                                                                                                                                            |(25315,[0,210,446,1961,4043,4308,8049,10326,11504],[0.7042944951573549,4.531324287752108,5.231906446799572,6.797541736575279,7.357157524510702,7.490688917135224,8.050304705070648,8.337986777522428,8.337986777522428])                                                                                                                                                                                                                                                                                                                                                                                                                                                                                                                  |0.0  |\n",
      "|1.316545406591959e+18 |2020-10-15 01:04:19|@joncoopertweets @NBCNews @ABC Here’s an idea, since @NBCNews has decided to give #DonaldTrump town hall coverage across three channels, @ABC @CBSNews @CNNPolitics @bpolitics @business should carry @ABCPolitics town hall with @JoeBiden. #BidenTownHall #BidenHarrisLandslide2020 #BoycottNBC #2020Elections |21.0  |6.0          |Twitter for iPhone |146572426.0           |2010-05-21 19:49:23|487.0               |Denver, CO                    |39.7392364        |-104.98486229999999|Denver    |Colorado            |CO        |@joncoopertweets @NBCNews @ABC Here’s an idea, since @NBCNews has decided to give #DonaldTrump town hall coverage across three channels, @ABC @CBSNews @CNNPolitics @bpolitics @business should carry @ABCPolitics town hall with @JoeBiden. #BidenTownHall #BidenHarrisLandslide2020 #BoycottNBC #2020Elections |TRUMP    |[idea, since, decided, give, #donaldtrump, town, hall, coverage, across, three, channels, carry, town, hall, #bidentownhall, #bidenharrislandslide2020, #boycottnbc, #2020elections]                                                   |Neutral |(25315,[9,208,252,540,654,707,718,742,844,935,949,1125,1460,2820,4323,5959],[1.0,1.0,1.0,2.0,1.0,1.0,2.0,1.0,1.0,1.0,1.0,1.0,1.0,1.0,1.0,1.0])                                                                                                                                       |(25315,[9,208,252,540,654,707,718,742,844,935,949,1125,1460,2820,4323,5959],[2.504151174618029,4.553797143604167,4.657475573079008,10.822494750910778,5.504773433466212,5.607957669701443,11.304818864544554,5.652409432272277,5.72302699948623,5.825681153546313,5.881251004701124,6.002611861705391,6.301104850261388,6.951692416402538,7.490688917135224,7.827161153756437])                                                                                                                                                                                                                                                                                                                                                           |0.0  |\n",
      "|1.316546127072768e+18 |2020-10-15 01:07:11|I will not like, retweet or reply to any tweets that refer to #Trump's unqualified &amp; absurd #SCOTUS nominee by her initials, no matter how clever they may be.                                                                                                                                               |39.0  |4.0          |Twitter Web App    |1.1059268941160572e+18|2019-03-13 20:21:33|14328.0             |Dissident In Florida, USA     |27.7567667        |-81.4639835        |NULL      |Florida             |FL        |I will not like, retweet or reply to any tweets that refer to #Trump's unqualified &amp; absurd #SCOTUS nominee by her initials, no matter how clever they may be.                                                                                                                                               |TRUMP    |[like, retweet, reply, tweets, refer, #trump, unqualified, amp, absurd, #scotus, nominee, initials, matter, clever, may]                                                                                                               |Negative|(25315,[0,3,16,164,330,419,504,1423,1819,2358,4934,7639,10411,12436,17704],[1.0,1.0,1.0,1.0,1.0,1.0,1.0,1.0,1.0,1.0,1.0,1.0,1.0,1.0,1.0])                                                                                                                                            |(25315,[0,3,16,164,330,419,504,1423,1819,2358,4934,7639,10411,12436,17704],[0.7042944951573549,2.2812027642938038,2.968900340086184,4.386743058941001,4.936789395860273,5.079890239500946,5.277715982830866,6.258545235842592,6.492160087024097,6.797541736575279,7.644839596962483,8.050304705070648,8.337986777522428,8.337986777522428,8.743451885630593])                                                                                                                                                                                                                                                                                                                                                                             |2.0  |\n",
      "|1.3165491477433915e+18|2020-10-15 01:19:11|Now #Twitter and #Facebook are censoring the NYPost's story to a never-before-seen-degree. Why? I imagine, to protect themselves from being hauled in front of Congress for InstallingTrumpforPutin2.0™ - should #Trump win.                                                                                     |54.0  |27.0         |Twitter Web App    |8.415090420234609e+17 |2017-03-14 04:39:24|23362.0             |United States                 |39.7837304        |-100.4458825       |NULL      |NULL                |NULL      |Now #Twitter and #Facebook are censoring the NYPost's story to a never-before-seen-degree. Why? I imagine, to protect themselves from being hauled in front of Congress for InstallingTrumpforPutin2.0™ - should #Trump win.                                                                                     |TRUMP    |[#twitter, #facebook, censoring, nypost, story, never, seen, degree, imagine, protect, hauled, front, congress, installingtrumpforputin2, 0, #trump, win]                                                                              |Positive|(25315,[0,22,80,302,347,513,524,749,880,1328,2265,2279,2553,7702,9990,16357,21580],[1.0,1.0,1.0,1.0,1.0,1.0,1.0,1.0,1.0,1.0,1.0,1.0,1.0,1.0,1.0,1.0,1.0])                                                                                                                            |(25315,[0,22,80,302,347,513,524,749,880,1328,2265,2279,2553,7702,9990,16357,21580],[0.7042944951573549,3.1656106343322383,3.895335521032112,4.903999573037281,4.914810489141497,5.342254503968437,5.277715982830866,5.773037420060891,5.773037420060891,6.217723241322337,6.728548865088328,6.797541736575279,6.871649708729001,8.050304705070648,8.337986777522428,8.743451885630593,8.743451885630593])                                                                                                                                                                                                                                                                                                                                 |1.0  |\n",
      "|1.3165498195996426e+18|2020-10-15 01:21:51|THIS is UNCONSCIONABLE. #Trump pulled out of the scheduled townhall. #Biden KEPT HIS COMMITMENT &amp; HIS WORD and moved forward. Now @nbc @nbcnews is going to REWARD 45 for breaking his commitment and be an accomplice to his attempt to screw over Biden?! #BoycottNBC #BoycottMSNBC https://t.co/8v4AGGUZ4G|6431.0|2384.0       |Twitter for iPhone |499073990.0           |2012-02-21 19:01:16|664069.0            |New York City                 |40.7127281        |-74.0060152        |New York  |New York            |NY        |THIS is UNCONSCIONABLE. #Trump pulled out of the scheduled townhall. #Biden KEPT HIS COMMITMENT &amp; HIS WORD and moved forward. Now @nbc @nbcnews is going to REWARD 45 for breaking his commitment and be an accomplice to his attempt to screw over Biden?! #BoycottNBC #BoycottMSNBC https://t.co/8v4AGGUZ4G|TRUMP    |[unconscionable, #trump, pulled, scheduled, townhall, #biden, kept, commitment, amp, word, moved, forward, going, reward, 45, breaking, commitment, accomplice, attempt, screw, biden, #boycottnbc, #boycottmsnbc]                     |Neutral |(25315,[0,1,3,7,33,166,747,773,796,1519,1529,1748,1756,2656,4323,4330,4333,4378,5162,6770,8461,12791],[1.0,1.0,1.0,1.0,1.0,1.0,1.0,1.0,1.0,1.0,1.0,1.0,1.0,1.0,1.0,2.0,1.0,1.0,1.0,1.0,1.0,1.0])                                                                                     |(25315,[0,1,3,7,33,166,747,773,796,1519,1529,1748,1756,2656,4323,4330,4333,4378,5162,6770,8461,12791],[0.7042944951573549,0.9394045212809903,2.2812027642938038,2.346522230414446,3.440146977571517,4.361425250956711,5.629936576420218,5.629936576420218,5.69892944790717,6.301104850261388,6.3455566128322225,6.492160087024097,6.492160087024097,6.951692416402538,7.490688917135224,15.654322307512874,7.490688917135224,7.490688917135224,7.644839596962483,7.827161153756437,8.050304705070648,8.337986777522428])                                                                                                                                                                                                                  |0.0  |\n",
      "|1.316550993182634e+18 |2020-10-15 01:26:31|My thoughts on the #icecube and #trump new controversy! https://t.co/iYOdktfI5f                                                                                                                                                                                                                                  |14.0  |1.0          |Twitter for iPhone |1.0897494731341784e+18|2019-01-28 04:58:15|1285.0              |United States                 |39.7837304        |-100.4458825       |NULL      |NULL                |NULL      |My thoughts on the #icecube and #trump new controversy! https://t.co/iYOdktfI5f                                                                                                                                                                                                                                  |TRUMP    |[thoughts, #icecube, #trump, new, controversy]                                                                                                                                                                                         |Positive|(25315,[0,53,1191,1704,5580],[1.0,1.0,1.0,1.0,1.0])                                                                                                                                                                                                                                  |(25315,[0,53,1191,1704,5580],[0.7042944951573549,3.680856852603626,6.104394556015334,6.440866792636547,7.644839596962483])                                                                                                                                                                                                                                                                                                                                                                                                                                                                                                                                                                                                                |1.0  |\n",
      "|1.3165518686262026e+18|2020-10-15 01:30:00|📌 #Trump acusa a @JoeBiden de querer subir un 14% los impuestos a la clase media. Esto es falso\\n\\nUna propaganda lanza esta acusación falsa pero diversos centros de estudio demuestran que no tiene sustento alguno.\\n\\n✍🏻 @loujacobson de @PolitiFact \\n\\nhttps://t.co/YVb4gjiCcL                           |25.0  |18.0         |Twitter Web App    |152142811.0           |2010-06-05 05:22:50|812382.0            |United States                 |39.7837304        |-100.4458825       |NULL      |NULL                |NULL      |📌 #Trump acusa a @JoeBiden de querer subir un 14% los impuestos a la clase media. Esto es falso\\n\\nUna propaganda lanza esta acusación falsa pero diversos centros de estudio demuestran que no tiene sustento alguno.\\n\\n✍🏻 @loujacobson de @PolitiFact \\n\\nhttps://t.co/YVb4gjiCcL                           |TRUMP    |[#trump, acusa, de, querer, subir, un, 14, los, impuestos, la, clase, media, esto, es, falso, una, propaganda, lanza, esta, acusaci, n, falsa, pero, diversos, centros, de, estudio, demuestran, que, tiene, sustento, alguno, de]     |Negative|(25315,[0,6,11,28,30,58,75,104,145,283,531,780,1054,1088,1440,2088,4294,4550,4758,5506,6782,7545,7975,11265,15103,18546,20357,21042,22176,22645,23039],[1.0,3.0,1.0,1.0,1.0,1.0,1.0,1.0,1.0,1.0,1.0,1.0,1.0,1.0,1.0,1.0,1.0,1.0,1.0,1.0,1.0,1.0,1.0,1.0,1.0,1.0,1.0,1.0,1.0,1.0,1.0])|(25315,[0,6,11,28,30,58,75,104,145,283,531,780,1054,1088,1440,2088,4294,4550,4758,5506,6782,7545,7975,11265,15103,18546,20357,21042,22176,22645,23039],[0.7042944951573549,8.178227870214329,3.066698083362311,3.5258024221500106,3.634480690813475,3.9071699786791143,3.951802132699883,4.118479072346322,4.399646463776909,4.801870077960902,5.466307152638416,5.652409432272277,5.940091504724058,6.035401684528383,6.258545235842592,6.664010343950757,7.490688917135224,7.490688917135224,7.490688917135224,7.827161153756437,7.827161153756437,8.050304705070648,8.050304705070648,8.337986777522428,8.743451885630593,8.743451885630593,8.743451885630593,8.743451885630593,8.743451885630593,8.743451885630593,8.743451885630593])|2.0  |\n",
      "|1.3165540034724086e+18|2020-10-15 01:38:29|Donald #Trump dons a #MAGA hat and takes off his tie at campaign rally in Iowa #Election2020 \\n\\nhttps://t.co/qgMfSeBmlU                                                                                                                                                                                         |41.0  |17.0         |Twitter for iPhone |68806595.0            |2009-08-25 21:23:40|10143.0             |Washington, DC                |38.8949924        |-77.0365581        |Washington|District of Columbia|DC        |Donald #Trump dons a #MAGA hat and takes off his tie at campaign rally in Iowa #Election2020 \\n\\nhttps://t.co/qgMfSeBmlU                                                                                                                                                                                         |TRUMP    |[donald, #trump, dons, #maga, hat, takes, tie, campaign, rally, iowa, #election2020]                                                                                                                                                   |Neutral |(25315,[0,5,40,41,74,100,573,800,2721,2925,16915],[1.0,1.0,1.0,1.0,1.0,1.0,1.0,1.0,1.0,1.0,1.0])                                                                                                                                                                                     |(25315,[0,5,40,41,74,100,573,800,2721,2925,16915],[0.7042944951573549,2.0613432881807836,3.5815271439881107,3.6224685343654714,3.8644450340127734,4.047527336374037,5.376156055644119,5.773037420060891,7.239374488854319,7.038703793392167,8.743451885630593])                                                                                                                                                                                                                                                                                                                                                                                                                                                                           |0.0  |\n",
      "|1.316556549314224e+18 |2020-10-15 01:48:36|Holy shit, @realDonaldTrump...this is horrible! You’re gonna lose in the biggest, most humiliating landslide in history! #Trump #Election2020 https://t.co/SmCQTRXhbo                                                                                                                                            |195.0 |35.0         |Twitter for iPhone |123281100.0           |2010-03-15 15:46:27|82715.0             |NYC                           |40.7127281        |-74.0060152        |New York  |New York            |NY        |Holy shit, @realDonaldTrump...this is horrible! You’re gonna lose in the biggest, most humiliating landslide in history! #Trump #Election2020 https://t.co/SmCQTRXhbo                                                                                                                                            |TRUMP    |[holy, shit, horrible, re, gonna, lose, biggest, humiliating, landslide, history, #trump, #election2020]                                                                                                                               |Negative|(25315,[0,5,24,173,279,409,606,898,1138,1702,1927,4304],[1.0,1.0,1.0,1.0,1.0,1.0,1.0,1.0,1.0,1.0,1.0,1.0])                                                                                                                                                                           |(25315,[0,5,24,173,279,409,606,898,1138,1702,1927,4304],[0.7042944951573549,2.0613432881807836,3.216008896090799,4.412718545344261,4.782638716033015,5.105865725904207,5.447615019626263,5.799012906464152,6.035401684528383,6.440866792636547,6.546227308294373,7.490688917135224])                                                                                                                                                                                                                                                                                                                                                                                                                                                      |2.0  |\n",
      "|1.3165582752787866e+18|2020-10-15 01:55:27|@ddale8 Dan, true confession, I have #trump PTSD. If you think he is lying now, in the next two weeks, Trump will promise a cure for cancer, and $10K for every household if re-elected. Mark my words!                                                                                                          |12.0  |2.0          |Twitter Web App    |16561857.0            |2008-10-02 16:42:06|1987.0              |Atlanta                       |33.749098700000005|-84.39018490000001 |Atlanta   |Georgia             |GA        |@ddale8 Dan, true confession, I have #trump PTSD. If you think he is lying now, in the next two weeks, Trump will promise a cure for cancer, and $10K for every household if re-elected. Mark my words!                                                                                                          |TRUMP    |[dan, true, confession, #trump, ptsd, think, lying, next, two, weeks, trump, promise, cure, cancer, 10k, every, household, re, elected, mark, words]                                                                                   |Positive|(25315,[0,4,24,47,91,144,224,231,344,440,474,556,1198,1473,2359,2372,4584,5237,12877,16392,20530],[1.0,1.0,1.0,1.0,1.0,1.0,1.0,1.0,1.0,1.0,1.0,1.0,1.0,1.0,1.0,1.0,1.0,1.0,1.0,1.0,1.0])                                                                                             |(25315,[0,4,24,47,91,144,224,231,344,440,474,556,1198,1473,2359,2372,4584,5237,12877,16392,20530],[0.7042944951573549,2.124712902113373,3.216008896090799,3.665157943060522,4.016064066918252,4.318605253773783,4.649107323408492,4.632578021457281,4.947962696458398,5.202492561593278,5.2469443241641125,5.359061622284818,6.104394556015334,6.301104850261388,6.797541736575279,6.797541736575279,7.490688917135224,7.644839596962483,8.337986777522428,8.743451885630593,8.743451885630593])                                                                                                                                                                                                                                          |1.0  |\n",
      "|1.316561045062914e+18 |2020-10-15 02:06:28|#US 🇺🇸 👉 Se confirma el aumento de la Confianza del Consumidor bajo la administración #Trump \\n\\nI'm Sorry #RadicalLeft https://t.co/oO5yodgybv                                                                                                                                                               |17.0  |12.0         |Twitter for Android|2721004114.0          |2014-07-22 19:06:41|3348.0              |San Rafael 40410 - España 🇪🇸|37.9735346        |-122.5310874       |San Rafael|California          |CA        |#US 🇺🇸 👉 Se confirma el aumento de la Confianza del Consumidor bajo la administración #Trump \\n\\nI'm Sorry #RadicalLeft https://t.co/oO5yodgybv                                                                                                                                                               |TRUMP    |[#us, se, confirma, el, aumento, de, la, confianza, del, consumidor, bajo, la, administraci, n, #trump, m, sorry, #radicalleft]                                                                                                        |Negative|(25315,[0,6,11,17,20,30,94,172,818,1479,1946,5314,7495,9254,10487,16332,21994],[1.0,1.0,2.0,1.0,1.0,1.0,1.0,1.0,1.0,1.0,1.0,1.0,1.0,1.0,1.0,1.0,1.0])                                                                                                                                |(25315,[0,6,11,17,20,30,94,172,818,1479,1946,5314,7495,9254,10487,16332,21994],[0.7042944951573549,2.7260759567381094,6.133396166724622,3.026424184224371,3.3892268871442597,3.634480690813475,4.0706230511686865,4.480772008589277,5.773037420060891,6.392076628467115,6.6033857221343215,7.644839596962483,8.050304705070648,8.337986777522428,8.337986777522428,8.743451885630593,8.743451885630593])                                                                                                                                                                                                                                                                                                                                  |2.0  |\n",
      "+----------------------+-------------------+-----------------------------------------------------------------------------------------------------------------------------------------------------------------------------------------------------------------------------------------------------------------------------------------------------------------+------+-------------+-------------------+----------------------+-------------------+--------------------+------------------------------+------------------+-------------------+----------+--------------------+----------+-----------------------------------------------------------------------------------------------------------------------------------------------------------------------------------------------------------------------------------------------------------------------------------------------------------------+---------+---------------------------------------------------------------------------------------------------------------------------------------------------------------------------------------------------------------------------------------+--------+-------------------------------------------------------------------------------------------------------------------------------------------------------------------------------------------------------------------------------------------------------------------------------------+------------------------------------------------------------------------------------------------------------------------------------------------------------------------------------------------------------------------------------------------------------------------------------------------------------------------------------------------------------------------------------------------------------------------------------------------------------------------------------------------------------------------------------------------------------------------------------------------------------------------------------------------------------------------------------------------------------------------------------------+-----+\n",
      "only showing top 20 rows\n",
      "\n"
     ]
    },
    {
     "name": "stderr",
     "output_type": "stream",
     "text": [
      "                                                                                \r"
     ]
    }
   ],
   "execution_count": 29
  },
  {
   "metadata": {
    "ExecuteTime": {
     "end_time": "2024-05-12T13:04:55.504901Z",
     "start_time": "2024-05-12T13:04:54.550182Z"
    }
   },
   "cell_type": "code",
   "source": [
    "df_train = df_train.where(\"polarity = 'Negative' or polarity = 'Positive'\")\n",
    "df_train.show(truncate=False)"
   ],
   "id": "6e2e50831d955364",
   "outputs": [
    {
     "name": "stderr",
     "output_type": "stream",
     "text": [
      "[Stage 64:>                                                         (0 + 1) / 1]\r"
     ]
    },
    {
     "name": "stdout",
     "output_type": "stream",
     "text": [
      "+----------------------+-------------------+-------------------------------------------------------------------------------------------------------------------------------------------------------------------------------------------------------------------------------------------------------------------------------------------------------------------------------------------------------------------------------------------------------------------------------------------------------------------------------------------------------------------------------------------------------------------------------------------------------------------------------------------------------------------+-----+-------------+-------------------+----------------------+-------------------+--------------------+------------------------------+------------------+-------------------+----------+--------------------+----------+-------------------------------------------------------------------------------------------------------------------------------------------------------------------------------------------------------------------------------------------------------------------------------------------------------------------------------------------------------------------------------------------------------------------------------------------------------------------------------------------------------------------------------------------------------------------------------------------------------------------------------------------------------------------+---------+---------------------------------------------------------------------------------------------------------------------------------------------------------------------------------------------------------------------------------------+--------+-------------------------------------------------------------------------------------------------------------------------------------------------------------------------------------------------------------------------------------------------------------------------------------+------------------------------------------------------------------------------------------------------------------------------------------------------------------------------------------------------------------------------------------------------------------------------------------------------------------------------------------------------------------------------------------------------------------------------------------------------------------------------------------------------------------------------------------------------------------------------------------------------------------------------------------------------------------------------------------------------------------------------------------+-----+\n",
      "|tweet_id              |created_at         |tweet                                                                                                                                                                                                                                                                                                                                                                                                                                                                                                                                                                                                                                                              |likes|retweet_count|source             |user_id               |user_join_date     |user_followers_count|user_location                 |lat               |long               |city      |state               |state_code|tweet                                                                                                                                                                                                                                                                                                                                                                                                                                                                                                                                                                                                                                                              |candidate|cleaned_tweet_nostop                                                                                                                                                                                                                   |polarity|cv                                                                                                                                                                                                                                                                                   |features                                                                                                                                                                                                                                                                                                                                                                                                                                                                                                                                                                                                                                                                                                                                  |label|\n",
      "+----------------------+-------------------+-------------------------------------------------------------------------------------------------------------------------------------------------------------------------------------------------------------------------------------------------------------------------------------------------------------------------------------------------------------------------------------------------------------------------------------------------------------------------------------------------------------------------------------------------------------------------------------------------------------------------------------------------------------------+-----+-------------+-------------------+----------------------+-------------------+--------------------+------------------------------+------------------+-------------------+----------+--------------------+----------+-------------------------------------------------------------------------------------------------------------------------------------------------------------------------------------------------------------------------------------------------------------------------------------------------------------------------------------------------------------------------------------------------------------------------------------------------------------------------------------------------------------------------------------------------------------------------------------------------------------------------------------------------------------------+---------+---------------------------------------------------------------------------------------------------------------------------------------------------------------------------------------------------------------------------------------+--------+-------------------------------------------------------------------------------------------------------------------------------------------------------------------------------------------------------------------------------------------------------------------------------------+------------------------------------------------------------------------------------------------------------------------------------------------------------------------------------------------------------------------------------------------------------------------------------------------------------------------------------------------------------------------------------------------------------------------------------------------------------------------------------------------------------------------------------------------------------------------------------------------------------------------------------------------------------------------------------------------------------------------------------------+-----+\n",
      "|1.3165307481203548e+18|2020-10-15 00:06:04|Twazis says they blocked NY Post's #HunterBiden story cuz they block stories with stolen info.\\n\\nLet's test their theory &amp; #Leftist agenda in protecting #Biden with the story by the #NYPost on STOLEN secret audio tapes of #Trump!\\n\\n#LiberalPrivilege #MAGA\\n https://t.co/bWriPoqI0d                                                                                                                                                                                                                                                                                                                                                                    |19.0 |16.0         |Twitter for Android|1.2584711766717686e+18|2020-05-07 18:58:17|20636.0             |South Carolina, USA           |33.687438799999995|-80.4363743        |NULL      |South Carolina      |SC        |Twazis says they blocked NY Post's #HunterBiden story cuz they block stories with stolen info.\\n\\nLet's test their theory &amp; #Leftist agenda in protecting #Biden with the story by the #NYPost on STOLEN secret audio tapes of #Trump!\\n\\n#LiberalPrivilege #MAGA\\n https://t.co/bWriPoqI0d                                                                                                                                                                                                                                                                                                                                                                    |TRUMP    |[twazis, says, blocked, ny, post, #hunterbiden, story, cuz, block, stories, stolen, info, let, test, theory, amp, #leftist, agenda, protecting, #biden, story, #nypost, stolen, secret, audio, tapes, #trump, #liberalprivilege, #maga]|Negative|(25315,[0,1,3,40,51,72,98,302,378,864,930,1122,1488,1761,1844,2102,2228,2249,2731,2813,3023,3277,3460,3501,6177,8034,10116],[1.0,1.0,1.0,1.0,1.0,1.0,1.0,2.0,1.0,1.0,1.0,1.0,1.0,2.0,1.0,1.0,1.0,1.0,1.0,1.0,1.0,1.0,1.0,1.0,1.0,1.0,1.0])                                           |(25315,[0,1,3,40,51,72,98,302,378,864,930,1122,1488,1761,1844,2102,2228,2249,2731,2813,3023,3277,3460,3501,6177,8034,10116],[0.7042944951573549,0.9394045212809903,2.2812027642938038,3.5815271439881107,3.6840264273649046,3.868254562429441,3.9685389250554066,9.807999146074563,4.993947809700222,5.747719612076602,5.853080127734428,6.002611861705391,6.301104850261388,13.206771444268643,6.546227308294373,6.664010343950757,6.728548865088328,6.728548865088328,6.951692416402538,6.951692416402538,7.038703793392167,7.134013973196492,7.239374488854319,7.239374488854319,7.827161153756437,8.050304705070648,8.337986777522428])                                                                                               |2.0  |\n",
      "|1.3165396011216937e+18|2020-10-15 00:41:15|@86_45_in2018 @JoeBiden My 18 year old sun just voided your vote.  \\n\\nTexas will reject #socialism \\n\\nStay free #vote for #Trump                                                                                                                                                                                                                                                                                                                                                                                                                                                                                                                                 |13.0 |3.0          |Twitter Web App    |7.159702622992548e+17 |2016-04-01 18:33:07|14036.0             |Texas, USA                    |31.8160381        |-99.51209859999999 |NULL      |Texas               |TX        |@86_45_in2018 @JoeBiden My 18 year old sun just voided your vote.  \\n\\nTexas will reject #socialism \\n\\nStay free #vote for #Trump                                                                                                                                                                                                                                                                                                                                                                                                                                                                                                                                 |TRUMP    |[18, year, old, sun, voided, vote, texas, reject, #socialism, stay, free, #vote, #trump]                                                                                                                                               |Positive|(25315,[0,10,18,230,355,379,420,450,754,2666,2757,4272,14152],[1.0,1.0,1.0,1.0,1.0,1.0,1.0,1.0,1.0,1.0,1.0,1.0,1.0])                                                                                                                                                                 |(25315,[0,10,18,230,355,379,420,450,754,2666,2757,4272,14152],[0.7042944951573549,2.7139692713350896,2.929321353805526,4.640808520593796,5.029879818926284,5.0927936443368536,5.146139625042147,5.277715982830866,5.747719612076602,7.134013973196492,6.951692416402538,7.490688917135224,8.743451885630593])                                                                                                                                                                                                                                                                                                                                                                                                                             |1.0  |\n",
      "|1.3165398596081828e+18|2020-10-15 00:42:17|Trump 2020 highway caravan overflowing this rest stop, one of many planned ahead of the election as America closes in on three weeks to November 3rd #Trump #MAGA #Trump2020 #Michigan https://t.co/k3PKk8Lg4l                                                                                                                                                                                                                                                                                                                                                                                                                                                     |709.0|255.0        |Twitter for iPhone |23951440.0            |2009-03-12 14:05:32|74290.0             |United States                 |39.7837304        |-100.4458825       |NULL      |NULL                |NULL      |Trump 2020 highway caravan overflowing this rest stop, one of many planned ahead of the election as America closes in on three weeks to November 3rd #Trump #MAGA #Trump2020 #Michigan https://t.co/k3PKk8Lg4l                                                                                                                                                                                                                                                                                                                                                                                                                                                     |TRUMP    |[trump, 2020, highway, caravan, overflowing, rest, stop, one, many, planned, ahead, election, america, closes, three, weeks, november, 3rd, #trump, #maga, #trump2020, #michigan]                                                      |Positive|(25315,[0,4,13,25,29,37,40,73,92,131,198,339,390,506,556,707,1075,1897,2415,3799,12766,16615],[1.0,1.0,1.0,1.0,1.0,1.0,1.0,1.0,1.0,1.0,1.0,1.0,1.0,1.0,1.0,1.0,1.0,1.0,1.0,1.0,1.0,1.0])                                                                                             |(25315,[0,4,13,25,29,37,40,73,92,131,198,339,390,506,556,707,1075,1897,2415,3799,12766,16615],[0.7042944951573549,2.124712902113373,2.8421856064407596,3.217998946498809,3.4155757168410115,3.4833557319027535,3.5815271439881107,3.931267530258175,4.029427294730419,4.260449333616709,4.494956643581234,4.936789395860273,5.079890239500946,5.2469443241641125,5.359061622284818,5.607957669701443,5.970863163390812,6.546227308294373,6.797541736575279,7.357157524510702,8.337986777522428,8.743451885630593])                                                                                                                                                                                                                        |1.0  |\n",
      "|1.3165404444032614e+18|2020-10-15 00:44:36|@MollyBeck @patrickdmarley #Trump is president. I have a hard time believing anyone can be that offended over a cuss word at this point.                                                                                                                                                                                                                                                                                                                                                                                                                                                                                                                           |15.0 |1.0          |Twitter for Android|35540152.0            |2009-04-26 19:22:04|3166.0              |Wisconsin, USA                |44.4308975        |-89.6884637        |NULL      |Wisconsin           |WI        |@MollyBeck @patrickdmarley #Trump is president. I have a hard time believing anyone can be that offended over a cuss word at this point.                                                                                                                                                                                                                                                                                                                                                                                                                                                                                                                           |TRUMP    |[#trump, president, hard, time, believing, anyone, offended, cuss, word, point]                                                                                                                                                        |Negative|(25315,[0,8,35,233,292,309,747,5109,5269,20343],[1.0,1.0,1.0,1.0,1.0,1.0,1.0,1.0,1.0,1.0])                                                                                                                                                                                           |(25315,[0,8,35,233,292,309,747,5109,5269,20343],[0.7042944951573549,2.4819602013095503,3.4755937265672645,4.640808520593796,4.792208167049165,4.851631587519966,5.629936576420218,7.644839596962483,7.644839596962483,8.743451885630593])                                                                                                                                                                                                                                                                                                                                                                                                                                                                                                 |2.0  |\n",
      "|1.316546127072768e+18 |2020-10-15 01:07:11|I will not like, retweet or reply to any tweets that refer to #Trump's unqualified &amp; absurd #SCOTUS nominee by her initials, no matter how clever they may be.                                                                                                                                                                                                                                                                                                                                                                                                                                                                                                 |39.0 |4.0          |Twitter Web App    |1.1059268941160572e+18|2019-03-13 20:21:33|14328.0             |Dissident In Florida, USA     |27.7567667        |-81.4639835        |NULL      |Florida             |FL        |I will not like, retweet or reply to any tweets that refer to #Trump's unqualified &amp; absurd #SCOTUS nominee by her initials, no matter how clever they may be.                                                                                                                                                                                                                                                                                                                                                                                                                                                                                                 |TRUMP    |[like, retweet, reply, tweets, refer, #trump, unqualified, amp, absurd, #scotus, nominee, initials, matter, clever, may]                                                                                                               |Negative|(25315,[0,3,16,164,330,419,504,1423,1819,2358,4934,7639,10411,12436,17704],[1.0,1.0,1.0,1.0,1.0,1.0,1.0,1.0,1.0,1.0,1.0,1.0,1.0,1.0,1.0])                                                                                                                                            |(25315,[0,3,16,164,330,419,504,1423,1819,2358,4934,7639,10411,12436,17704],[0.7042944951573549,2.2812027642938038,2.968900340086184,4.386743058941001,4.936789395860273,5.079890239500946,5.277715982830866,6.258545235842592,6.492160087024097,6.797541736575279,7.644839596962483,8.050304705070648,8.337986777522428,8.337986777522428,8.743451885630593])                                                                                                                                                                                                                                                                                                                                                                             |2.0  |\n",
      "|1.3165491477433915e+18|2020-10-15 01:19:11|Now #Twitter and #Facebook are censoring the NYPost's story to a never-before-seen-degree. Why? I imagine, to protect themselves from being hauled in front of Congress for InstallingTrumpforPutin2.0™ - should #Trump win.                                                                                                                                                                                                                                                                                                                                                                                                                                       |54.0 |27.0         |Twitter Web App    |8.415090420234609e+17 |2017-03-14 04:39:24|23362.0             |United States                 |39.7837304        |-100.4458825       |NULL      |NULL                |NULL      |Now #Twitter and #Facebook are censoring the NYPost's story to a never-before-seen-degree. Why? I imagine, to protect themselves from being hauled in front of Congress for InstallingTrumpforPutin2.0™ - should #Trump win.                                                                                                                                                                                                                                                                                                                                                                                                                                       |TRUMP    |[#twitter, #facebook, censoring, nypost, story, never, seen, degree, imagine, protect, hauled, front, congress, installingtrumpforputin2, 0, #trump, win]                                                                              |Positive|(25315,[0,22,80,302,347,513,524,749,880,1328,2265,2279,2553,7702,9990,16357,21580],[1.0,1.0,1.0,1.0,1.0,1.0,1.0,1.0,1.0,1.0,1.0,1.0,1.0,1.0,1.0,1.0,1.0])                                                                                                                            |(25315,[0,22,80,302,347,513,524,749,880,1328,2265,2279,2553,7702,9990,16357,21580],[0.7042944951573549,3.1656106343322383,3.895335521032112,4.903999573037281,4.914810489141497,5.342254503968437,5.277715982830866,5.773037420060891,5.773037420060891,6.217723241322337,6.728548865088328,6.797541736575279,6.871649708729001,8.050304705070648,8.337986777522428,8.743451885630593,8.743451885630593])                                                                                                                                                                                                                                                                                                                                 |1.0  |\n",
      "|1.316550993182634e+18 |2020-10-15 01:26:31|My thoughts on the #icecube and #trump new controversy! https://t.co/iYOdktfI5f                                                                                                                                                                                                                                                                                                                                                                                                                                                                                                                                                                                    |14.0 |1.0          |Twitter for iPhone |1.0897494731341784e+18|2019-01-28 04:58:15|1285.0              |United States                 |39.7837304        |-100.4458825       |NULL      |NULL                |NULL      |My thoughts on the #icecube and #trump new controversy! https://t.co/iYOdktfI5f                                                                                                                                                                                                                                                                                                                                                                                                                                                                                                                                                                                    |TRUMP    |[thoughts, #icecube, #trump, new, controversy]                                                                                                                                                                                         |Positive|(25315,[0,53,1191,1704,5580],[1.0,1.0,1.0,1.0,1.0])                                                                                                                                                                                                                                  |(25315,[0,53,1191,1704,5580],[0.7042944951573549,3.680856852603626,6.104394556015334,6.440866792636547,7.644839596962483])                                                                                                                                                                                                                                                                                                                                                                                                                                                                                                                                                                                                                |1.0  |\n",
      "|1.3165518686262026e+18|2020-10-15 01:30:00|📌 #Trump acusa a @JoeBiden de querer subir un 14% los impuestos a la clase media. Esto es falso\\n\\nUna propaganda lanza esta acusación falsa pero diversos centros de estudio demuestran que no tiene sustento alguno.\\n\\n✍🏻 @loujacobson de @PolitiFact \\n\\nhttps://t.co/YVb4gjiCcL                                                                                                                                                                                                                                                                                                                                                                             |25.0 |18.0         |Twitter Web App    |152142811.0           |2010-06-05 05:22:50|812382.0            |United States                 |39.7837304        |-100.4458825       |NULL      |NULL                |NULL      |📌 #Trump acusa a @JoeBiden de querer subir un 14% los impuestos a la clase media. Esto es falso\\n\\nUna propaganda lanza esta acusación falsa pero diversos centros de estudio demuestran que no tiene sustento alguno.\\n\\n✍🏻 @loujacobson de @PolitiFact \\n\\nhttps://t.co/YVb4gjiCcL                                                                                                                                                                                                                                                                                                                                                                             |TRUMP    |[#trump, acusa, de, querer, subir, un, 14, los, impuestos, la, clase, media, esto, es, falso, una, propaganda, lanza, esta, acusaci, n, falsa, pero, diversos, centros, de, estudio, demuestran, que, tiene, sustento, alguno, de]     |Negative|(25315,[0,6,11,28,30,58,75,104,145,283,531,780,1054,1088,1440,2088,4294,4550,4758,5506,6782,7545,7975,11265,15103,18546,20357,21042,22176,22645,23039],[1.0,3.0,1.0,1.0,1.0,1.0,1.0,1.0,1.0,1.0,1.0,1.0,1.0,1.0,1.0,1.0,1.0,1.0,1.0,1.0,1.0,1.0,1.0,1.0,1.0,1.0,1.0,1.0,1.0,1.0,1.0])|(25315,[0,6,11,28,30,58,75,104,145,283,531,780,1054,1088,1440,2088,4294,4550,4758,5506,6782,7545,7975,11265,15103,18546,20357,21042,22176,22645,23039],[0.7042944951573549,8.178227870214329,3.066698083362311,3.5258024221500106,3.634480690813475,3.9071699786791143,3.951802132699883,4.118479072346322,4.399646463776909,4.801870077960902,5.466307152638416,5.652409432272277,5.940091504724058,6.035401684528383,6.258545235842592,6.664010343950757,7.490688917135224,7.490688917135224,7.490688917135224,7.827161153756437,7.827161153756437,8.050304705070648,8.050304705070648,8.337986777522428,8.743451885630593,8.743451885630593,8.743451885630593,8.743451885630593,8.743451885630593,8.743451885630593,8.743451885630593])|2.0  |\n",
      "|1.316556549314224e+18 |2020-10-15 01:48:36|Holy shit, @realDonaldTrump...this is horrible! You’re gonna lose in the biggest, most humiliating landslide in history! #Trump #Election2020 https://t.co/SmCQTRXhbo                                                                                                                                                                                                                                                                                                                                                                                                                                                                                              |195.0|35.0         |Twitter for iPhone |123281100.0           |2010-03-15 15:46:27|82715.0             |NYC                           |40.7127281        |-74.0060152        |New York  |New York            |NY        |Holy shit, @realDonaldTrump...this is horrible! You’re gonna lose in the biggest, most humiliating landslide in history! #Trump #Election2020 https://t.co/SmCQTRXhbo                                                                                                                                                                                                                                                                                                                                                                                                                                                                                              |TRUMP    |[holy, shit, horrible, re, gonna, lose, biggest, humiliating, landslide, history, #trump, #election2020]                                                                                                                               |Negative|(25315,[0,5,24,173,279,409,606,898,1138,1702,1927,4304],[1.0,1.0,1.0,1.0,1.0,1.0,1.0,1.0,1.0,1.0,1.0,1.0])                                                                                                                                                                           |(25315,[0,5,24,173,279,409,606,898,1138,1702,1927,4304],[0.7042944951573549,2.0613432881807836,3.216008896090799,4.412718545344261,4.782638716033015,5.105865725904207,5.447615019626263,5.799012906464152,6.035401684528383,6.440866792636547,6.546227308294373,7.490688917135224])                                                                                                                                                                                                                                                                                                                                                                                                                                                      |2.0  |\n",
      "|1.3165582752787866e+18|2020-10-15 01:55:27|@ddale8 Dan, true confession, I have #trump PTSD. If you think he is lying now, in the next two weeks, Trump will promise a cure for cancer, and $10K for every household if re-elected. Mark my words!                                                                                                                                                                                                                                                                                                                                                                                                                                                            |12.0 |2.0          |Twitter Web App    |16561857.0            |2008-10-02 16:42:06|1987.0              |Atlanta                       |33.749098700000005|-84.39018490000001 |Atlanta   |Georgia             |GA        |@ddale8 Dan, true confession, I have #trump PTSD. If you think he is lying now, in the next two weeks, Trump will promise a cure for cancer, and $10K for every household if re-elected. Mark my words!                                                                                                                                                                                                                                                                                                                                                                                                                                                            |TRUMP    |[dan, true, confession, #trump, ptsd, think, lying, next, two, weeks, trump, promise, cure, cancer, 10k, every, household, re, elected, mark, words]                                                                                   |Positive|(25315,[0,4,24,47,91,144,224,231,344,440,474,556,1198,1473,2359,2372,4584,5237,12877,16392,20530],[1.0,1.0,1.0,1.0,1.0,1.0,1.0,1.0,1.0,1.0,1.0,1.0,1.0,1.0,1.0,1.0,1.0,1.0,1.0,1.0,1.0])                                                                                             |(25315,[0,4,24,47,91,144,224,231,344,440,474,556,1198,1473,2359,2372,4584,5237,12877,16392,20530],[0.7042944951573549,2.124712902113373,3.216008896090799,3.665157943060522,4.016064066918252,4.318605253773783,4.649107323408492,4.632578021457281,4.947962696458398,5.202492561593278,5.2469443241641125,5.359061622284818,6.104394556015334,6.301104850261388,6.797541736575279,6.797541736575279,7.490688917135224,7.644839596962483,8.337986777522428,8.743451885630593,8.743451885630593])                                                                                                                                                                                                                                          |1.0  |\n",
      "|1.316561045062914e+18 |2020-10-15 02:06:28|#US 🇺🇸 👉 Se confirma el aumento de la Confianza del Consumidor bajo la administración #Trump \\n\\nI'm Sorry #RadicalLeft https://t.co/oO5yodgybv                                                                                                                                                                                                                                                                                                                                                                                                                                                                                                                 |17.0 |12.0         |Twitter for Android|2721004114.0          |2014-07-22 19:06:41|3348.0              |San Rafael 40410 - España 🇪🇸|37.9735346        |-122.5310874       |San Rafael|California          |CA        |#US 🇺🇸 👉 Se confirma el aumento de la Confianza del Consumidor bajo la administración #Trump \\n\\nI'm Sorry #RadicalLeft https://t.co/oO5yodgybv                                                                                                                                                                                                                                                                                                                                                                                                                                                                                                                 |TRUMP    |[#us, se, confirma, el, aumento, de, la, confianza, del, consumidor, bajo, la, administraci, n, #trump, m, sorry, #radicalleft]                                                                                                        |Negative|(25315,[0,6,11,17,20,30,94,172,818,1479,1946,5314,7495,9254,10487,16332,21994],[1.0,1.0,2.0,1.0,1.0,1.0,1.0,1.0,1.0,1.0,1.0,1.0,1.0,1.0,1.0,1.0,1.0])                                                                                                                                |(25315,[0,6,11,17,20,30,94,172,818,1479,1946,5314,7495,9254,10487,16332,21994],[0.7042944951573549,2.7260759567381094,6.133396166724622,3.026424184224371,3.3892268871442597,3.634480690813475,4.0706230511686865,4.480772008589277,5.773037420060891,6.392076628467115,6.6033857221343215,7.644839596962483,8.050304705070648,8.337986777522428,8.337986777522428,8.743451885630593,8.743451885630593])                                                                                                                                                                                                                                                                                                                                  |2.0  |\n",
      "|1.316566861870502e+18 |2020-10-15 02:29:35|\"#Ohio Sen. Brown believes believes #Trump  is \"\"desperate.\"\" https://t.co/lTC5MyJadX\"                                                                                                                                                                                                                                                                                                                                                                                                                                                                                                                                                                             |19.0 |0.0          |Twitter for iPhone |122396513.0           |2010-03-12 15:20:56|13811.0             |Washington, DC                |38.8949924        |-77.0365581        |Washington|District of Columbia|DC        |\"#Ohio Sen. Brown believes believes #Trump  is \"\"desperate.\"\" https://t.co/lTC5MyJadX\"                                                                                                                                                                                                                                                                                                                                                                                                                                                                                                                                                                             |TRUMP    |[#ohio, sen, brown, believes, believes, #trump, desperate]                                                                                                                                                                             |Negative|(25315,[0,729,1408,1410,1893,3308],[1.0,1.0,2.0,1.0,1.0,1.0])                                                                                                                                                                                                                        |(25315,[0,729,1408,1410,1893,3308],[0.7042944951573549,5.586451464480479,12.691113225664445,6.258545235842592,6.6033857221343215,7.134013973196492])                                                                                                                                                                                                                                                                                                                                                                                                                                                                                                                                                                                      |2.0  |\n",
      "|1.3165711309044122e+18|2020-10-15 02:46:32|.@realDonaldTrump lied to and fucked over farmers, factory, coal and steelworkers. They aren't forgetting... https://t.co/9vmEdeCxVm #Trump                                                                                                                                                                                                                                                                                                                                                                                                                                                                                                                        |101.0|40.0         |Twitter Web App    |123281100.0           |2010-03-15 15:46:27|82715.0             |NYC                           |40.7127281        |-74.0060152        |New York  |New York            |NY        |.@realDonaldTrump lied to and fucked over farmers, factory, coal and steelworkers. They aren't forgetting... https://t.co/9vmEdeCxVm #Trump                                                                                                                                                                                                                                                                                                                                                                                                                                                                                                                        |TRUMP    |[lied, fucked, farmers, factory, coal, steelworkers, aren, forgetting, #trump]                                                                                                                                                         |Negative|(25315,[0,888,938,3700,3728,4032,5700,17974,21321],[1.0,1.0,1.0,1.0,1.0,1.0,1.0,1.0,1.0])                                                                                                                                                                                            |(25315,[0,888,938,3700,3728,4032,5700,17974,21321],[0.7042944951573549,5.773037420060891,5.853080127734428,7.239374488854319,7.239374488854319,7.357157524510702,7.827161153756437,8.743451885630593,8.743451885630593])                                                                                                                                                                                                                                                                                                                                                                                                                                                                                                                  |2.0  |\n",
      "|1.3165713635035668e+18|2020-10-15 02:47:28|At some point, everyone will be asking why the #Trump Administration and campaign have employed classic #Russian #deza for 6 years... #ElectionInterference #Disinformation #Hackers #VoteBlueToSaveAmerica https://t.co/s4iXr8NS3X                                                                                                                                                                                                                                                                                                                                                                                                                                |11.0 |10.0         |Twitter Web App    |297261364.0           |2011-05-12 06:40:28|1787.0              |Northern California           |32.7349196        |-117.15459740000001|San Diego |California          |CA        |At some point, everyone will be asking why the #Trump Administration and campaign have employed classic #Russian #deza for 6 years... #ElectionInterference #Disinformation #Hackers #VoteBlueToSaveAmerica https://t.co/s4iXr8NS3X                                                                                                                                                                                                                                                                                                                                                                                                                                |TRUMP    |[point, everyone, asking, #trump, administration, campaign, employed, classic, #russian, #deza, 6, years, #electioninterference, #disinformation, #hackers, #votebluetosaveamerica]                                                    |Positive|(25315,[0,41,44,150,197,243,292,1002,1112,3442,3582,5402,6955,9342,14202,24267],[1.0,1.0,1.0,1.0,1.0,1.0,1.0,1.0,1.0,1.0,1.0,1.0,1.0,1.0,1.0,1.0])                                                                                                                                   |(25315,[0,41,44,150,197,243,292,1002,1112,3442,3582,5402,6955,9342,14202,24267],[0.7042944951573549,3.6224685343654714,3.634480690813475,4.330653592289957,4.502125133059846,4.709211247478198,4.792208167049165,5.881251004701124,6.104394556015334,7.239374488854319,7.239374488854319,7.644839596962483,8.050304705070648,8.337986777522428,8.743451885630593,8.743451885630593])                                                                                                                                                                                                                                                                                                                                                      |1.0  |\n",
      "|1.3165729102581883e+18|2020-10-15 02:53:37|@icecube Cube, you’re suggesting that #Trump is the better candidate for POC. Have you lost your fucking mind?                                                                                                                                                                                                                                                                                                                                                                                                                                                                                                                                                     |589.0|31.0         |Twitter for iPhone |123281100.0           |2010-03-15 15:46:27|82715.0             |NYC                           |40.7127281        |-74.0060152        |New York  |New York            |NY        |@icecube Cube, you’re suggesting that #Trump is the better candidate for POC. Have you lost your fucking mind?                                                                                                                                                                                                                                                                                                                                                                                                                                                                                                                                                     |TRUMP    |[cube, re, suggesting, #trump, better, candidate, poc, lost, fucking, mind]                                                                                                                                                            |Negative|(25315,[0,24,177,202,248,789,823,3069,5124,5623],[1.0,1.0,1.0,1.0,1.0,1.0,1.0,1.0,1.0,1.0])                                                                                                                                                                                          |(25315,[0,24,177,202,248,789,823,3069,5124,5623],[0.7042944951573549,3.216008896090799,4.439386792426423,4.523944180454486,4.683008875084173,5.675398950496976,5.69892944790717,7.134013973196492,7.644839596962483,7.827161153756437])                                                                                                                                                                                                                                                                                                                                                                                                                                                                                                   |2.0  |\n",
      "|1.3165887830186107e+18|2020-10-15 03:56:41|@realDonaldTrump “Think of where we’d be now” if you’d taken #Covid19 seriously in February. Now the blood of 216,000 dead is on your hands...and #coronavirus rages out of control after 8 months. #Trump                                                                                                                                                                                                                                                                                                                                                                                                                                                         |389.0|41.0         |Twitter for iPhone |123281100.0           |2010-03-15 15:46:27|82715.0             |NYC                           |40.7127281        |-74.0060152        |New York  |New York            |NY        |@realDonaldTrump “Think of where we’d be now” if you’d taken #Covid19 seriously in February. Now the blood of 216,000 dead is on your hands...and #coronavirus rages out of control after 8 months. #Trump                                                                                                                                                                                                                                                                                                                                                                                                                                                         |TRUMP    |[think, d, d, taken, #covid19, seriously, february, blood, 216, 000, dead, hands, #coronavirus, rages, control, 8, months, #trump]                                                                                                     |Negative|(25315,[0,38,47,76,81,271,284,498,548,607,759,964,1230,3383,4060,4373,10981],[1.0,2.0,1.0,1.0,1.0,1.0,1.0,1.0,1.0,1.0,1.0,1.0,1.0,1.0,1.0,1.0,1.0])                                                                                                                                  |(25315,[0,38,47,76,81,271,284,498,548,607,759,964,1230,3383,4060,4373,10981],[0.7042944951573549,7.4065155785855845,3.665157943060522,3.838177107192163,4.061320658506372,4.831428880202447,4.754467839066318,5.231906446799572,5.342254503968437,5.504773433466212,5.675398950496976,5.881251004701124,6.104394556015334,7.239374488854319,7.357157524510702,7.490688917135224,8.337986777522428])                                                                                                                                                                                                                                                                                                                                       |2.0  |\n",
      "|1.31660044525158e+18  |2020-10-15 04:43:02|@sciencegranny @SpeakerPelosi Her “fighting” amounts to Americans waiting for necessary help. Her job isn’t to be on a soap box - it’s to speak for the people and she KNOWS exactly what people want. She just doesn’t want to provide because she doesn’t like #DonaldTrump. Some of us can’t wait!                                                                                                                                                                                                                                                                                                                                                              |139.0|10.0         |Twitter Web App    |9.703790783134148e+17 |2018-03-04 19:22:55|1.0                 |Maryland, USA                 |39.5162234        |-76.9382069        |NULL      |Maryland            |MD        |@sciencegranny @SpeakerPelosi Her “fighting” amounts to Americans waiting for necessary help. Her job isn’t to be on a soap box - it’s to speak for the people and she KNOWS exactly what people want. She just doesn’t want to provide because she doesn’t like #DonaldTrump. Some of us can’t wait!                                                                                                                                                                                                                                                                                                                                                              |TRUMP    |[fighting, amounts, americans, waiting, necessary, help, job, isn, soap, box, speak, people, knows, exactly, people, want, doesn, want, provide, doesn, like, #donaldtrump, us, wait]                                                  |Positive|(25315,[9,15,16,23,69,118,130,189,218,264,463,485,491,704,801,1064,1872,2338,3615,16366,23560],[1.0,2.0,1.0,1.0,2.0,1.0,2.0,1.0,1.0,1.0,1.0,1.0,1.0,1.0,1.0,1.0,1.0,1.0,1.0,1.0,1.0])                                                                                                |(25315,[9,15,16,23,69,118,130,189,218,264,463,485,491,704,801,1064,1872,2338,3615,16366,23560],[2.504151174618029,5.9346974987895305,2.968900340086184,3.1963232210197683,7.870681711291621,4.184325638143908,8.520898667233418,4.494956643581234,4.576786661828866,4.700400617796042,5.217091361014431,5.262211796294901,5.262211796294901,5.565398055282647,5.675398950496976,5.940091504724058,6.546227308294373,6.797541736575279,7.239374488854319,8.743451885630593,8.743451885630593])                                                                                                                                                                                                                                             |1.0  |\n",
      "|1.3166418660713882e+18|2020-10-15 07:27:37|@NedOpposes @BlueWaveSaveUs @1strongrobin @Fix8d2020 @BostonBubbalooo @radio_martin @Dadilicious2 @Peatches66 @LatinaMomInLA @Ask__me__why @SaraBellomy @BreaultCrow @ZACKHAMMER7 @La_Bete_humaine @seacreaturemama @drodvik52 @Djangomydog @collieflower922 @BotsyDevos @jmspivey37 @LanceUSA70 @davidsongc @WildinWV @SRMex @SnickOld @FlowerAndIris1 @Mercurial_LG @Sal_2020_ @DesnoyerRobert @RebelArt5 @AntiTrumPutin @ezolaezola @PaulDereume @Geranthrimin @George_Jorge666 @dk1821dk No they shouldn’t have #Died if #Trump would have been truthful a lot of people would have #Lived , he new the #coronavirus was #Deadly and said nothing , #Despicable|11.0 |1.0          |Twitter for iPhone |82531166.0            |2009-10-15 03:40:24|3188.0              |pittsburgh                    |40.4416941        |-79.99008609999998 |Pittsburgh|Pennsylvania        |PA        |@NedOpposes @BlueWaveSaveUs @1strongrobin @Fix8d2020 @BostonBubbalooo @radio_martin @Dadilicious2 @Peatches66 @LatinaMomInLA @Ask__me__why @SaraBellomy @BreaultCrow @ZACKHAMMER7 @La_Bete_humaine @seacreaturemama @drodvik52 @Djangomydog @collieflower922 @BotsyDevos @jmspivey37 @LanceUSA70 @davidsongc @WildinWV @SRMex @SnickOld @FlowerAndIris1 @Mercurial_LG @Sal_2020_ @DesnoyerRobert @RebelArt5 @AntiTrumPutin @ezolaezola @PaulDereume @Geranthrimin @George_Jorge666 @dk1821dk No they shouldn’t have #Died if #Trump would have been truthful a lot of people would have #Lived , he new the #coronavirus was #Deadly and said nothing , #Despicable|TRUMP    |[shouldn, #died, #trump, truthful, lot, people, #lived, new, #coronavirus, #deadly, said, nothing, #despicable]                                                                                                                        |Positive|(25315,[0,15,53,54,193,267,284,1912,6934,15686,16512,23015,24760],[1.0,1.0,1.0,1.0,1.0,1.0,1.0,1.0,1.0,1.0,1.0,1.0,1.0])                                                                                                                                                             |(25315,[0,15,53,54,193,267,284,1912,6934,15686,16512,23015,24760],[0.7042944951573549,2.9673487493947652,3.680856852603626,3.7395055796851335,4.487839175812369,4.709211247478198,4.754467839066318,6.546227308294373,8.050304705070648,8.743451885630593,8.743451885630593,8.743451885630593,8.743451885630593])                                                                                                                                                                                                                                                                                                                                                                                                                         |1.0  |\n",
      "|1.3166823221592517e+18|2020-10-15 10:08:23|Don't forget, #Trump can still win. I grew up with Christians in the Bible Belt. They are all racists, despite claiming otherwise.  You have no clue how many racists are in America. The race is tighter than Twitter is saying. Don't get complacent. #VOTE\\nhttps://t.co/hnT2gxWpxp                                                                                                                                                                                                                                                                                                                                                                             |12.0 |5.0          |Twitter for Android|399129934.0           |2011-10-27 01:24:58|2271.0              |Beverly Hills                 |34.0696501        |-118.3963062       |NULL      |California          |CA        |Don't forget, #Trump can still win. I grew up with Christians in the Bible Belt. They are all racists, despite claiming otherwise.  You have no clue how many racists are in America. The race is tighter than Twitter is saying. Don't get complacent. #VOTE\\nhttps://t.co/hnT2gxWpxp                                                                                                                                                                                                                                                                                                                                                                             |TRUMP    |[forget, #trump, still, win, grew, christians, bible, belt, racists, despite, claiming, otherwise, clue, many, racists, america, race, tighter, twitter, saying, get, complacent, #vote]                                               |Positive|(25315,[0,18,22,26,29,50,73,227,228,256,856,1042,1285,1329,2256,3010,3114,3265,3381,3574,4088,8039],[1.0,1.0,1.0,1.0,1.0,1.0,1.0,1.0,1.0,1.0,1.0,1.0,1.0,1.0,2.0,1.0,1.0,1.0,1.0,1.0,1.0,1.0])                                                                                       |(25315,[0,18,22,26,29,50,73,227,228,256,856,1042,1285,1329,2256,3010,3114,3265,3381,3574,4088,8039],[0.7042944951573549,2.929321353805526,3.1656106343322383,3.254514159473906,3.4155757168410115,3.6968061540113037,3.931267530258175,4.608285328888237,4.640808520593796,4.700400617796042,5.825681153546313,5.940091504724058,6.217723241322337,6.178502528169056,13.595083473150558,7.038703793392167,7.134013973196492,7.134013973196492,7.239374488854319,7.239374488854319,7.357157524510702,8.050304705070648])                                                                                                                                                                                                                   |1.0  |\n",
      "|1.3166879302750495e+18|2020-10-15 10:30:40|@TheresaMechele @realDonaldTrump @POTUS #DonaldTrump is not mentally capable to lead our nation out of this crisis. https://t.co/Fvmyv6Hymc                                                                                                                                                                                                                                                                                                                                                                                                                                                                                                                        |13.0 |3.0          |Twitter Web App    |241581504.0           |2011-01-22 16:31:24|35804.0             |Louisiana, USA                |30.8703881        |-92.007126         |NULL      |Louisiana           |LA        |@TheresaMechele @realDonaldTrump @POTUS #DonaldTrump is not mentally capable to lead our nation out of this crisis. https://t.co/Fvmyv6Hymc                                                                                                                                                                                                                                                                                                                                                                                                                                                                                                                        |TRUMP    |[#donaldtrump, mentally, capable, lead, nation, crisis]                                                                                                                                                                                |Positive|(25315,[9,63,244,1511,2449,3502],[1.0,1.0,1.0,1.0,1.0,1.0])                                                                                                                                                                                                                          |(25315,[9,63,244,1511,2449,3502],[2.504151174618029,3.8161982004733876,4.657475573079008,6.301104850261388,6.871649708729001,7.239374488854319])                                                                                                                                                                                                                                                                                                                                                                                                                                                                                                                                                                                          |1.0  |\n",
      "+----------------------+-------------------+-------------------------------------------------------------------------------------------------------------------------------------------------------------------------------------------------------------------------------------------------------------------------------------------------------------------------------------------------------------------------------------------------------------------------------------------------------------------------------------------------------------------------------------------------------------------------------------------------------------------------------------------------------------------+-----+-------------+-------------------+----------------------+-------------------+--------------------+------------------------------+------------------+-------------------+----------+--------------------+----------+-------------------------------------------------------------------------------------------------------------------------------------------------------------------------------------------------------------------------------------------------------------------------------------------------------------------------------------------------------------------------------------------------------------------------------------------------------------------------------------------------------------------------------------------------------------------------------------------------------------------------------------------------------------------+---------+---------------------------------------------------------------------------------------------------------------------------------------------------------------------------------------------------------------------------------------+--------+-------------------------------------------------------------------------------------------------------------------------------------------------------------------------------------------------------------------------------------------------------------------------------------+------------------------------------------------------------------------------------------------------------------------------------------------------------------------------------------------------------------------------------------------------------------------------------------------------------------------------------------------------------------------------------------------------------------------------------------------------------------------------------------------------------------------------------------------------------------------------------------------------------------------------------------------------------------------------------------------------------------------------------------+-----+\n",
      "only showing top 20 rows\n",
      "\n"
     ]
    },
    {
     "name": "stderr",
     "output_type": "stream",
     "text": [
      "                                                                                \r"
     ]
    }
   ],
   "execution_count": 30
  },
  {
   "metadata": {
    "ExecuteTime": {
     "end_time": "2024-05-12T13:05:03.501160Z",
     "start_time": "2024-05-12T13:04:55.505680Z"
    }
   },
   "cell_type": "code",
   "source": [
    "kmeans = KMeans().setMaxIter(400).setK(2).setSeed(1).setDistanceMeasure('cosine')  \n",
    "kMeansModel = kmeans.fit(df_train)\n",
    "predictions = kMeansModel.transform(pipelineModel.transform(df_test))\n",
    "predictions.select('tweet_id', 'tweet', 'label', 'prediction').limit(100).toPandas()"
   ],
   "id": "5c7558ddc7304fd3",
   "outputs": [
    {
     "name": "stderr",
     "output_type": "stream",
     "text": [
      "24/05/12 14:04:56 WARN MemoryStore: Not enough space to cache rdd_11_1 in memory! (computed 158.9 MiB so far)\n",
      "24/05/12 14:04:58 WARN MemoryStore: Not enough space to cache rdd_11_1 in memory! (computed 158.9 MiB so far)\n",
      "24/05/12 14:04:59 WARN MemoryStore: Not enough space to cache rdd_11_1 in memory! (computed 158.9 MiB so far)\n",
      "24/05/12 14:05:01 WARN DAGScheduler: Broadcasting large task binary with size 1204.8 KiB\n",
      "24/05/12 14:05:02 WARN MemoryStore: Not enough space to cache rdd_11_1 in memory! (computed 158.9 MiB so far)\n",
      "24/05/12 14:05:03 WARN DAGScheduler: Broadcasting large task binary with size 1189.9 KiB\n",
      "24/05/12 14:05:03 WARN DAGScheduler: Broadcasting large task binary with size 1197.2 KiB\n"
     ]
    },
    {
     "data": {
      "text/plain": [
       "                  tweet_id                                              tweet  \\\n",
       "0   1.3165296068962304e+18  Ice Cube is teaming up to work with President ...   \n",
       "1    1.316532492795605e+18  @CNN @HarrietD428 This is true!\\n\\nIn a relate...   \n",
       "2    1.316546586227376e+18  \"First the corporate hack-media refused to cov...   \n",
       "3   1.3165466968648172e+18  #Iowa experienced severe devastation from the ...   \n",
       "4   1.3165493286773432e+18  If @CBS is willing, I'd be happy to do a #Town...   \n",
       "..                     ...                                                ...   \n",
       "95  1.3169061333664932e+18  The stage set up matters a lot in the tone of ...   \n",
       "96  1.3169063036425462e+18  Lie lie lie Lie. Right now #trump is trying to...   \n",
       "97  1.3169063288839086e+18  @MichaelJGwin @TVietor08 #Trump’s claim that h...   \n",
       "98  1.3169079052501975e+18  Actually a fine last question from #SavannahGu...   \n",
       "99  1.3169082976482468e+18  @AdamParkhomenko Lady complimented #Trump’s fa...   \n",
       "\n",
       "    label  prediction  \n",
       "0     0.0           1  \n",
       "1     1.0           0  \n",
       "2     1.0           1  \n",
       "3     1.0           0  \n",
       "4     1.0           0  \n",
       "..    ...         ...  \n",
       "95    1.0           0  \n",
       "96    1.0           0  \n",
       "97    1.0           0  \n",
       "98    1.0           0  \n",
       "99    2.0           0  \n",
       "\n",
       "[100 rows x 4 columns]"
      ],
      "text/html": [
       "<div>\n",
       "<style scoped>\n",
       "    .dataframe tbody tr th:only-of-type {\n",
       "        vertical-align: middle;\n",
       "    }\n",
       "\n",
       "    .dataframe tbody tr th {\n",
       "        vertical-align: top;\n",
       "    }\n",
       "\n",
       "    .dataframe thead th {\n",
       "        text-align: right;\n",
       "    }\n",
       "</style>\n",
       "<table border=\"1\" class=\"dataframe\">\n",
       "  <thead>\n",
       "    <tr style=\"text-align: right;\">\n",
       "      <th></th>\n",
       "      <th>tweet_id</th>\n",
       "      <th>tweet</th>\n",
       "      <th>label</th>\n",
       "      <th>prediction</th>\n",
       "    </tr>\n",
       "  </thead>\n",
       "  <tbody>\n",
       "    <tr>\n",
       "      <th>0</th>\n",
       "      <td>1.3165296068962304e+18</td>\n",
       "      <td>Ice Cube is teaming up to work with President ...</td>\n",
       "      <td>0.0</td>\n",
       "      <td>1</td>\n",
       "    </tr>\n",
       "    <tr>\n",
       "      <th>1</th>\n",
       "      <td>1.316532492795605e+18</td>\n",
       "      <td>@CNN @HarrietD428 This is true!\\n\\nIn a relate...</td>\n",
       "      <td>1.0</td>\n",
       "      <td>0</td>\n",
       "    </tr>\n",
       "    <tr>\n",
       "      <th>2</th>\n",
       "      <td>1.316546586227376e+18</td>\n",
       "      <td>\"First the corporate hack-media refused to cov...</td>\n",
       "      <td>1.0</td>\n",
       "      <td>1</td>\n",
       "    </tr>\n",
       "    <tr>\n",
       "      <th>3</th>\n",
       "      <td>1.3165466968648172e+18</td>\n",
       "      <td>#Iowa experienced severe devastation from the ...</td>\n",
       "      <td>1.0</td>\n",
       "      <td>0</td>\n",
       "    </tr>\n",
       "    <tr>\n",
       "      <th>4</th>\n",
       "      <td>1.3165493286773432e+18</td>\n",
       "      <td>If @CBS is willing, I'd be happy to do a #Town...</td>\n",
       "      <td>1.0</td>\n",
       "      <td>0</td>\n",
       "    </tr>\n",
       "    <tr>\n",
       "      <th>...</th>\n",
       "      <td>...</td>\n",
       "      <td>...</td>\n",
       "      <td>...</td>\n",
       "      <td>...</td>\n",
       "    </tr>\n",
       "    <tr>\n",
       "      <th>95</th>\n",
       "      <td>1.3169061333664932e+18</td>\n",
       "      <td>The stage set up matters a lot in the tone of ...</td>\n",
       "      <td>1.0</td>\n",
       "      <td>0</td>\n",
       "    </tr>\n",
       "    <tr>\n",
       "      <th>96</th>\n",
       "      <td>1.3169063036425462e+18</td>\n",
       "      <td>Lie lie lie Lie. Right now #trump is trying to...</td>\n",
       "      <td>1.0</td>\n",
       "      <td>0</td>\n",
       "    </tr>\n",
       "    <tr>\n",
       "      <th>97</th>\n",
       "      <td>1.3169063288839086e+18</td>\n",
       "      <td>@MichaelJGwin @TVietor08 #Trump’s claim that h...</td>\n",
       "      <td>1.0</td>\n",
       "      <td>0</td>\n",
       "    </tr>\n",
       "    <tr>\n",
       "      <th>98</th>\n",
       "      <td>1.3169079052501975e+18</td>\n",
       "      <td>Actually a fine last question from #SavannahGu...</td>\n",
       "      <td>1.0</td>\n",
       "      <td>0</td>\n",
       "    </tr>\n",
       "    <tr>\n",
       "      <th>99</th>\n",
       "      <td>1.3169082976482468e+18</td>\n",
       "      <td>@AdamParkhomenko Lady complimented #Trump’s fa...</td>\n",
       "      <td>2.0</td>\n",
       "      <td>0</td>\n",
       "    </tr>\n",
       "  </tbody>\n",
       "</table>\n",
       "<p>100 rows × 4 columns</p>\n",
       "</div>"
      ]
     },
     "execution_count": 31,
     "metadata": {},
     "output_type": "execute_result"
    }
   ],
   "execution_count": 31
  },
  {
   "metadata": {
    "ExecuteTime": {
     "end_time": "2024-05-12T13:05:04.544658Z",
     "start_time": "2024-05-12T13:05:03.502018Z"
    }
   },
   "cell_type": "code",
   "source": "evaluator.evaluate(predictions.withColumn(\"prediction\", predictions.prediction.cast(\"double\")))",
   "id": "bcc8e4cf0a280285",
   "outputs": [
    {
     "name": "stderr",
     "output_type": "stream",
     "text": [
      "24/05/12 14:05:03 WARN DAGScheduler: Broadcasting large task binary with size 1206.0 KiB\n",
      "                                                                                \r"
     ]
    },
    {
     "data": {
      "text/plain": [
       "0.35775810109695777"
      ]
     },
     "execution_count": 32,
     "metadata": {},
     "output_type": "execute_result"
    }
   ],
   "execution_count": 32
  },
  {
   "metadata": {
    "ExecuteTime": {
     "end_time": "2024-05-12T13:05:04.565061Z",
     "start_time": "2024-05-12T13:05:04.545265Z"
    }
   },
   "cell_type": "code",
   "source": [
    "# display centroids\n",
    "np.array(kMeansModel.clusterCenters()).squeeze()"
   ],
   "id": "86c39fe67e2a7d7e",
   "outputs": [
    {
     "data": {
      "text/plain": [
       "array([[0.18115224, 0.19479874, 0.14591879, ..., 0.00068508, 0.        ,\n",
       "        0.00050905],\n",
       "       [0.12571003, 0.13938571, 0.26261519, ..., 0.        , 0.        ,\n",
       "        0.        ]])"
      ]
     },
     "execution_count": 33,
     "metadata": {},
     "output_type": "execute_result"
    }
   ],
   "execution_count": 33
  },
  {
   "metadata": {
    "ExecuteTime": {
     "end_time": "2024-05-12T13:05:05.550569Z",
     "start_time": "2024-05-12T13:05:04.565958Z"
    }
   },
   "cell_type": "code",
   "source": "sparkSession.stop()",
   "id": "5d4b2fcfef41f699",
   "outputs": [],
   "execution_count": 34
  }
 ],
 "metadata": {
  "kernelspec": {
   "display_name": "Python 3",
   "language": "python",
   "name": "python3"
  },
  "language_info": {
   "codemirror_mode": {
    "name": "ipython",
    "version": 2
   },
   "file_extension": ".py",
   "mimetype": "text/x-python",
   "name": "python",
   "nbconvert_exporter": "python",
   "pygments_lexer": "ipython2",
   "version": "2.7.6"
  }
 },
 "nbformat": 4,
 "nbformat_minor": 5
}
