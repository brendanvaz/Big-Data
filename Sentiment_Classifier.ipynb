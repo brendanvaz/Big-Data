{
 "cells": [
  {
   "cell_type": "markdown",
   "id": "346b23be82d50119",
   "metadata": {
    "id": "346b23be82d50119"
   },
   "source": [
    "# Sentiment Classifier for Twitter Political Data   \n",
    "This notebook explains in detail various steps for a sentiment classifier for analyzing political tweets. The steps we've taken have been broken into stages (represented as `<stage number> - <stage name>`). Our solution can quickly extract the text data features to highlight the hot keywords which are re-tweeted more than once, and apply a machine learning algorithm to understand if there is any correlation between what’s going on twitter and the actual results in the elections."
   ]
  },
  {
   "cell_type": "markdown",
   "id": "5fc58415a20c3181",
   "metadata": {
    "id": "5fc58415a20c3181"
   },
   "source": [
    "# 1 - Getting Started\n",
    "In this stage, we:\n",
    "\n",
    "a. Install and import all dependencies required for the challenge.\n",
    "\n",
    "b. Initialize Spark Session.\n",
    "\n",
    "c. Read and cache dataset."
   ]
  },
  {
   "cell_type": "code",
   "execution_count": 1,
   "id": "Jg7m2LwG57cR",
   "metadata": {
    "colab": {
     "base_uri": "https://localhost:8080/"
    },
    "id": "Jg7m2LwG57cR",
    "outputId": "d1fc4053-bb0f-49c8-ca75-2bbb0d0e151a"
   },
   "outputs": [
    {
     "name": "stdout",
     "output_type": "stream",
     "text": [
      "Collecting pyspark\n",
      "  Downloading pyspark-3.5.1.tar.gz (317.0 MB)\n",
      "\u001b[2K     \u001b[90m━━━━━━━━━━━━━━━━━━━━━━━━━━━━━━━━━━━━━━━━\u001b[0m \u001b[32m317.0/317.0 MB\u001b[0m \u001b[31m1.8 MB/s\u001b[0m eta \u001b[36m0:00:00\u001b[0m\n",
      "\u001b[?25h  Preparing metadata (setup.py) ... \u001b[?25l\u001b[?25hdone\n",
      "Requirement already satisfied: py4j==0.10.9.7 in /usr/local/lib/python3.10/dist-packages (from pyspark) (0.10.9.7)\n",
      "Building wheels for collected packages: pyspark\n",
      "  Building wheel for pyspark (setup.py) ... \u001b[?25l\u001b[?25hdone\n",
      "  Created wheel for pyspark: filename=pyspark-3.5.1-py2.py3-none-any.whl size=317488491 sha256=f0d7e6cf8e1978c76ddc7f44ac6de0f4be4782d579d916a098ccc8be0c814c63\n",
      "  Stored in directory: /root/.cache/pip/wheels/80/1d/60/2c256ed38dddce2fdd93be545214a63e02fbd8d74fb0b7f3a6\n",
      "Successfully built pyspark\n",
      "Installing collected packages: pyspark\n",
      "Successfully installed pyspark-3.5.1\n"
     ]
    }
   ],
   "source": [
    "pip install pyspark"
   ]
  },
  {
   "cell_type": "code",
   "execution_count": 2,
   "id": "lwdWZBLQ59yt",
   "metadata": {
    "colab": {
     "base_uri": "https://localhost:8080/"
    },
    "id": "lwdWZBLQ59yt",
    "outputId": "93d0f16b-b02f-4dd4-fb56-f36cdf425396"
   },
   "outputs": [
    {
     "name": "stdout",
     "output_type": "stream",
     "text": [
      "Requirement already satisfied: textblob in /usr/local/lib/python3.10/dist-packages (0.17.1)\n",
      "Requirement already satisfied: nltk>=3.1 in /usr/local/lib/python3.10/dist-packages (from textblob) (3.8.1)\n",
      "Requirement already satisfied: click in /usr/local/lib/python3.10/dist-packages (from nltk>=3.1->textblob) (8.1.7)\n",
      "Requirement already satisfied: joblib in /usr/local/lib/python3.10/dist-packages (from nltk>=3.1->textblob) (1.4.2)\n",
      "Requirement already satisfied: regex>=2021.8.3 in /usr/local/lib/python3.10/dist-packages (from nltk>=3.1->textblob) (2023.12.25)\n",
      "Requirement already satisfied: tqdm in /usr/local/lib/python3.10/dist-packages (from nltk>=3.1->textblob) (4.66.4)\n"
     ]
    }
   ],
   "source": [
    "pip install textblob"
   ]
  },
  {
   "cell_type": "code",
   "execution_count": 3,
   "id": "ngE7k8J-5_Yt",
   "metadata": {
    "colab": {
     "base_uri": "https://localhost:8080/"
    },
    "id": "ngE7k8J-5_Yt",
    "outputId": "5b43b236-a183-437b-bb94-9030dd015549"
   },
   "outputs": [
    {
     "name": "stdout",
     "output_type": "stream",
     "text": [
      "Mounted at /content/drive\n"
     ]
    }
   ],
   "source": [
    "from google.colab import drive\n",
    "drive.mount('/content/drive')"
   ]
  },
  {
   "cell_type": "code",
   "execution_count": 4,
   "id": "gGwSYr4q6Bvk",
   "metadata": {
    "colab": {
     "base_uri": "https://localhost:8080/"
    },
    "id": "gGwSYr4q6Bvk",
    "outputId": "32acf7d3-caea-4820-ffff-ffbb084ab2a0"
   },
   "outputs": [
    {
     "name": "stdout",
     "output_type": "stream",
     "text": [
      "/content/drive/My Drive/notebooks\n"
     ]
    }
   ],
   "source": [
    "%cd '/content/drive/My Drive/notebooks'"
   ]
  },
  {
   "cell_type": "code",
   "execution_count": 5,
   "id": "e076f296395546b0",
   "metadata": {
    "colab": {
     "base_uri": "https://localhost:8080/"
    },
    "id": "e076f296395546b0",
    "outputId": "09f9df30-0e72-4697-91e0-ef26d0c0b3f1"
   },
   "outputs": [
    {
     "name": "stdout",
     "output_type": "stream",
     "text": [
      "Requirement already satisfied: textblob in /usr/local/lib/python3.10/dist-packages (0.17.1)\n",
      "Requirement already satisfied: nltk>=3.1 in /usr/local/lib/python3.10/dist-packages (from textblob) (3.8.1)\n",
      "Requirement already satisfied: click in /usr/local/lib/python3.10/dist-packages (from nltk>=3.1->textblob) (8.1.7)\n",
      "Requirement already satisfied: joblib in /usr/local/lib/python3.10/dist-packages (from nltk>=3.1->textblob) (1.4.2)\n",
      "Requirement already satisfied: regex>=2021.8.3 in /usr/local/lib/python3.10/dist-packages (from nltk>=3.1->textblob) (2023.12.25)\n",
      "Requirement already satisfied: tqdm in /usr/local/lib/python3.10/dist-packages (from nltk>=3.1->textblob) (4.66.4)\n"
     ]
    }
   ],
   "source": [
    "import matplotlib.pyplot as plt\n",
    "!pip install textblob"
   ]
  },
  {
   "cell_type": "code",
   "execution_count": 6,
   "id": "653eb8eb92d7c6d0",
   "metadata": {
    "ExecuteTime": {
     "end_time": "2024-05-10T19:26:03.563652Z",
     "start_time": "2024-05-10T19:26:02.868970Z"
    },
    "id": "653eb8eb92d7c6d0"
   },
   "outputs": [],
   "source": [
    "%matplotlib inline\n",
    "from src.jobs.spark_etl import extract\n",
    "from src.utils.spark import initSparkSession\n",
    "from src.utils.dataset import getPolarity\n",
    "from src.transforms.Preprocessing import CleanTweet, polarityCalculator\n",
    "from sklearn.preprocessing import MinMaxScaler\n",
    "from pyspark.ml import Pipeline\n",
    "from pyspark.ml.evaluation import MulticlassClassificationEvaluator\n",
    "from pyspark.ml.feature import RegexTokenizer, StopWordsRemover, CountVectorizer, NGram, VectorAssembler, SQLTransformer, HashingTF, IDF, StringIndexer, ChiSqSelector\n",
    "from pyspark.ml.classification import LogisticRegression\n",
    "from pyspark.ml.tuning import ParamGridBuilder, CrossValidator, TrainValidationSplit"
   ]
  },
  {
   "cell_type": "code",
   "execution_count": 10,
   "id": "6dec4e81682027bb",
   "metadata": {
    "ExecuteTime": {
     "end_time": "2024-05-10T19:26:05.575137Z",
     "start_time": "2024-05-10T19:26:03.564333Z"
    },
    "colab": {
     "base_uri": "https://localhost:8080/",
     "height": 222
    },
    "id": "6dec4e81682027bb",
    "outputId": "0fe6e82e-fb3f-476b-e0d4-a5b952b243fb"
   },
   "outputs": [
    {
     "data": {
      "text/html": [
       "\n",
       "            <div>\n",
       "                <p><b>SparkSession - in-memory</b></p>\n",
       "                \n",
       "        <div>\n",
       "            <p><b>SparkContext</b></p>\n",
       "\n",
       "            <p><a href=\"http://fa9f24e5dd21:4040\">Spark UI</a></p>\n",
       "\n",
       "            <dl>\n",
       "              <dt>Version</dt>\n",
       "                <dd><code>v3.5.1</code></dd>\n",
       "              <dt>Master</dt>\n",
       "                <dd><code>local</code></dd>\n",
       "              <dt>AppName</dt>\n",
       "                <dd><code>Preprocessing</code></dd>\n",
       "            </dl>\n",
       "        </div>\n",
       "        \n",
       "            </div>\n",
       "        "
      ],
      "text/plain": [
       "<pyspark.sql.session.SparkSession at 0x7d7f3fb4d780>"
      ]
     },
     "execution_count": 10,
     "metadata": {},
     "output_type": "execute_result"
    }
   ],
   "source": [
    "# Spark Session for ETL job\n",
    "sparkSession = initSparkSession(appName='Preprocessing')\n",
    "sparkSession"
   ]
  },
  {
   "cell_type": "code",
   "execution_count": 13,
   "id": "QKHXYkE18Acl",
   "metadata": {
    "colab": {
     "base_uri": "https://localhost:8080/"
    },
    "id": "QKHXYkE18Acl",
    "outputId": "27a7c2d7-9bbf-41df-c03f-20b7abdac656"
   },
   "outputs": [
    {
     "name": "stdout",
     "output_type": "stream",
     "text": [
      "+------------+---------+---------+---------+----------+----------+---------+---------+\n",
      "|       state|state_abr|trump_pct|biden_pct|trump_vote|biden_vote|trump_win|biden_win|\n",
      "+------------+---------+---------+---------+----------+----------+---------+---------+\n",
      "|      Alaska|       AK|     53.1|     43.0|    189543|    153502|        1|        0|\n",
      "|      Hawaii|       HI|     34.3|     63.7|    196864|    366130|        0|        1|\n",
      "|  Washington|       WA|     39.0|     58.4|   1584651|   2369612|        0|        1|\n",
      "|      Oregon|       OR|     40.7|     56.9|    958448|   1340383|        0|        1|\n",
      "|  California|       CA|     34.3|     63.5|   5982194|  11082293|        0|        1|\n",
      "|       Idaho|       ID|     63.9|     33.1|    554128|    287031|        1|        0|\n",
      "|     Montana|       MT|     56.9|     40.6|    343647|    244836|        1|        0|\n",
      "|      Nevada|       NV|     47.7|     50.1|    669890|    703486|        0|        1|\n",
      "|     Wyoming|       WY|     70.4|     26.7|    193559|     73491|        1|        0|\n",
      "|        Utah|       UT|     58.2|     37.7|    865140|    560282|        1|        0|\n",
      "|     Arizona|       AZ|     49.1|     49.4|   1661686|   1672143|        0|        1|\n",
      "|    Colorado|       CO|     41.9|     55.4|   1364471|   1804196|        0|        1|\n",
      "|  New Mexico|       NM|     43.5|     54.3|    401894|    501614|        0|        1|\n",
      "|North Dakota|       ND|     65.5|     31.9|    235595|    114902|        1|        0|\n",
      "|South Dakota|       SD|     61.8|     35.6|    261043|    150471|        1|        0|\n",
      "|    Nebraska|       NE|     58.5|     39.4|    556846|    374583|        1|        0|\n",
      "|      Kansas|       KS|     56.5|     41.3|    752933|    551144|        1|        0|\n",
      "|    Oklahoma|       OK|     65.4|     32.3|   1020280|    503890|        1|        0|\n",
      "|       Texas|       TX|     52.1|     46.5|   5890347|   5259126|        1|        0|\n",
      "|   Minnesota|       MN|     45.4|     52.6|   1484056|   1717077|        0|        1|\n",
      "+------------+---------+---------+---------+----------+----------+---------+---------+\n",
      "only showing top 20 rows\n",
      "\n"
     ]
    }
   ],
   "source": [
    "df_result = sparkSession.read.csv('/content/drive/MyDrive/notebooks/data/voting.csv',header=True,inferSchema=True)\n",
    "df_result.cache()\n",
    "df_result.show()\n"
   ]
  },
  {
   "cell_type": "code",
   "execution_count": 14,
   "id": "bD8K0Dhe8M5u",
   "metadata": {
    "colab": {
     "base_uri": "https://localhost:8080/"
    },
    "id": "bD8K0Dhe8M5u",
    "outputId": "c6686247-68dd-49b6-f8e1-94c52522c4e1"
   },
   "outputs": [
    {
     "name": "stdout",
     "output_type": "stream",
     "text": [
      "root\n",
      " |-- state: string (nullable = true)\n",
      " |-- state_abr: string (nullable = true)\n",
      " |-- trump_pct: double (nullable = true)\n",
      " |-- biden_pct: double (nullable = true)\n",
      " |-- trump_vote: integer (nullable = true)\n",
      " |-- biden_vote: integer (nullable = true)\n",
      " |-- trump_win: integer (nullable = true)\n",
      " |-- biden_win: integer (nullable = true)\n",
      "\n"
     ]
    }
   ],
   "source": [
    "df_result.printSchema()"
   ]
  },
  {
   "cell_type": "code",
   "execution_count": 15,
   "id": "288faabbd7e8cb6",
   "metadata": {
    "ExecuteTime": {
     "end_time": "2024-05-10T19:26:06.308897Z",
     "start_time": "2024-05-10T19:26:05.576311Z"
    },
    "colab": {
     "base_uri": "https://localhost:8080/"
    },
    "id": "288faabbd7e8cb6",
    "outputId": "5306859e-faad-4b40-b05e-cfe3115fff69"
   },
   "outputs": [
    {
     "data": {
      "text/plain": [
       "DataFrame[created_at: timestamp, tweet_id: string, tweet: string, likes: float, retweet_count: float, source: string, user_id: string, user_name: string, user_screen_name: string, user_description: string, user_join_date: timestamp, user_followers_count: float, user_location: string, lat: double, long: double, city: string, country: string, continent: string, state: string, state_code: string, collected_at: timestamp, candidate: string]"
      ]
     },
     "execution_count": 15,
     "metadata": {},
     "output_type": "execute_result"
    }
   ],
   "source": [
    "df = extract(sparkSession)\n",
    "df_train, df_test = df.randomSplit([0.70, 0.30], seed=123456)\n",
    "df_train.cache()\n",
    "df_test.cache()"
   ]
  },
  {
   "cell_type": "code",
   "execution_count": 9,
   "id": "d19837e21897204b",
   "metadata": {
    "ExecuteTime": {
     "end_time": "2024-05-10T19:26:06.337517Z",
     "start_time": "2024-05-10T19:26:06.310460Z"
    },
    "colab": {
     "base_uri": "https://localhost:8080/"
    },
    "id": "d19837e21897204b",
    "outputId": "31285d9c-c2d2-4d6a-f219-e6e6c7da22bf"
   },
   "outputs": [
    {
     "name": "stdout",
     "output_type": "stream",
     "text": [
      "root\n",
      " |-- created_at: timestamp (nullable = true)\n",
      " |-- tweet_id: string (nullable = true)\n",
      " |-- tweet: string (nullable = true)\n",
      " |-- likes: float (nullable = true)\n",
      " |-- retweet_count: float (nullable = true)\n",
      " |-- source: string (nullable = true)\n",
      " |-- user_id: string (nullable = true)\n",
      " |-- user_name: string (nullable = true)\n",
      " |-- user_screen_name: string (nullable = true)\n",
      " |-- user_description: string (nullable = true)\n",
      " |-- user_join_date: timestamp (nullable = true)\n",
      " |-- user_followers_count: float (nullable = true)\n",
      " |-- user_location: string (nullable = true)\n",
      " |-- lat: double (nullable = true)\n",
      " |-- long: double (nullable = true)\n",
      " |-- city: string (nullable = true)\n",
      " |-- country: string (nullable = true)\n",
      " |-- continent: string (nullable = true)\n",
      " |-- state: string (nullable = true)\n",
      " |-- state_code: string (nullable = true)\n",
      " |-- collected_at: timestamp (nullable = true)\n",
      " |-- candidate: string (nullable = false)\n",
      "\n"
     ]
    }
   ],
   "source": [
    "df.createOrReplaceTempView(\"politicalTweets\")\n",
    "df.printSchema()"
   ]
  },
  {
   "cell_type": "markdown",
   "id": "2b5c8f4582c8998c",
   "metadata": {
    "id": "2b5c8f4582c8998c"
   },
   "source": [
    "# 2 - Spark User Defined Function (UDF)\n",
    "In this stage, we implement an UDF for labelling our dataset using a rule-based algorithm."
   ]
  },
  {
   "cell_type": "code",
   "execution_count": 16,
   "id": "f40d9d0c224b7534",
   "metadata": {
    "id": "f40d9d0c224b7534"
   },
   "outputs": [],
   "source": [
    "polarity = sparkSession.udf.register('Polarity', lambda record: getPolarity(record))"
   ]
  },
  {
   "cell_type": "markdown",
   "id": "f851b6d8b56931cc",
   "metadata": {
    "id": "f851b6d8b56931cc"
   },
   "source": [
    "# 3 - Pipeline\n",
    "We've combined the best combination of stages for maximum possible model accuracy from our analyses in Notebooks `Sentiment Classifier LR` and `Sentiment Classifier NB`."
   ]
  },
  {
   "cell_type": "code",
   "execution_count": 18,
   "id": "8d7b84639eb26b11",
   "metadata": {
    "ExecuteTime": {
     "end_time": "2024-05-10T19:26:58.452796Z",
     "start_time": "2024-05-10T19:26:58.449297Z"
    },
    "id": "8d7b84639eb26b11"
   },
   "outputs": [],
   "source": [
    "def pipelineCv():\n",
    "    cleanTweet = CleanTweet()\n",
    "    regexTokenizer = RegexTokenizer(inputCol=\"cleaned_tweet\", outputCol=\"cleaned_tweet_words\", pattern=\"[^a-zA-Z0-9_#]\")\n",
    "    stopWordsRemover = StopWordsRemover(inputCol='cleaned_tweet_words', outputCol='cleaned_tweet_nostop')\n",
    "    polarityCalc = polarityCalculator()\n",
    "    countVectorizer = CountVectorizer(inputCol='cleaned_tweet_nostop', outputCol='cv')\n",
    "    idf = IDF(inputCol='cv', outputCol=\"features\")\n",
    "    sentimentStringIdx = StringIndexer(inputCol = \"polarity\", outputCol = \"label\")\n",
    "    logisticRegression = LogisticRegression()  # defaulted to featuresCol='features', labelCol='label'\n",
    "\n",
    "    dataCleaningStages = [cleanTweet, regexTokenizer, stopWordsRemover]\n",
    "    featureLabelMapStages = [countVectorizer, idf, sentimentStringIdx]\n",
    "\n",
    "    return Pipeline(stages=dataCleaningStages+[polarityCalc]+featureLabelMapStages+[logisticRegression]), logisticRegression"
   ]
  },
  {
   "cell_type": "code",
   "execution_count": 19,
   "id": "288e9ef6e0635e82",
   "metadata": {
    "ExecuteTime": {
     "end_time": "2024-05-10T19:27:09.595686Z",
     "start_time": "2024-05-10T19:26:58.453421Z"
    },
    "colab": {
     "base_uri": "https://localhost:8080/"
    },
    "id": "288e9ef6e0635e82",
    "outputId": "eb3ddd11-b053-4d50-c137-2c95d5178d8b"
   },
   "outputs": [
    {
     "name": "stdout",
     "output_type": "stream",
     "text": [
      "Accuracy: 0.7883607446231701\n",
      "Precision: 0.7886848168264928\n",
      "Recall: 0.78836074462317\n"
     ]
    }
   ],
   "source": [
    "pipeline, _ = pipelineCv()\n",
    "pipelineModel = pipeline.fit(df_train)\n",
    "predictions = pipelineModel.transform(df_test)\n",
    "evaluator = MulticlassClassificationEvaluator(predictionCol=\"prediction\")\n",
    "accuracy = evaluator.evaluate(predictions, {evaluator.metricName: \"accuracy\"})\n",
    "precision = evaluator.evaluate(predictions, {evaluator.metricName: \"weightedPrecision\"})\n",
    "recall = evaluator.evaluate(predictions, {evaluator.metricName: \"weightedRecall\"})\n",
    "\n",
    "# Print the results\n",
    "print(\"Accuracy:\", accuracy)\n",
    "print(\"Precision:\", precision)\n",
    "print(\"Recall:\", recall)"
   ]
  },
  {
   "cell_type": "code",
   "execution_count": 20,
   "id": "h-wli-T68ZPo",
   "metadata": {
    "colab": {
     "base_uri": "https://localhost:8080/"
    },
    "id": "h-wli-T68ZPo",
    "outputId": "a2432ecd-db44-4d34-9906-b58646affa6f"
   },
   "outputs": [
    {
     "name": "stdout",
     "output_type": "stream",
     "text": [
      "+--------------------+-------------------+--------------------+-----+-------------+-------------------+--------------------+-------------------+--------------------+-------------------+------------------+------------------+-----------+--------------------+----------+--------------------+---------+--------------------+--------+--------------------+--------------------+-----+--------------------+--------------------+----------+\n",
      "|            tweet_id|         created_at|               tweet|likes|retweet_count|             source|             user_id|     user_join_date|user_followers_count|      user_location|               lat|              long|       city|               state|state_code|               tweet|candidate|cleaned_tweet_nostop|polarity|                  cv|            features|label|       rawPrediction|         probability|prediction|\n",
      "+--------------------+-------------------+--------------------+-----+-------------+-------------------+--------------------+-------------------+--------------------+-------------------+------------------+------------------+-----------+--------------------+----------+--------------------+---------+--------------------+--------+--------------------+--------------------+-----+--------------------+--------------------+----------+\n",
      "|1.316529606896230...|2020-10-15 00:01:32|Ice Cube is teami...| 14.0|          6.0|            dlvr.it|        2217181338.0|2013-11-27 04:58:32|             74657.0|      United States|        39.7837304|      -100.4458825|       NULL|                NULL|      NULL|Ice Cube is teami...|    TRUMP|[ice, cube, teami...| Neutral|(25315,[4,8,9,79,...|(25315,[4,8,9,79,...|  0.0|[-10.883001454663...|[2.83034014456633...|       2.0|\n",
      "|1.316532492795605...|2020-10-15 00:13:00|@CNN @HarrietD428...| 11.0|          2.0| Twitter for iPhone|         509543707.0|2012-03-01 01:25:49|             36053.0|          Nashville|        36.1622296|       -86.7743531|  Nashville|           Tennessee|        TN|@CNN @HarrietD428...|    TRUMP|[true, related, s...|Positive|(25315,[0,79,189,...|(25315,[0,79,189,...|  1.0|[-22.992812991151...|[9.99256459161740...|       1.0|\n",
      "|1.316546586227376...|2020-10-15 01:09:01|\"First the corpor...| 61.0|         27.0|    Twitter Web App|8.415090420234609...|2017-03-14 04:39:24|             23362.0|      United States|        39.7837304|      -100.4458825|       NULL|                NULL|      NULL|\"First the corpor...|    TRUMP|[first, corporate...|Positive|(25315,[0,4,84,10...|(25315,[0,4,84,10...|  1.0|[-37.234277511778...|[9.92217077801312...|       1.0|\n",
      "|1.316546696864817...|2020-10-15 01:09:27|#Iowa experienced...| 26.0|         10.0| Twitter for iPhone|          47253430.0|2009-06-15 03:54:18|              5468.0|         Mobile, AL|        30.6943566|-88.04305409999999|     Mobile|             Alabama|        AL|#Iowa experienced...|    TRUMP|[#iowa, experienc...|Positive|(25315,[0,88,203,...|(25315,[0,88,203,...|  1.0|[22.2816423478288...|[3.71394732860324...|       1.0|\n",
      "|1.316549328677343...|2020-10-15 01:19:54|If @CBS is willin...|180.0|         53.0|Twitter for Android|          28926581.0|2009-04-05 02:53:09|             16092.0|     Washington, DC|        38.8949924|       -77.0365581| Washington|District of Columbia|        DC|If @CBS is willin...|    TRUMP|[willing, d, happ...|Positive|(25315,[0,1,3,15,...|(25315,[0,1,3,15,...|  1.0|[-68.925561946239...|[7.56570591138738...|       1.0|\n",
      "|1.316550112005546...|2020-10-15 01:23:01|Fascinating....al...| 33.0|          9.0| Twitter for iPhone|1.02191760904917e+18|2018-07-25 00:38:39|              3733.0|      United States|        39.7837304|      -100.4458825|       NULL|                NULL|      NULL|Fascinating....al...|    TRUMP|[fascinating, sud...|Positive|(25315,[0,483,113...|(25315,[0,483,113...|  1.0|[-7.3329077653535...|[1.32358831154009...|       1.0|\n",
      "|1.316555029806018...|2020-10-15 01:42:34|Do you hear these...| 11.0|          5.0| Twitter for iPhone|1.067149815195344...|2018-11-26 20:15:17|             14064.0|      United States|        39.7837304|      -100.4458825|       NULL|                NULL|      NULL|Do you hear these...|    TRUMP|[hear, #liberals,...|Positive|(25315,[0,52,65,7...|(25315,[0,52,65,7...|  1.0|[-0.5793911076455...|[8.45687181186293...|       2.0|\n",
      "|1.316558894005710...|2020-10-15 01:57:55|#Chicago #Chicago...| 16.0|          7.0| Twitter for iPhone|1.179127975696109...|2019-10-01 20:16:47|             15198.0|        Chicago, IL|41.875561600000005|       -87.6244212|    Chicago|            Illinois|        IL|#Chicago #Chicago...|    TRUMP|[#chicago, #chica...| Neutral|(25315,[0,1,18,13...|(25315,[0,1,18,13...|  0.0|[45.9526970408573...|[1.0,1.3710353337...|       0.0|\n",
      "|1.316559330716549...|2020-10-15 01:59:39|In Iowa tonight, ...| 11.0|          2.0| Twitter for iPhone|          22387204.0|2009-03-01 18:12:53|             14700.0|North Carolina, USA|        35.6729639|-79.03929190000001|       NULL|      North Carolina|        NC|In Iowa tonight, ...|    TRUMP|[iowa, tonight, #...|Positive|(25315,[0,5,73,10...|(25315,[0,5,73,10...|  1.0|[-85.596620041995...|[7.83597450001161...|       1.0|\n",
      "|1.316577558734004...|2020-10-15 03:12:05|\"Inside #DonaldTr...| 64.0|         38.0|         SocialFlow|          17446621.0|2008-11-17 18:10:33|           3261322.0|      Hollywood, CA|        34.0980031|       -118.329523|Los Angeles|          California|        CA|\"Inside #DonaldTr...|    TRUMP|[inside, #donaldt...|Negative|(25315,[9,529,120...|(25315,[9,529,120...|  2.0|[17.8507708995763...|[0.75654187426376...|       0.0|\n",
      "+--------------------+-------------------+--------------------+-----+-------------+-------------------+--------------------+-------------------+--------------------+-------------------+------------------+------------------+-----------+--------------------+----------+--------------------+---------+--------------------+--------+--------------------+--------------------+-----+--------------------+--------------------+----------+\n",
      "only showing top 10 rows\n",
      "\n"
     ]
    }
   ],
   "source": [
    "predictions.show(10)"
   ]
  },
  {
   "cell_type": "code",
   "execution_count": 21,
   "id": "0JonBof39smA",
   "metadata": {
    "colab": {
     "base_uri": "https://localhost:8080/"
    },
    "id": "0JonBof39smA",
    "outputId": "c7e42638-9e2f-4cb4-e3e4-a4214e3e7e0c"
   },
   "outputs": [
    {
     "name": "stdout",
     "output_type": "stream",
     "text": [
      "+--------------------+---------+------------+\n",
      "|               state|candidate|sum_polarity|\n",
      "+--------------------+---------+------------+\n",
      "|      South Carolina|    TRUMP|        29.0|\n",
      "|        Rhode Island|    TRUMP|        13.0|\n",
      "|             Alabama|    TRUMP|         8.0|\n",
      "|              Hawaii|    TRUMP|        20.0|\n",
      "|            Michigan|    TRUMP|         9.0|\n",
      "|          New Jersey|    TRUMP|        32.0|\n",
      "|            Missouri|    TRUMP|        11.0|\n",
      "|             Georgia|    TRUMP|        35.0|\n",
      "|              Alaska|    TRUMP|         0.0|\n",
      "|            Kentucky|    TRUMP|        23.0|\n",
      "|                NULL|    TRUMP|       256.0|\n",
      "|               Texas|    TRUMP|       139.0|\n",
      "|            New York|    TRUMP|       326.0|\n",
      "|           Minnesota|    TRUMP|        19.0|\n",
      "|            Nebraska|    TRUMP|         4.0|\n",
      "|            Virginia|    TRUMP|        25.0|\n",
      "|District of Columbia|    TRUMP|       202.0|\n",
      "|            Maryland|    TRUMP|        11.0|\n",
      "|       West Virginia|    TRUMP|         0.0|\n",
      "|                Utah|    TRUMP|         2.0|\n",
      "+--------------------+---------+------------+\n",
      "only showing top 20 rows\n",
      "\n"
     ]
    }
   ],
   "source": [
    "from pyspark.sql.functions import sum, col\n",
    "\n",
    "polarity_df = predictions.groupBy(\"state\", \"candidate\") \\\n",
    "                         .agg(sum(\"prediction\").alias(\"sum_polarity\"))\n",
    "\n",
    "polarity_df.show()"
   ]
  },
  {
   "cell_type": "code",
   "execution_count": 22,
   "id": "ELz_IHUC91Nl",
   "metadata": {
    "colab": {
     "base_uri": "https://localhost:8080/"
    },
    "id": "ELz_IHUC91Nl",
    "outputId": "d8051e2f-a950-4fb4-9218-5accd57c269c"
   },
   "outputs": [
    {
     "name": "stdout",
     "output_type": "stream",
     "text": [
      "+--------------------+---------+------------+---------+---------+---------+----------+----------+---------+---------+\n",
      "|               state|candidate|sum_polarity|state_abr|trump_pct|biden_pct|trump_vote|biden_vote|trump_win|biden_win|\n",
      "+--------------------+---------+------------+---------+---------+---------+----------+----------+---------+---------+\n",
      "|      South Carolina|    TRUMP|        29.0|       SC|     55.1|     43.4|   1385103|   1091541|        1|        0|\n",
      "|        Rhode Island|    TRUMP|        13.0|       RI|     38.8|     59.7|    199922|    307486|        0|        1|\n",
      "|             Alabama|    TRUMP|         8.0|       AL|     62.2|     36.7|   1441170|    849624|        1|        0|\n",
      "|              Hawaii|    TRUMP|        20.0|       HI|     34.3|     63.7|    196864|    366130|        0|        1|\n",
      "|            Michigan|    TRUMP|         9.0|       MI|     47.8|     50.6|   2649842|   2804040|        0|        1|\n",
      "|          New Jersey|    TRUMP|        32.0|       NJ|     41.4|     57.3|   1883260|   2608327|        0|        1|\n",
      "|            Missouri|    TRUMP|        11.0|       MO|     56.8|     41.4|   1718282|   1252902|        1|        0|\n",
      "|             Georgia|    TRUMP|        35.0|       GA|     49.3|     49.5|   2461837|   2474507|        0|        1|\n",
      "|              Alaska|    TRUMP|         0.0|       AK|     53.1|     43.0|    189543|    153502|        1|        0|\n",
      "|            Kentucky|    TRUMP|        23.0|       KY|     62.1|     36.2|   1326646|    772474|        1|        0|\n",
      "|               Texas|    TRUMP|       139.0|       TX|     52.1|     46.5|   5890347|   5259126|        1|        0|\n",
      "|            New York|    TRUMP|       326.0|       NY|     41.5|     57.1|   3005636|   4137641|        0|        1|\n",
      "|           Minnesota|    TRUMP|        19.0|       MN|     45.4|     52.6|   1484056|   1717077|        0|        1|\n",
      "|            Nebraska|    TRUMP|         4.0|       NE|     58.5|     39.4|    556846|    374583|        1|        0|\n",
      "|            Virginia|    TRUMP|        25.0|       VA|     44.2|     54.4|   1962430|   2413568|        0|        1|\n",
      "|District of Columbia|    TRUMP|       202.0|       DC|      5.4|     93.0|     18586|    317323|        0|        1|\n",
      "|            Maryland|    TRUMP|        11.0|       MD|     32.4|     65.8|    976414|   1985023|        0|        1|\n",
      "|       West Virginia|    TRUMP|         0.0|       WV|     68.6|     29.7|    545382|    235984|        1|        0|\n",
      "|                Utah|    TRUMP|         2.0|       UT|     58.2|     37.7|    865140|    560282|        1|        0|\n",
      "|       Massachusetts|    TRUMP|        28.0|       MA|     32.3|     65.9|   1167202|   2382202|        0|        1|\n",
      "|             Arizona|    TRUMP|        20.0|       AZ|     49.1|     49.4|   1661686|   1672143|        0|        1|\n",
      "|            Oklahoma|    TRUMP|         5.0|       OK|     65.4|     32.3|   1020280|    503890|        1|        0|\n",
      "|                Iowa|    TRUMP|        20.0|       IA|     53.2|     45.0|    897672|    759061|        1|        0|\n",
      "|               Maine|    TRUMP|         2.0|       ME|     44.0|     53.1|    360480|    434966|        0|        1|\n",
      "|             Indiana|    TRUMP|         1.0|       IN|     57.1|     41.0|   1729516|   1242413|        1|        0|\n",
      "|             Vermont|    TRUMP|         1.0|       VT|     30.8|     66.4|    112704|    242820|        0|        1|\n",
      "|               Idaho|    TRUMP|         3.0|       ID|     63.9|     33.1|    554128|    287031|        1|        0|\n",
      "|          Washington|    TRUMP|        13.0|       WA|     39.0|     58.4|   1584651|   2369612|        0|        1|\n",
      "|           Wisconsin|    TRUMP|        15.0|       WI|     48.9|     49.6|   1610065|   1630673|        0|        1|\n",
      "|           Louisiana|    TRUMP|        14.0|       LA|     58.5|     39.9|   1255776|    856034|        1|        0|\n",
      "|       New Hampshire|    TRUMP|         0.0|       NH|     45.5|     52.9|    365660|    424935|        0|        1|\n",
      "|                Ohio|    TRUMP|        24.0|       OH|     53.3|     45.3|   3154834|   2679165|        1|        0|\n",
      "|         Connecticut|    TRUMP|        13.0|       CT|     39.2|     59.3|    715291|   1080680|        0|        1|\n",
      "|            Illinois|    TRUMP|        49.0|       IL|     40.5|     57.6|   2438943|   3463260|        0|        1|\n",
      "|              Oregon|    TRUMP|        14.0|       OR|     40.7|     56.9|    958448|   1340383|        0|        1|\n",
      "|             Florida|    TRUMP|        95.0|       FL|     51.2|     47.9|   5668731|   5297045|        1|        0|\n",
      "|      North Carolina|    TRUMP|        28.0|       NC|     50.1|     48.7|   2758775|   2684292|        1|        0|\n",
      "|          New Mexico|    TRUMP|         1.0|       NM|     43.5|     54.3|    401894|    501614|        0|        1|\n",
      "|              Kansas|    TRUMP|         1.0|       KS|     56.5|     41.3|    752933|    551144|        1|        0|\n",
      "|            Arkansas|    TRUMP|         2.0|       AR|     62.4|     34.8|    760647|    423932|        1|        0|\n",
      "|              Nevada|    TRUMP|        28.0|       NV|     47.7|     50.1|    669890|    703486|        0|        1|\n",
      "|        Pennsylvania|    TRUMP|        58.0|       PA|     48.8|     50.0|   3378263|   3459923|        0|        1|\n",
      "|           Tennessee|    TRUMP|        22.0|       TN|     60.7|     37.4|   1849556|   1139332|        1|        0|\n",
      "|            Colorado|    TRUMP|        11.0|       CO|     41.9|     55.4|   1364471|   1804196|        0|        1|\n",
      "|         Mississippi|    TRUMP|         4.0|       MS|     57.6|     41.1|    756789|    539508|        1|        0|\n",
      "|          California|    TRUMP|       199.0|       CA|     34.3|     63.5|   5982194|  11082293|        0|        1|\n",
      "|             Florida|    BIDEN|        76.0|       FL|     51.2|     47.9|   5668731|   5297045|        1|        0|\n",
      "|            Oklahoma|    BIDEN|         3.0|       OK|     65.4|     32.3|   1020280|    503890|        1|        0|\n",
      "|           Minnesota|    BIDEN|        21.0|       MN|     45.4|     52.6|   1484056|   1717077|        0|        1|\n",
      "|              Oregon|    BIDEN|        29.0|       OR|     40.7|     56.9|    958448|   1340383|        0|        1|\n",
      "|         Mississippi|    BIDEN|         9.0|       MS|     57.6|     41.1|    756789|    539508|        1|        0|\n",
      "|             Alabama|    BIDEN|        15.0|       AL|     62.2|     36.7|   1441170|    849624|        1|        0|\n",
      "|              Kansas|    BIDEN|         5.0|       KS|     56.5|     41.3|    752933|    551144|        1|        0|\n",
      "|District of Columbia|    BIDEN|       169.0|       DC|      5.4|     93.0|     18586|    317323|        0|        1|\n",
      "|        South Dakota|    BIDEN|         2.0|       SD|     61.8|     35.6|    261043|    150471|        1|        0|\n",
      "|       West Virginia|    BIDEN|         2.0|       WV|     68.6|     29.7|    545382|    235984|        1|        0|\n",
      "|          New Mexico|    BIDEN|         1.0|       NM|     43.5|     54.3|    401894|    501614|        0|        1|\n",
      "|             Wyoming|    BIDEN|         1.0|       WY|     70.4|     26.7|    193559|     73491|        1|        0|\n",
      "|             Georgia|    BIDEN|        39.0|       GA|     49.3|     49.5|   2461837|   2474507|        0|        1|\n",
      "|         Connecticut|    BIDEN|        12.0|       CT|     39.2|     59.3|    715291|   1080680|        0|        1|\n",
      "|           Louisiana|    BIDEN|        16.0|       LA|     58.5|     39.9|   1255776|    856034|        1|        0|\n",
      "|        Pennsylvania|    BIDEN|        66.0|       PA|     48.8|     50.0|   3378263|   3459923|        0|        1|\n",
      "|             Montana|    BIDEN|         4.0|       MT|     56.9|     40.6|    343647|    244836|        1|        0|\n",
      "|           Tennessee|    BIDEN|        23.0|       TN|     60.7|     37.4|   1849556|   1139332|        1|        0|\n",
      "|                Ohio|    BIDEN|        22.0|       OH|     53.3|     45.3|   3154834|   2679165|        1|        0|\n",
      "|            Michigan|    BIDEN|        23.0|       MI|     47.8|     50.6|   2649842|   2804040|        0|        1|\n",
      "|          Washington|    BIDEN|        16.0|       WA|     39.0|     58.4|   1584651|   2369612|        0|        1|\n",
      "|            Virginia|    BIDEN|        21.0|       VA|     44.2|     54.4|   1962430|   2413568|        0|        1|\n",
      "|                Utah|    BIDEN|         5.0|       UT|     58.2|     37.7|    865140|    560282|        1|        0|\n",
      "|        North Dakota|    BIDEN|         3.0|       ND|     65.5|     31.9|    235595|    114902|        1|        0|\n",
      "|            Arkansas|    BIDEN|         6.0|       AR|     62.4|     34.8|    760647|    423932|        1|        0|\n",
      "|       New Hampshire|    BIDEN|         4.0|       NH|     45.5|     52.9|    365660|    424935|        0|        1|\n",
      "|      South Carolina|    BIDEN|        15.0|       SC|     55.1|     43.4|   1385103|   1091541|        1|        0|\n",
      "|            Missouri|    BIDEN|        20.0|       MO|     56.8|     41.4|   1718282|   1252902|        1|        0|\n",
      "|            New York|    BIDEN|       456.0|       NY|     41.5|     57.1|   3005636|   4137641|        0|        1|\n",
      "|        Rhode Island|    BIDEN|         2.0|       RI|     38.8|     59.7|    199922|    307486|        0|        1|\n",
      "|            Kentucky|    BIDEN|        11.0|       KY|     62.1|     36.2|   1326646|    772474|        1|        0|\n",
      "|            Delaware|    BIDEN|         1.0|       DE|     39.8|     58.8|    200603|    296268|        0|        1|\n",
      "|            Colorado|    BIDEN|        26.0|       CO|     41.9|     55.4|   1364471|   1804196|        0|        1|\n",
      "|            Nebraska|    BIDEN|         2.0|       NE|     58.5|     39.4|    556846|    374583|        1|        0|\n",
      "|          California|    BIDEN|       296.0|       CA|     34.3|     63.5|   5982194|  11082293|        0|        1|\n",
      "|               Texas|    BIDEN|       181.0|       TX|     52.1|     46.5|   5890347|   5259126|        1|        0|\n",
      "|       Massachusetts|    BIDEN|        33.0|       MA|     32.3|     65.9|   1167202|   2382202|        0|        1|\n",
      "|      North Carolina|    BIDEN|        33.0|       NC|     50.1|     48.7|   2758775|   2684292|        1|        0|\n",
      "|              Hawaii|    BIDEN|         6.0|       HI|     34.3|     63.7|    196864|    366130|        0|        1|\n",
      "|            Illinois|    BIDEN|        59.0|       IL|     40.5|     57.6|   2438943|   3463260|        0|        1|\n",
      "|             Indiana|    BIDEN|        13.0|       IN|     57.1|     41.0|   1729516|   1242413|        1|        0|\n",
      "|               Maine|    BIDEN|         2.0|       ME|     44.0|     53.1|    360480|    434966|        0|        1|\n",
      "|                Iowa|    BIDEN|         5.0|       IA|     53.2|     45.0|    897672|    759061|        1|        0|\n",
      "|            Maryland|    BIDEN|        11.0|       MD|     32.4|     65.8|    976414|   1985023|        0|        1|\n",
      "|          New Jersey|    BIDEN|        33.0|       NJ|     41.4|     57.3|   1883260|   2608327|        0|        1|\n",
      "|             Arizona|    BIDEN|        29.0|       AZ|     49.1|     49.4|   1661686|   1672143|        0|        1|\n",
      "|              Nevada|    BIDEN|        34.0|       NV|     47.7|     50.1|    669890|    703486|        0|        1|\n",
      "|           Wisconsin|    BIDEN|        12.0|       WI|     48.9|     49.6|   1610065|   1630673|        0|        1|\n",
      "|               Idaho|    BIDEN|         6.0|       ID|     63.9|     33.1|    554128|    287031|        1|        0|\n",
      "|              Alaska|    BIDEN|         2.0|       AK|     53.1|     43.0|    189543|    153502|        1|        0|\n",
      "+--------------------+---------+------------+---------+---------+---------+----------+----------+---------+---------+\n",
      "\n"
     ]
    }
   ],
   "source": [
    "combined_df = polarity_df.join(df_result, \"state\")\n",
    "combined_df.show(100)"
   ]
  },
  {
   "cell_type": "code",
   "execution_count": 44,
   "id": "KOmW5ApO_H9u",
   "metadata": {
    "colab": {
     "base_uri": "https://localhost:8080/",
     "height": 480
    },
    "id": "KOmW5ApO_H9u",
    "outputId": "12ca9f67-f079-4cee-c33b-cb7164d63070"
   },
   "outputs": [
    {
     "data": {
      "image/png": "[encoded data removed]",
      "text/plain": [
       "<Figure size 640x480 with 1 Axes>"
      ]
     },
     "metadata": {},
     "output_type": "display_data"
    }
   ],
   "source": [
    "import pyspark.sql.functions as F\n",
    "\n",
    "\n",
    "\n",
    "sum_polarity_df = combined_df.groupBy(\"candidate\").agg(sum(\"sum_polarity\").alias(\"total_polarity\"),\n",
    "                                                       sum(\"trump_vote\").alias(\"total_votes_trump\"),\n",
    "                                                       sum(\"biden_vote\").alias(\"total_votes_biden\") )\n",
    "\n",
    "\n",
    "pandas_df = sum_polarity_df.toPandas()\n",
    "\n",
    "\n",
    "plt.bar(pandas_df['candidate'], pandas_df['total_polarity'], color=['red', 'blue'])\n",
    "plt.xlabel('Candidate')\n",
    "plt.ylabel('Total Polarity')\n",
    "plt.title('Total Postive Polarity for Each Candidate')\n",
    "plt.show()"
   ]
  },
  {
   "cell_type": "code",
   "execution_count": 44,
   "id": "061Eogw6AfZE",
   "metadata": {
    "id": "061Eogw6AfZE"
   },
   "outputs": [],
   "source": []
  },
  {
   "cell_type": "code",
   "execution_count": 45,
   "id": "wJAbI2ut95zI",
   "metadata": {
    "id": "wJAbI2ut95zI"
   },
   "outputs": [],
   "source": [
    "# Create DataFrame with condition on a column\n",
    "df_trump = combined_df.filter(combined_df['candidate'] == \"TRUMP\")\n",
    "df_biden = combined_df.filter(combined_df['candidate'] == \"BIDEN\")"
   ]
  },
  {
   "cell_type": "code",
   "execution_count": 46,
   "id": "7xMYc8C199MR",
   "metadata": {
    "colab": {
     "base_uri": "https://localhost:8080/"
    },
    "id": "7xMYc8C199MR",
    "outputId": "036fc3ed-f4ab-459a-b00d-9be23f9b0e5b"
   },
   "outputs": [
    {
     "name": "stdout",
     "output_type": "stream",
     "text": [
      "+--------------------+---------+------------+---------+---------+---------+----------+----------+---------+---------+\n",
      "|               state|candidate|sum_polarity|state_abr|trump_pct|biden_pct|trump_vote|biden_vote|trump_win|biden_win|\n",
      "+--------------------+---------+------------+---------+---------+---------+----------+----------+---------+---------+\n",
      "|      South Carolina|    TRUMP|        29.0|       SC|     55.1|     43.4|   1385103|   1091541|        1|        0|\n",
      "|        Rhode Island|    TRUMP|        13.0|       RI|     38.8|     59.7|    199922|    307486|        0|        1|\n",
      "|             Alabama|    TRUMP|         8.0|       AL|     62.2|     36.7|   1441170|    849624|        1|        0|\n",
      "|              Hawaii|    TRUMP|        20.0|       HI|     34.3|     63.7|    196864|    366130|        0|        1|\n",
      "|            Michigan|    TRUMP|         9.0|       MI|     47.8|     50.6|   2649842|   2804040|        0|        1|\n",
      "|          New Jersey|    TRUMP|        32.0|       NJ|     41.4|     57.3|   1883260|   2608327|        0|        1|\n",
      "|            Missouri|    TRUMP|        11.0|       MO|     56.8|     41.4|   1718282|   1252902|        1|        0|\n",
      "|             Georgia|    TRUMP|        35.0|       GA|     49.3|     49.5|   2461837|   2474507|        0|        1|\n",
      "|              Alaska|    TRUMP|         0.0|       AK|     53.1|     43.0|    189543|    153502|        1|        0|\n",
      "|            Kentucky|    TRUMP|        23.0|       KY|     62.1|     36.2|   1326646|    772474|        1|        0|\n",
      "|               Texas|    TRUMP|       139.0|       TX|     52.1|     46.5|   5890347|   5259126|        1|        0|\n",
      "|            New York|    TRUMP|       326.0|       NY|     41.5|     57.1|   3005636|   4137641|        0|        1|\n",
      "|           Minnesota|    TRUMP|        19.0|       MN|     45.4|     52.6|   1484056|   1717077|        0|        1|\n",
      "|            Nebraska|    TRUMP|         4.0|       NE|     58.5|     39.4|    556846|    374583|        1|        0|\n",
      "|            Virginia|    TRUMP|        25.0|       VA|     44.2|     54.4|   1962430|   2413568|        0|        1|\n",
      "|District of Columbia|    TRUMP|       202.0|       DC|      5.4|     93.0|     18586|    317323|        0|        1|\n",
      "|            Maryland|    TRUMP|        11.0|       MD|     32.4|     65.8|    976414|   1985023|        0|        1|\n",
      "|       West Virginia|    TRUMP|         0.0|       WV|     68.6|     29.7|    545382|    235984|        1|        0|\n",
      "|                Utah|    TRUMP|         2.0|       UT|     58.2|     37.7|    865140|    560282|        1|        0|\n",
      "|       Massachusetts|    TRUMP|        28.0|       MA|     32.3|     65.9|   1167202|   2382202|        0|        1|\n",
      "+--------------------+---------+------------+---------+---------+---------+----------+----------+---------+---------+\n",
      "only showing top 20 rows\n",
      "\n",
      "+--------------------+---------+------------+---------+---------+---------+----------+----------+---------+---------+\n",
      "|               state|candidate|sum_polarity|state_abr|trump_pct|biden_pct|trump_vote|biden_vote|trump_win|biden_win|\n",
      "+--------------------+---------+------------+---------+---------+---------+----------+----------+---------+---------+\n",
      "|             Florida|    BIDEN|        76.0|       FL|     51.2|     47.9|   5668731|   5297045|        1|        0|\n",
      "|            Oklahoma|    BIDEN|         3.0|       OK|     65.4|     32.3|   1020280|    503890|        1|        0|\n",
      "|           Minnesota|    BIDEN|        21.0|       MN|     45.4|     52.6|   1484056|   1717077|        0|        1|\n",
      "|              Oregon|    BIDEN|        29.0|       OR|     40.7|     56.9|    958448|   1340383|        0|        1|\n",
      "|         Mississippi|    BIDEN|         9.0|       MS|     57.6|     41.1|    756789|    539508|        1|        0|\n",
      "|             Alabama|    BIDEN|        15.0|       AL|     62.2|     36.7|   1441170|    849624|        1|        0|\n",
      "|              Kansas|    BIDEN|         5.0|       KS|     56.5|     41.3|    752933|    551144|        1|        0|\n",
      "|District of Columbia|    BIDEN|       169.0|       DC|      5.4|     93.0|     18586|    317323|        0|        1|\n",
      "|        South Dakota|    BIDEN|         2.0|       SD|     61.8|     35.6|    261043|    150471|        1|        0|\n",
      "|       West Virginia|    BIDEN|         2.0|       WV|     68.6|     29.7|    545382|    235984|        1|        0|\n",
      "|          New Mexico|    BIDEN|         1.0|       NM|     43.5|     54.3|    401894|    501614|        0|        1|\n",
      "|             Wyoming|    BIDEN|         1.0|       WY|     70.4|     26.7|    193559|     73491|        1|        0|\n",
      "|             Georgia|    BIDEN|        39.0|       GA|     49.3|     49.5|   2461837|   2474507|        0|        1|\n",
      "|         Connecticut|    BIDEN|        12.0|       CT|     39.2|     59.3|    715291|   1080680|        0|        1|\n",
      "|           Louisiana|    BIDEN|        16.0|       LA|     58.5|     39.9|   1255776|    856034|        1|        0|\n",
      "|        Pennsylvania|    BIDEN|        66.0|       PA|     48.8|     50.0|   3378263|   3459923|        0|        1|\n",
      "|             Montana|    BIDEN|         4.0|       MT|     56.9|     40.6|    343647|    244836|        1|        0|\n",
      "|           Tennessee|    BIDEN|        23.0|       TN|     60.7|     37.4|   1849556|   1139332|        1|        0|\n",
      "|                Ohio|    BIDEN|        22.0|       OH|     53.3|     45.3|   3154834|   2679165|        1|        0|\n",
      "|            Michigan|    BIDEN|        23.0|       MI|     47.8|     50.6|   2649842|   2804040|        0|        1|\n",
      "+--------------------+---------+------------+---------+---------+---------+----------+----------+---------+---------+\n",
      "only showing top 20 rows\n",
      "\n"
     ]
    }
   ],
   "source": [
    "# Show the DataFrames\n",
    "df_trump.show()\n",
    "df_biden.show()"
   ]
  },
  {
   "cell_type": "code",
   "execution_count": 47,
   "id": "H3MIgY5k-Bh6",
   "metadata": {
    "colab": {
     "base_uri": "https://localhost:8080/"
    },
    "id": "H3MIgY5k-Bh6",
    "outputId": "43b949ec-b850-45f2-f75d-79bf7aa90f99"
   },
   "outputs": [
    {
     "name": "stdout",
     "output_type": "stream",
     "text": [
      "Pearson correlation coefficient for Biden: 0.6717390908989669\n",
      "p-value: 9.271534769055909e-08\n"
     ]
    }
   ],
   "source": [
    "from scipy.stats import pearsonr\n",
    "#\n",
    "x = df_biden.select(\"sum_polarity\").rdd.flatMap(lambda x: x).collect()\n",
    "y = df_biden.select(\"biden_vote\").rdd.flatMap(lambda x: x).collect()\n",
    "corr, p_value = pearsonr(x, y)\n",
    "\n",
    "\n",
    "print(\"Pearson correlation coefficient for Biden:\", corr)\n",
    "print(\"p-value:\", p_value)"
   ]
  },
  {
   "cell_type": "code",
   "execution_count": 48,
   "id": "9DqneM15-KB8",
   "metadata": {
    "colab": {
     "base_uri": "https://localhost:8080/"
    },
    "id": "9DqneM15-KB8",
    "outputId": "c2a5f791-36ee-456b-ec36-fa0fb72ba7cf"
   },
   "outputs": [
    {
     "name": "stdout",
     "output_type": "stream",
     "text": [
      "Pearson correlation coefficient for Tump: 0.5312681234122698\n",
      "p-value: 0.00014536206338746182\n"
     ]
    }
   ],
   "source": [
    "from scipy.stats import pearsonr\n",
    "\n",
    "x = df_trump.select(\"sum_polarity\").rdd.flatMap(lambda x: x).collect()\n",
    "y = df_trump.select(\"trump_vote\").rdd.flatMap(lambda x: x).collect()\n",
    "corr, p_value = pearsonr(x, y)\n",
    "\n",
    "\n",
    "print(\"Pearson correlation coefficient for Tump:\", corr)\n",
    "print(\"p-value:\", p_value)"
   ]
  },
  {
   "cell_type": "code",
   "execution_count": 49,
   "id": "mLdHBU6P-ROI",
   "metadata": {
    "colab": {
     "base_uri": "https://localhost:8080/",
     "height": 480
    },
    "id": "mLdHBU6P-ROI",
    "outputId": "a0a67481-b74e-4c90-b738-8b4901ae204c"
   },
   "outputs": [
    {
     "data": {
      "image/png": "[encoded data removed]",
      "text/plain": [
       "<Figure size 640x480 with 1 Axes>"
      ]
     },
     "metadata": {},
     "output_type": "display_data"
    }
   ],
   "source": [
    "\n",
    "import seaborn as sns\n",
    "from pyspark.ml.feature import MinMaxScaler\n",
    "from pyspark.ml import Pipeline\n",
    "from sklearn.preprocessing import MinMaxScaler\n",
    "import pandas as pd\n",
    "\n",
    "pandas_df = df_trump.select(\"sum_polarity\", \"trump_vote\").toPandas()\n",
    "pandas_df\n",
    "\n",
    "\n",
    "scaler = MinMaxScaler()\n",
    "\n",
    "df_scaled = scaler.fit_transform(pandas_df.to_numpy())\n",
    "\n",
    "df_scaled\n",
    "df_scaled = pd.DataFrame(df_scaled, columns=['sum_polarity_scaled', 'trump_vote_scaled'])\n",
    "\n",
    "sns.set(style=\"whitegrid\")\n",
    "sns.regplot(x=\"trump_vote_scaled\", y=\"sum_polarity_scaled\", data=df_scaled)\n",
    "plt.title(\"Relationship between Scaled Sentiment and Scaled Total Votes for Trump across states \")\n",
    "plt.xlabel(\"Scaled Sentiment\")\n",
    "plt.ylabel(\"Scaled Total Votes\")\n",
    "plt.show()"
   ]
  },
  {
   "cell_type": "code",
   "execution_count": 50,
   "id": "2qxmhh_R-b1L",
   "metadata": {
    "colab": {
     "base_uri": "https://localhost:8080/",
     "height": 480
    },
    "id": "2qxmhh_R-b1L",
    "outputId": "5acae646-082c-4831-ed6c-c5f211f0f498"
   },
   "outputs": [
    {
     "data": {
      "image/png": "[encoded data removed]",
      "text/plain": [
       "<Figure size 640x480 with 1 Axes>"
      ]
     },
     "metadata": {},
     "output_type": "display_data"
    }
   ],
   "source": [
    "pandas_df = df_biden.select(\"sum_polarity\", \"biden_vote\").toPandas()\n",
    "pandas_df\n",
    "\n",
    "\n",
    "scaler = MinMaxScaler()\n",
    "\n",
    "df_scaled = scaler.fit_transform(pandas_df.to_numpy())\n",
    "\n",
    "df_scaled\n",
    "df_scaled = pd.DataFrame(df_scaled, columns=['sum_polarity_scaled', 'biden_vote_scaled'])\n",
    "\n",
    "sns.set(style=\"whitegrid\")\n",
    "sns.regplot(x=\"biden_vote_scaled\", y=\"sum_polarity_scaled\", data=df_scaled)\n",
    "plt.title(\"Relationship between Scaled Sentiment and Scaled Total Votes for Biden across states\")\n",
    "plt.xlabel(\"Scaled Sentiment\")\n",
    "plt.ylabel(\"Scaled Total Votes\")\n",
    "plt.show()\n"
   ]
  },
  {
   "cell_type": "markdown",
   "id": "a006cddcddc7d187",
   "metadata": {
    "id": "a006cddcddc7d187"
   },
   "source": [
    "# 4 - Fine-tuning\n",
    "In this stage, we experiment with cross-validation and the lesser expensive train-validation split for fine-tuning our models."
   ]
  },
  {
   "cell_type": "markdown",
   "id": "b0eff0e67325fe69",
   "metadata": {
    "id": "b0eff0e67325fe69"
   },
   "source": [
    "## 4.1 Cross-Validation"
   ]
  },
  {
   "cell_type": "code",
   "execution_count": null,
   "id": "3846a3b7f7ee057c",
   "metadata": {
    "ExecuteTime": {
     "end_time": "2024-05-10T19:36:25.373082Z",
     "start_time": "2024-05-10T19:27:09.596726Z"
    },
    "id": "3846a3b7f7ee057c",
    "outputId": "8eb14325-38f5-4915-c056-2c63210b27aa"
   },
   "outputs": [
    {
     "name": "stderr",
     "output_type": "stream",
     "text": [
      "24/05/10 20:27:12 WARN MemoryStore: Not enough space to cache rdd_328_0 in memory! (computed 154.1 MiB so far)\n",
      "24/05/10 20:27:12 WARN BlockManager: Persisting block rdd_328_0 to disk instead.\n",
      "24/05/10 20:27:16 WARN MemoryStore: Not enough space to cache rdd_328_1 in memory! (computed 160.7 MiB so far)\n",
      "24/05/10 20:27:16 WARN BlockManager: Persisting block rdd_328_1 to disk instead.\n",
      "24/05/10 20:27:17 WARN MemoryStore: Not enough space to cache rdd_328_0 in memory! (computed 249.6 MiB so far)\n",
      "24/05/10 20:27:18 WARN MemoryStore: Not enough space to cache rdd_328_0 in memory! (computed 249.6 MiB so far)\n",
      "24/05/10 20:27:19 WARN MemoryStore: Not enough space to cache rdd_328_0 in memory! (computed 249.6 MiB so far)\n",
      "24/05/10 20:27:20 WARN MemoryStore: Not enough space to cache rdd_328_0 in memory! (computed 249.6 MiB so far)\n",
      "24/05/10 20:27:22 WARN MemoryStore: Not enough space to cache rdd_328_0 in memory! (computed 249.6 MiB so far)\n",
      "24/05/10 20:27:26 WARN MemoryStore: Not enough space to cache rdd_11_1 in memory! (computed 158.9 MiB so far)\n",
      "24/05/10 20:27:27 WARN DAGScheduler: Broadcasting large task binary with size 1367.6 KiB\n",
      "24/05/10 20:27:28 WARN MemoryStore: Not enough space to cache rdd_328_1 in memory! (computed 160.7 MiB so far)\n",
      "24/05/10 20:27:29 WARN MemoryStore: Not enough space to cache rdd_328_1 in memory! (computed 160.7 MiB so far)\n",
      "24/05/10 20:27:29 WARN MemoryStore: Not enough space to cache rdd_328_1 in memory! (computed 160.7 MiB so far)\n",
      "24/05/10 20:27:31 WARN MemoryStore: Not enough space to cache rdd_328_1 in memory! (computed 160.7 MiB so far)\n",
      "24/05/10 20:27:32 WARN MemoryStore: Not enough space to cache rdd_328_1 in memory! (computed 160.7 MiB so far)\n",
      "24/05/10 20:27:35 WARN DAGScheduler: Broadcasting large task binary with size 1367.7 KiB\n",
      "24/05/10 20:27:36 WARN MemoryStore: Not enough space to cache rdd_328_1 in memory! (computed 160.7 MiB so far)\n",
      "24/05/10 20:27:37 WARN MemoryStore: Not enough space to cache rdd_328_1 in memory! (computed 160.7 MiB so far)\n",
      "24/05/10 20:27:37 WARN MemoryStore: Not enough space to cache rdd_328_1 in memory! (computed 160.7 MiB so far)\n",
      "24/05/10 20:27:38 WARN MemoryStore: Not enough space to cache rdd_328_1 in memory! (computed 160.7 MiB so far)\n",
      "24/05/10 20:27:39 WARN MemoryStore: Not enough space to cache rdd_328_1 in memory! (computed 160.7 MiB so far)\n",
      "24/05/10 20:27:42 WARN DAGScheduler: Broadcasting large task binary with size 1367.6 KiB\n",
      "24/05/10 20:27:43 WARN MemoryStore: Not enough space to cache rdd_328_1 in memory! (computed 160.7 MiB so far)\n",
      "24/05/10 20:27:44 WARN MemoryStore: Not enough space to cache rdd_328_1 in memory! (computed 160.7 MiB so far)\n",
      "24/05/10 20:27:44 WARN MemoryStore: Not enough space to cache rdd_328_1 in memory! (computed 160.7 MiB so far)\n",
      "24/05/10 20:27:45 WARN MemoryStore: Not enough space to cache rdd_328_1 in memory! (computed 160.7 MiB so far)\n",
      "24/05/10 20:27:47 WARN MemoryStore: Not enough space to cache rdd_328_1 in memory! (computed 160.7 MiB so far)\n",
      "24/05/10 20:27:50 WARN DAGScheduler: Broadcasting large task binary with size 1367.7 KiB\n",
      "24/05/10 20:27:51 WARN MemoryStore: Not enough space to cache rdd_328_1 in memory! (computed 160.7 MiB so far)\n",
      "24/05/10 20:27:51 WARN MemoryStore: Not enough space to cache rdd_328_1 in memory! (computed 160.7 MiB so far)\n",
      "24/05/10 20:27:52 WARN MemoryStore: Not enough space to cache rdd_328_1 in memory! (computed 160.7 MiB so far)\n",
      "24/05/10 20:27:53 WARN MemoryStore: Not enough space to cache rdd_328_1 in memory! (computed 160.7 MiB so far)\n",
      "24/05/10 20:27:54 WARN MemoryStore: Not enough space to cache rdd_328_1 in memory! (computed 160.7 MiB so far)\n",
      "24/05/10 20:27:57 WARN DAGScheduler: Broadcasting large task binary with size 1367.6 KiB\n",
      "24/05/10 20:27:58 WARN MemoryStore: Not enough space to cache rdd_328_1 in memory! (computed 160.7 MiB so far)\n",
      "24/05/10 20:27:58 WARN MemoryStore: Not enough space to cache rdd_328_1 in memory! (computed 160.7 MiB so far)\n",
      "24/05/10 20:27:59 WARN MemoryStore: Not enough space to cache rdd_328_1 in memory! (computed 160.7 MiB so far)\n",
      "24/05/10 20:28:00 WARN MemoryStore: Not enough space to cache rdd_328_1 in memory! (computed 160.7 MiB so far)\n",
      "24/05/10 20:28:01 WARN MemoryStore: Not enough space to cache rdd_328_1 in memory! (computed 160.7 MiB so far)\n",
      "24/05/10 20:28:05 WARN DAGScheduler: Broadcasting large task binary with size 1367.7 KiB\n",
      "24/05/10 20:28:07 WARN MemoryStore: Not enough space to cache rdd_1174_0 in memory! (computed 154.0 MiB so far)\n",
      "24/05/10 20:28:07 WARN BlockManager: Persisting block rdd_1174_0 to disk instead.\n",
      "24/05/10 20:28:11 WARN MemoryStore: Not enough space to cache rdd_1174_1 in memory! (computed 160.7 MiB so far)\n",
      "24/05/10 20:28:11 WARN BlockManager: Persisting block rdd_1174_1 to disk instead.\n",
      "24/05/10 20:28:13 WARN MemoryStore: Not enough space to cache rdd_1174_0 in memory! (computed 249.1 MiB so far)\n",
      "24/05/10 20:28:13 WARN MemoryStore: Not enough space to cache rdd_1174_0 in memory! (computed 249.1 MiB so far)\n",
      "24/05/10 20:28:14 WARN MemoryStore: Not enough space to cache rdd_1174_0 in memory! (computed 249.1 MiB so far)\n",
      "24/05/10 20:28:15 WARN MemoryStore: Not enough space to cache rdd_1174_0 in memory! (computed 249.1 MiB so far)\n",
      "24/05/10 20:28:17 WARN MemoryStore: Not enough space to cache rdd_1174_0 in memory! (computed 249.1 MiB so far)\n",
      "24/05/10 20:28:18 WARN BlockManager: Asked to remove block broadcast_973, which does not exist\n",
      "24/05/10 20:28:21 WARN MemoryStore: Not enough space to cache rdd_11_1 in memory! (computed 158.9 MiB so far)\n",
      "24/05/10 20:28:22 WARN DAGScheduler: Broadcasting large task binary with size 1371.6 KiB\n",
      "24/05/10 20:28:23 WARN MemoryStore: Not enough space to cache rdd_1174_1 in memory! (computed 160.7 MiB so far)\n",
      "24/05/10 20:28:24 WARN MemoryStore: Not enough space to cache rdd_1174_1 in memory! (computed 160.7 MiB so far)\n",
      "24/05/10 20:28:24 WARN MemoryStore: Not enough space to cache rdd_1174_1 in memory! (computed 160.7 MiB so far)\n",
      "24/05/10 20:28:26 WARN MemoryStore: Not enough space to cache rdd_1174_1 in memory! (computed 160.7 MiB so far)\n",
      "24/05/10 20:28:27 WARN MemoryStore: Not enough space to cache rdd_1174_1 in memory! (computed 160.7 MiB so far)\n",
      "24/05/10 20:28:30 WARN DAGScheduler: Broadcasting large task binary with size 1371.8 KiB\n",
      "24/05/10 20:28:31 WARN MemoryStore: Not enough space to cache rdd_1174_1 in memory! (computed 160.7 MiB so far)\n",
      "24/05/10 20:28:32 WARN MemoryStore: Not enough space to cache rdd_1174_1 in memory! (computed 160.7 MiB so far)\n",
      "24/05/10 20:28:33 WARN MemoryStore: Not enough space to cache rdd_1174_1 in memory! (computed 160.7 MiB so far)\n",
      "24/05/10 20:28:34 WARN MemoryStore: Not enough space to cache rdd_1174_1 in memory! (computed 160.7 MiB so far)\n",
      "24/05/10 20:28:35 WARN MemoryStore: Not enough space to cache rdd_1174_1 in memory! (computed 160.7 MiB so far)\n",
      "24/05/10 20:28:37 WARN DAGScheduler: Broadcasting large task binary with size 1371.6 KiB\n",
      "24/05/10 20:28:38 WARN MemoryStore: Not enough space to cache rdd_1174_1 in memory! (computed 160.7 MiB so far)\n",
      "24/05/10 20:28:39 WARN MemoryStore: Not enough space to cache rdd_1174_1 in memory! (computed 160.7 MiB so far)\n",
      "24/05/10 20:28:40 WARN MemoryStore: Not enough space to cache rdd_1174_1 in memory! (computed 160.7 MiB so far)\n",
      "24/05/10 20:28:41 WARN MemoryStore: Not enough space to cache rdd_1174_1 in memory! (computed 160.7 MiB so far)\n",
      "24/05/10 20:28:42 WARN MemoryStore: Not enough space to cache rdd_1174_1 in memory! (computed 160.7 MiB so far)\n",
      "24/05/10 20:28:45 WARN DAGScheduler: Broadcasting large task binary with size 1371.8 KiB\n",
      "24/05/10 20:28:46 WARN MemoryStore: Not enough space to cache rdd_1174_1 in memory! (computed 160.7 MiB so far)\n",
      "24/05/10 20:28:47 WARN MemoryStore: Not enough space to cache rdd_1174_1 in memory! (computed 160.7 MiB so far)\n",
      "24/05/10 20:28:48 WARN MemoryStore: Not enough space to cache rdd_1174_1 in memory! (computed 160.7 MiB so far)\n",
      "24/05/10 20:28:49 WARN MemoryStore: Not enough space to cache rdd_1174_1 in memory! (computed 160.7 MiB so far)\n",
      "24/05/10 20:28:50 WARN MemoryStore: Not enough space to cache rdd_1174_1 in memory! (computed 160.7 MiB so far)\n",
      "24/05/10 20:28:52 WARN DAGScheduler: Broadcasting large task binary with size 1371.6 KiB\n",
      "24/05/10 20:28:53 WARN MemoryStore: Not enough space to cache rdd_1174_1 in memory! (computed 160.7 MiB so far)\n",
      "24/05/10 20:28:54 WARN MemoryStore: Not enough space to cache rdd_1174_1 in memory! (computed 160.7 MiB so far)\n",
      "24/05/10 20:28:55 WARN MemoryStore: Not enough space to cache rdd_1174_1 in memory! (computed 160.7 MiB so far)\n",
      "24/05/10 20:28:56 WARN MemoryStore: Not enough space to cache rdd_1174_1 in memory! (computed 160.7 MiB so far)\n",
      "24/05/10 20:28:57 WARN MemoryStore: Not enough space to cache rdd_1174_1 in memory! (computed 160.7 MiB so far)\n",
      "24/05/10 20:29:00 WARN DAGScheduler: Broadcasting large task binary with size 1371.8 KiB\n",
      "24/05/10 20:29:03 WARN MemoryStore: Not enough space to cache rdd_2044_0 in memory! (computed 154.3 MiB so far)\n",
      "24/05/10 20:29:03 WARN BlockManager: Persisting block rdd_2044_0 to disk instead.\n",
      "24/05/10 20:29:07 WARN MemoryStore: Not enough space to cache rdd_2044_1 in memory! (computed 160.9 MiB so far)\n",
      "24/05/10 20:29:07 WARN BlockManager: Persisting block rdd_2044_1 to disk instead.\n",
      "24/05/10 20:29:08 WARN MemoryStore: Not enough space to cache rdd_2044_0 in memory! (computed 249.3 MiB so far)\n",
      "24/05/10 20:29:09 WARN MemoryStore: Not enough space to cache rdd_2044_0 in memory! (computed 249.3 MiB so far)\n",
      "24/05/10 20:29:10 WARN MemoryStore: Not enough space to cache rdd_2044_0 in memory! (computed 249.3 MiB so far)\n",
      "24/05/10 20:29:11 WARN MemoryStore: Not enough space to cache rdd_2044_0 in memory! (computed 249.3 MiB so far)\n",
      "24/05/10 20:29:13 WARN MemoryStore: Not enough space to cache rdd_2044_0 in memory! (computed 249.3 MiB so far)\n",
      "24/05/10 20:29:17 WARN MemoryStore: Not enough space to cache rdd_11_1 in memory! (computed 158.9 MiB so far)\n",
      "24/05/10 20:29:18 WARN DAGScheduler: Broadcasting large task binary with size 1368.7 KiB\n",
      "24/05/10 20:29:19 WARN MemoryStore: Not enough space to cache rdd_2044_1 in memory! (computed 160.9 MiB so far)\n",
      "24/05/10 20:29:19 WARN MemoryStore: Not enough space to cache rdd_2044_1 in memory! (computed 160.9 MiB so far)\n",
      "24/05/10 20:29:20 WARN MemoryStore: Not enough space to cache rdd_2044_1 in memory! (computed 160.9 MiB so far)\n",
      "24/05/10 20:29:21 WARN MemoryStore: Not enough space to cache rdd_2044_1 in memory! (computed 160.9 MiB so far)\n",
      "24/05/10 20:29:22 WARN MemoryStore: Not enough space to cache rdd_2044_1 in memory! (computed 160.9 MiB so far)\n",
      "24/05/10 20:29:26 WARN DAGScheduler: Broadcasting large task binary with size 1368.8 KiB\n",
      "24/05/10 20:29:26 WARN MemoryStore: Not enough space to cache rdd_2044_1 in memory! (computed 160.9 MiB so far)\n",
      "24/05/10 20:29:27 WARN MemoryStore: Not enough space to cache rdd_2044_1 in memory! (computed 160.9 MiB so far)\n",
      "24/05/10 20:29:28 WARN MemoryStore: Not enough space to cache rdd_2044_1 in memory! (computed 160.9 MiB so far)\n",
      "24/05/10 20:29:29 WARN MemoryStore: Not enough space to cache rdd_2044_1 in memory! (computed 160.9 MiB so far)\n",
      "24/05/10 20:29:30 WARN MemoryStore: Not enough space to cache rdd_2044_1 in memory! (computed 160.9 MiB so far)\n",
      "24/05/10 20:29:33 WARN DAGScheduler: Broadcasting large task binary with size 1368.7 KiB\n",
      "24/05/10 20:29:33 WARN MemoryStore: Not enough space to cache rdd_2044_1 in memory! (computed 160.9 MiB so far)\n",
      "24/05/10 20:29:34 WARN MemoryStore: Not enough space to cache rdd_2044_1 in memory! (computed 160.9 MiB so far)\n",
      "24/05/10 20:29:35 WARN MemoryStore: Not enough space to cache rdd_2044_1 in memory! (computed 160.9 MiB so far)\n",
      "24/05/10 20:29:36 WARN MemoryStore: Not enough space to cache rdd_2044_1 in memory! (computed 160.9 MiB so far)\n",
      "24/05/10 20:29:37 WARN MemoryStore: Not enough space to cache rdd_2044_1 in memory! (computed 160.9 MiB so far)\n",
      "24/05/10 20:29:41 WARN DAGScheduler: Broadcasting large task binary with size 1368.8 KiB\n",
      "24/05/10 20:29:41 WARN MemoryStore: Not enough space to cache rdd_2044_1 in memory! (computed 160.9 MiB so far)\n",
      "24/05/10 20:29:42 WARN MemoryStore: Not enough space to cache rdd_2044_1 in memory! (computed 160.9 MiB so far)\n",
      "24/05/10 20:29:43 WARN MemoryStore: Not enough space to cache rdd_2044_1 in memory! (computed 160.9 MiB so far)\n",
      "24/05/10 20:29:44 WARN MemoryStore: Not enough space to cache rdd_2044_1 in memory! (computed 160.9 MiB so far)\n",
      "24/05/10 20:29:45 WARN MemoryStore: Not enough space to cache rdd_2044_1 in memory! (computed 160.9 MiB so far)\n",
      "24/05/10 20:29:48 WARN DAGScheduler: Broadcasting large task binary with size 1368.7 KiB\n",
      "24/05/10 20:29:48 WARN MemoryStore: Not enough space to cache rdd_2044_1 in memory! (computed 160.9 MiB so far)\n",
      "24/05/10 20:29:49 WARN MemoryStore: Not enough space to cache rdd_2044_1 in memory! (computed 160.9 MiB so far)\n",
      "24/05/10 20:29:50 WARN MemoryStore: Not enough space to cache rdd_2044_1 in memory! (computed 160.9 MiB so far)\n",
      "24/05/10 20:29:51 WARN MemoryStore: Not enough space to cache rdd_2044_1 in memory! (computed 160.9 MiB so far)\n",
      "24/05/10 20:29:52 WARN MemoryStore: Not enough space to cache rdd_2044_1 in memory! (computed 160.9 MiB so far)\n",
      "24/05/10 20:29:55 WARN DAGScheduler: Broadcasting large task binary with size 1368.8 KiB\n",
      "24/05/10 20:29:58 WARN MemoryStore: Not enough space to cache rdd_2914_0 in memory! (computed 154.0 MiB so far)\n",
      "24/05/10 20:29:58 WARN BlockManager: Persisting block rdd_2914_0 to disk instead.\n",
      "24/05/10 20:30:02 WARN MemoryStore: Not enough space to cache rdd_2914_1 in memory! (computed 160.7 MiB so far)\n",
      "24/05/10 20:30:02 WARN BlockManager: Persisting block rdd_2914_1 to disk instead.\n",
      "24/05/10 20:30:03 WARN MemoryStore: Not enough space to cache rdd_2914_0 in memory! (computed 248.9 MiB so far)\n",
      "24/05/10 20:30:04 WARN MemoryStore: Not enough space to cache rdd_2914_0 in memory! (computed 248.9 MiB so far)\n",
      "24/05/10 20:30:05 WARN MemoryStore: Not enough space to cache rdd_2914_0 in memory! (computed 248.9 MiB so far)\n",
      "24/05/10 20:30:06 WARN MemoryStore: Not enough space to cache rdd_2914_0 in memory! (computed 248.9 MiB so far)\n",
      "24/05/10 20:30:08 WARN MemoryStore: Not enough space to cache rdd_2914_0 in memory! (computed 248.9 MiB so far)\n",
      "24/05/10 20:30:12 WARN MemoryStore: Not enough space to cache rdd_11_1 in memory! (computed 158.9 MiB so far)\n",
      "24/05/10 20:30:12 WARN DAGScheduler: Broadcasting large task binary with size 1370.2 KiB\n",
      "24/05/10 20:30:13 WARN MemoryStore: Not enough space to cache rdd_2914_1 in memory! (computed 160.7 MiB so far)\n",
      "24/05/10 20:30:14 WARN MemoryStore: Not enough space to cache rdd_2914_1 in memory! (computed 160.7 MiB so far)\n",
      "24/05/10 20:30:15 WARN MemoryStore: Not enough space to cache rdd_2914_1 in memory! (computed 160.7 MiB so far)\n",
      "24/05/10 20:30:16 WARN MemoryStore: Not enough space to cache rdd_2914_1 in memory! (computed 160.7 MiB so far)\n",
      "24/05/10 20:30:17 WARN MemoryStore: Not enough space to cache rdd_2914_1 in memory! (computed 160.7 MiB so far)\n",
      "24/05/10 20:30:21 WARN DAGScheduler: Broadcasting large task binary with size 1370.3 KiB\n",
      "24/05/10 20:30:21 WARN MemoryStore: Not enough space to cache rdd_2914_1 in memory! (computed 160.7 MiB so far)\n",
      "24/05/10 20:30:22 WARN MemoryStore: Not enough space to cache rdd_2914_1 in memory! (computed 160.7 MiB so far)\n",
      "24/05/10 20:30:23 WARN MemoryStore: Not enough space to cache rdd_2914_1 in memory! (computed 160.7 MiB so far)\n",
      "24/05/10 20:30:24 WARN MemoryStore: Not enough space to cache rdd_2914_1 in memory! (computed 160.7 MiB so far)\n",
      "24/05/10 20:30:25 WARN MemoryStore: Not enough space to cache rdd_2914_1 in memory! (computed 160.7 MiB so far)\n",
      "24/05/10 20:30:27 WARN DAGScheduler: Broadcasting large task binary with size 1370.2 KiB\n",
      "24/05/10 20:30:28 WARN MemoryStore: Not enough space to cache rdd_2914_1 in memory! (computed 160.7 MiB so far)\n",
      "24/05/10 20:30:29 WARN MemoryStore: Not enough space to cache rdd_2914_1 in memory! (computed 160.7 MiB so far)\n",
      "24/05/10 20:30:30 WARN MemoryStore: Not enough space to cache rdd_2914_1 in memory! (computed 160.7 MiB so far)\n",
      "24/05/10 20:30:31 WARN MemoryStore: Not enough space to cache rdd_2914_1 in memory! (computed 160.7 MiB so far)\n",
      "24/05/10 20:30:32 WARN MemoryStore: Not enough space to cache rdd_2914_1 in memory! (computed 160.7 MiB so far)\n",
      "24/05/10 20:30:35 WARN DAGScheduler: Broadcasting large task binary with size 1370.4 KiB\n",
      "24/05/10 20:30:36 WARN MemoryStore: Not enough space to cache rdd_2914_1 in memory! (computed 160.7 MiB so far)\n",
      "24/05/10 20:30:37 WARN MemoryStore: Not enough space to cache rdd_2914_1 in memory! (computed 160.7 MiB so far)\n",
      "24/05/10 20:30:37 WARN MemoryStore: Not enough space to cache rdd_2914_1 in memory! (computed 160.7 MiB so far)\n",
      "24/05/10 20:30:38 WARN MemoryStore: Not enough space to cache rdd_2914_1 in memory! (computed 160.7 MiB so far)\n",
      "24/05/10 20:30:39 WARN MemoryStore: Not enough space to cache rdd_2914_1 in memory! (computed 160.7 MiB so far)\n",
      "24/05/10 20:30:42 WARN DAGScheduler: Broadcasting large task binary with size 1370.2 KiB\n",
      "24/05/10 20:30:43 WARN MemoryStore: Not enough space to cache rdd_2914_1 in memory! (computed 160.7 MiB so far)\n",
      "24/05/10 20:30:43 WARN MemoryStore: Not enough space to cache rdd_2914_1 in memory! (computed 160.7 MiB so far)\n",
      "24/05/10 20:30:44 WARN MemoryStore: Not enough space to cache rdd_2914_1 in memory! (computed 160.7 MiB so far)\n",
      "24/05/10 20:30:45 WARN MemoryStore: Not enough space to cache rdd_2914_1 in memory! (computed 160.7 MiB so far)\n",
      "24/05/10 20:30:46 WARN MemoryStore: Not enough space to cache rdd_2914_1 in memory! (computed 160.7 MiB so far)\n",
      "24/05/10 20:30:50 WARN DAGScheduler: Broadcasting large task binary with size 1370.4 KiB\n",
      "24/05/10 20:30:52 WARN MemoryStore: Not enough space to cache rdd_3784_0 in memory! (computed 154.0 MiB so far)\n",
      "24/05/10 20:30:52 WARN BlockManager: Persisting block rdd_3784_0 to disk instead.\n",
      "24/05/10 20:30:56 WARN MemoryStore: Not enough space to cache rdd_3784_1 in memory! (computed 160.7 MiB so far)\n",
      "24/05/10 20:30:56 WARN BlockManager: Persisting block rdd_3784_1 to disk instead.\n",
      "24/05/10 20:30:58 WARN MemoryStore: Not enough space to cache rdd_3784_0 in memory! (computed 249.4 MiB so far)\n",
      "24/05/10 20:30:58 WARN MemoryStore: Not enough space to cache rdd_3784_0 in memory! (computed 249.4 MiB so far)\n",
      "24/05/10 20:30:59 WARN MemoryStore: Not enough space to cache rdd_3784_0 in memory! (computed 249.4 MiB so far)\n",
      "24/05/10 20:31:00 WARN MemoryStore: Not enough space to cache rdd_3784_0 in memory! (computed 249.4 MiB so far)\n",
      "24/05/10 20:31:02 WARN MemoryStore: Not enough space to cache rdd_3784_0 in memory! (computed 249.4 MiB so far)\n",
      "24/05/10 20:31:06 WARN MemoryStore: Not enough space to cache rdd_11_1 in memory! (computed 158.9 MiB so far)\n",
      "24/05/10 20:31:06 WARN DAGScheduler: Broadcasting large task binary with size 1363.0 KiB\n",
      "24/05/10 20:31:07 WARN MemoryStore: Not enough space to cache rdd_3784_1 in memory! (computed 160.7 MiB so far)\n",
      "24/05/10 20:31:08 WARN MemoryStore: Not enough space to cache rdd_3784_1 in memory! (computed 160.7 MiB so far)\n",
      "24/05/10 20:31:09 WARN MemoryStore: Not enough space to cache rdd_3784_1 in memory! (computed 160.7 MiB so far)\n",
      "24/05/10 20:31:10 WARN MemoryStore: Not enough space to cache rdd_3784_1 in memory! (computed 160.7 MiB so far)\n",
      "24/05/10 20:31:11 WARN MemoryStore: Not enough space to cache rdd_3784_1 in memory! (computed 160.7 MiB so far)\n",
      "24/05/10 20:31:15 WARN DAGScheduler: Broadcasting large task binary with size 1363.2 KiB\n",
      "24/05/10 20:31:15 WARN MemoryStore: Not enough space to cache rdd_3784_1 in memory! (computed 160.7 MiB so far)\n",
      "24/05/10 20:31:16 WARN MemoryStore: Not enough space to cache rdd_3784_1 in memory! (computed 160.7 MiB so far)\n",
      "24/05/10 20:31:17 WARN MemoryStore: Not enough space to cache rdd_3784_1 in memory! (computed 160.7 MiB so far)\n",
      "24/05/10 20:31:18 WARN MemoryStore: Not enough space to cache rdd_3784_1 in memory! (computed 160.7 MiB so far)\n",
      "24/05/10 20:31:19 WARN MemoryStore: Not enough space to cache rdd_3784_1 in memory! (computed 160.7 MiB so far)\n",
      "24/05/10 20:31:21 WARN DAGScheduler: Broadcasting large task binary with size 1363.0 KiB\n",
      "24/05/10 20:31:22 WARN MemoryStore: Not enough space to cache rdd_3784_1 in memory! (computed 160.7 MiB so far)\n",
      "24/05/10 20:31:23 WARN MemoryStore: Not enough space to cache rdd_3784_1 in memory! (computed 160.7 MiB so far)\n",
      "24/05/10 20:31:23 WARN MemoryStore: Not enough space to cache rdd_3784_1 in memory! (computed 160.7 MiB so far)\n",
      "24/05/10 20:31:25 WARN MemoryStore: Not enough space to cache rdd_3784_1 in memory! (computed 160.7 MiB so far)\n",
      "24/05/10 20:31:26 WARN MemoryStore: Not enough space to cache rdd_3784_1 in memory! (computed 160.7 MiB so far)\n",
      "24/05/10 20:31:29 WARN DAGScheduler: Broadcasting large task binary with size 1363.2 KiB\n",
      "24/05/10 20:31:30 WARN MemoryStore: Not enough space to cache rdd_3784_1 in memory! (computed 160.7 MiB so far)\n",
      "24/05/10 20:31:30 WARN MemoryStore: Not enough space to cache rdd_3784_1 in memory! (computed 160.7 MiB so far)\n",
      "24/05/10 20:31:31 WARN MemoryStore: Not enough space to cache rdd_3784_1 in memory! (computed 160.7 MiB so far)\n",
      "24/05/10 20:31:32 WARN MemoryStore: Not enough space to cache rdd_3784_1 in memory! (computed 160.7 MiB so far)\n",
      "24/05/10 20:31:33 WARN MemoryStore: Not enough space to cache rdd_3784_1 in memory! (computed 160.7 MiB so far)\n",
      "24/05/10 20:31:36 WARN DAGScheduler: Broadcasting large task binary with size 1363.0 KiB\n",
      "24/05/10 20:31:36 WARN MemoryStore: Not enough space to cache rdd_3784_1 in memory! (computed 160.7 MiB so far)\n",
      "24/05/10 20:31:37 WARN MemoryStore: Not enough space to cache rdd_3784_1 in memory! (computed 160.7 MiB so far)\n",
      "24/05/10 20:31:38 WARN MemoryStore: Not enough space to cache rdd_3784_1 in memory! (computed 160.7 MiB so far)\n",
      "24/05/10 20:31:39 WARN MemoryStore: Not enough space to cache rdd_3784_1 in memory! (computed 160.7 MiB so far)\n",
      "24/05/10 20:31:40 WARN MemoryStore: Not enough space to cache rdd_3784_1 in memory! (computed 160.7 MiB so far)\n",
      "24/05/10 20:31:43 WARN DAGScheduler: Broadcasting large task binary with size 1363.2 KiB\n",
      "24/05/10 20:31:46 WARN MemoryStore: Not enough space to cache rdd_4645_0 in memory! (computed 154.0 MiB so far)\n",
      "24/05/10 20:31:46 WARN BlockManager: Persisting block rdd_4645_0 to disk instead.\n",
      "24/05/10 20:31:50 WARN MemoryStore: Not enough space to cache rdd_4645_1 in memory! (computed 160.9 MiB so far)\n",
      "24/05/10 20:31:50 WARN BlockManager: Persisting block rdd_4645_1 to disk instead.\n",
      "24/05/10 20:31:51 WARN MemoryStore: Not enough space to cache rdd_4645_0 in memory! (computed 249.4 MiB so far)\n",
      "24/05/10 20:31:52 WARN MemoryStore: Not enough space to cache rdd_4645_0 in memory! (computed 249.4 MiB so far)\n",
      "24/05/10 20:31:53 WARN MemoryStore: Not enough space to cache rdd_4645_0 in memory! (computed 249.4 MiB so far)\n",
      "24/05/10 20:31:54 WARN MemoryStore: Not enough space to cache rdd_4645_0 in memory! (computed 249.4 MiB so far)\n",
      "24/05/10 20:31:56 WARN MemoryStore: Not enough space to cache rdd_4645_0 in memory! (computed 249.4 MiB so far)\n",
      "24/05/10 20:32:00 WARN MemoryStore: Not enough space to cache rdd_11_1 in memory! (computed 158.9 MiB so far)\n",
      "24/05/10 20:32:00 WARN DAGScheduler: Broadcasting large task binary with size 1364.6 KiB\n",
      "24/05/10 20:32:01 WARN MemoryStore: Not enough space to cache rdd_4645_1 in memory! (computed 160.9 MiB so far)\n",
      "24/05/10 20:32:02 WARN MemoryStore: Not enough space to cache rdd_4645_1 in memory! (computed 160.9 MiB so far)\n",
      "24/05/10 20:32:03 WARN MemoryStore: Not enough space to cache rdd_4645_1 in memory! (computed 160.9 MiB so far)\n",
      "24/05/10 20:32:04 WARN MemoryStore: Not enough space to cache rdd_4645_1 in memory! (computed 160.9 MiB so far)\n",
      "24/05/10 20:32:05 WARN MemoryStore: Not enough space to cache rdd_4645_1 in memory! (computed 160.9 MiB so far)\n",
      "24/05/10 20:32:08 WARN DAGScheduler: Broadcasting large task binary with size 1364.8 KiB\n",
      "24/05/10 20:32:09 WARN MemoryStore: Not enough space to cache rdd_4645_1 in memory! (computed 160.9 MiB so far)\n",
      "24/05/10 20:32:10 WARN MemoryStore: Not enough space to cache rdd_4645_1 in memory! (computed 160.9 MiB so far)\n",
      "24/05/10 20:32:11 WARN MemoryStore: Not enough space to cache rdd_4645_1 in memory! (computed 160.9 MiB so far)\n",
      "24/05/10 20:32:12 WARN MemoryStore: Not enough space to cache rdd_4645_1 in memory! (computed 160.9 MiB so far)\n",
      "24/05/10 20:32:13 WARN MemoryStore: Not enough space to cache rdd_4645_1 in memory! (computed 160.9 MiB so far)\n",
      "24/05/10 20:32:15 WARN DAGScheduler: Broadcasting large task binary with size 1364.6 KiB\n",
      "24/05/10 20:32:16 WARN MemoryStore: Not enough space to cache rdd_4645_1 in memory! (computed 160.9 MiB so far)\n",
      "24/05/10 20:32:17 WARN MemoryStore: Not enough space to cache rdd_4645_1 in memory! (computed 160.9 MiB so far)\n",
      "24/05/10 20:32:17 WARN MemoryStore: Not enough space to cache rdd_4645_1 in memory! (computed 160.9 MiB so far)\n",
      "24/05/10 20:32:18 WARN MemoryStore: Not enough space to cache rdd_4645_1 in memory! (computed 160.9 MiB so far)\n",
      "24/05/10 20:32:20 WARN MemoryStore: Not enough space to cache rdd_4645_1 in memory! (computed 160.9 MiB so far)\n",
      "24/05/10 20:32:23 WARN DAGScheduler: Broadcasting large task binary with size 1364.8 KiB\n",
      "24/05/10 20:32:24 WARN MemoryStore: Not enough space to cache rdd_4645_1 in memory! (computed 160.9 MiB so far)\n",
      "24/05/10 20:32:24 WARN MemoryStore: Not enough space to cache rdd_4645_1 in memory! (computed 160.9 MiB so far)\n",
      "24/05/10 20:32:25 WARN MemoryStore: Not enough space to cache rdd_4645_1 in memory! (computed 160.9 MiB so far)\n",
      "24/05/10 20:32:27 WARN MemoryStore: Not enough space to cache rdd_4645_1 in memory! (computed 160.9 MiB so far)\n",
      "24/05/10 20:32:28 WARN MemoryStore: Not enough space to cache rdd_4645_1 in memory! (computed 160.9 MiB so far)\n",
      "24/05/10 20:32:30 WARN DAGScheduler: Broadcasting large task binary with size 1364.6 KiB\n",
      "24/05/10 20:32:31 WARN MemoryStore: Not enough space to cache rdd_4645_1 in memory! (computed 160.9 MiB so far)\n",
      "24/05/10 20:32:32 WARN MemoryStore: Not enough space to cache rdd_4645_1 in memory! (computed 160.9 MiB so far)\n",
      "24/05/10 20:32:32 WARN MemoryStore: Not enough space to cache rdd_4645_1 in memory! (computed 160.9 MiB so far)\n",
      "24/05/10 20:32:33 WARN MemoryStore: Not enough space to cache rdd_4645_1 in memory! (computed 160.9 MiB so far)\n",
      "24/05/10 20:32:34 WARN MemoryStore: Not enough space to cache rdd_4645_1 in memory! (computed 160.9 MiB so far)\n",
      "24/05/10 20:32:38 WARN DAGScheduler: Broadcasting large task binary with size 1364.8 KiB\n",
      "24/05/10 20:32:40 WARN MemoryStore: Not enough space to cache rdd_5518_0 in memory! (computed 154.1 MiB so far)\n",
      "24/05/10 20:32:40 WARN BlockManager: Persisting block rdd_5518_0 to disk instead.\n",
      "24/05/10 20:32:44 WARN MemoryStore: Not enough space to cache rdd_5518_1 in memory! (computed 161.0 MiB so far)\n",
      "24/05/10 20:32:44 WARN BlockManager: Persisting block rdd_5518_1 to disk instead.\n",
      "24/05/10 20:32:46 WARN MemoryStore: Not enough space to cache rdd_5518_0 in memory! (computed 249.3 MiB so far)\n",
      "24/05/10 20:32:47 WARN MemoryStore: Not enough space to cache rdd_5518_0 in memory! (computed 249.3 MiB so far)\n",
      "24/05/10 20:32:47 WARN MemoryStore: Not enough space to cache rdd_5518_0 in memory! (computed 249.3 MiB so far)\n",
      "24/05/10 20:32:49 WARN MemoryStore: Not enough space to cache rdd_5518_0 in memory! (computed 249.3 MiB so far)\n",
      "24/05/10 20:32:50 WARN MemoryStore: Not enough space to cache rdd_5518_0 in memory! (computed 249.3 MiB so far)\n",
      "24/05/10 20:32:54 WARN MemoryStore: Not enough space to cache rdd_11_1 in memory! (computed 158.9 MiB so far)\n",
      "24/05/10 20:32:55 WARN DAGScheduler: Broadcasting large task binary with size 1366.5 KiB\n",
      "24/05/10 20:32:56 WARN MemoryStore: Not enough space to cache rdd_5518_1 in memory! (computed 161.0 MiB so far)\n",
      "24/05/10 20:32:56 WARN MemoryStore: Not enough space to cache rdd_5518_1 in memory! (computed 161.0 MiB so far)\n",
      "24/05/10 20:32:57 WARN MemoryStore: Not enough space to cache rdd_5518_1 in memory! (computed 161.0 MiB so far)\n",
      "24/05/10 20:32:58 WARN MemoryStore: Not enough space to cache rdd_5518_1 in memory! (computed 161.0 MiB so far)\n",
      "24/05/10 20:32:59 WARN MemoryStore: Not enough space to cache rdd_5518_1 in memory! (computed 161.0 MiB so far)\n",
      "24/05/10 20:33:03 WARN DAGScheduler: Broadcasting large task binary with size 1366.7 KiB\n",
      "24/05/10 20:33:03 WARN MemoryStore: Not enough space to cache rdd_5518_1 in memory! (computed 161.0 MiB so far)\n",
      "24/05/10 20:33:04 WARN MemoryStore: Not enough space to cache rdd_5518_1 in memory! (computed 161.0 MiB so far)\n",
      "24/05/10 20:33:05 WARN MemoryStore: Not enough space to cache rdd_5518_1 in memory! (computed 161.0 MiB so far)\n",
      "24/05/10 20:33:06 WARN MemoryStore: Not enough space to cache rdd_5518_1 in memory! (computed 161.0 MiB so far)\n",
      "24/05/10 20:33:07 WARN MemoryStore: Not enough space to cache rdd_5518_1 in memory! (computed 161.0 MiB so far)\n",
      "24/05/10 20:33:10 WARN DAGScheduler: Broadcasting large task binary with size 1366.5 KiB\n",
      "24/05/10 20:33:10 WARN MemoryStore: Not enough space to cache rdd_5518_1 in memory! (computed 161.0 MiB so far)\n",
      "24/05/10 20:33:11 WARN MemoryStore: Not enough space to cache rdd_5518_1 in memory! (computed 161.0 MiB so far)\n",
      "24/05/10 20:33:12 WARN MemoryStore: Not enough space to cache rdd_5518_1 in memory! (computed 161.0 MiB so far)\n",
      "24/05/10 20:33:13 WARN MemoryStore: Not enough space to cache rdd_5518_1 in memory! (computed 161.0 MiB so far)\n",
      "24/05/10 20:33:14 WARN MemoryStore: Not enough space to cache rdd_5518_1 in memory! (computed 161.0 MiB so far)\n",
      "24/05/10 20:33:18 WARN DAGScheduler: Broadcasting large task binary with size 1366.7 KiB\n",
      "24/05/10 20:33:18 WARN MemoryStore: Not enough space to cache rdd_5518_1 in memory! (computed 161.0 MiB so far)\n",
      "24/05/10 20:33:19 WARN MemoryStore: Not enough space to cache rdd_5518_1 in memory! (computed 161.0 MiB so far)\n",
      "24/05/10 20:33:20 WARN MemoryStore: Not enough space to cache rdd_5518_1 in memory! (computed 161.0 MiB so far)\n",
      "24/05/10 20:33:21 WARN MemoryStore: Not enough space to cache rdd_5518_1 in memory! (computed 161.0 MiB so far)\n",
      "24/05/10 20:33:22 WARN MemoryStore: Not enough space to cache rdd_5518_1 in memory! (computed 161.0 MiB so far)\n",
      "24/05/10 20:33:24 WARN DAGScheduler: Broadcasting large task binary with size 1366.5 KiB\n",
      "24/05/10 20:33:25 WARN MemoryStore: Not enough space to cache rdd_5518_1 in memory! (computed 161.0 MiB so far)\n",
      "24/05/10 20:33:26 WARN MemoryStore: Not enough space to cache rdd_5518_1 in memory! (computed 161.0 MiB so far)\n",
      "24/05/10 20:33:27 WARN MemoryStore: Not enough space to cache rdd_5518_1 in memory! (computed 161.0 MiB so far)\n",
      "24/05/10 20:33:28 WARN MemoryStore: Not enough space to cache rdd_5518_1 in memory! (computed 161.0 MiB so far)\n",
      "24/05/10 20:33:29 WARN MemoryStore: Not enough space to cache rdd_5518_1 in memory! (computed 161.0 MiB so far)\n",
      "24/05/10 20:33:32 WARN DAGScheduler: Broadcasting large task binary with size 1366.7 KiB\n",
      "24/05/10 20:33:35 WARN MemoryStore: Not enough space to cache rdd_6394_0 in memory! (computed 154.1 MiB so far)\n",
      "24/05/10 20:33:35 WARN BlockManager: Persisting block rdd_6394_0 to disk instead.\n",
      "24/05/10 20:33:39 WARN MemoryStore: Not enough space to cache rdd_6394_1 in memory! (computed 161.0 MiB so far)\n",
      "24/05/10 20:33:39 WARN BlockManager: Persisting block rdd_6394_1 to disk instead.\n",
      "24/05/10 20:33:40 WARN MemoryStore: Not enough space to cache rdd_6394_0 in memory! (computed 249.3 MiB so far)\n",
      "24/05/10 20:33:41 WARN MemoryStore: Not enough space to cache rdd_6394_0 in memory! (computed 249.3 MiB so far)\n",
      "24/05/10 20:33:42 WARN MemoryStore: Not enough space to cache rdd_6394_0 in memory! (computed 249.3 MiB so far)\n",
      "24/05/10 20:33:43 WARN MemoryStore: Not enough space to cache rdd_6394_0 in memory! (computed 249.3 MiB so far)\n",
      "24/05/10 20:33:45 WARN MemoryStore: Not enough space to cache rdd_6394_0 in memory! (computed 249.3 MiB so far)\n",
      "24/05/10 20:33:49 WARN MemoryStore: Not enough space to cache rdd_11_1 in memory! (computed 158.9 MiB so far)\n",
      "24/05/10 20:33:49 WARN DAGScheduler: Broadcasting large task binary with size 1369.4 KiB\n",
      "24/05/10 20:33:50 WARN MemoryStore: Not enough space to cache rdd_6394_1 in memory! (computed 161.0 MiB so far)\n",
      "24/05/10 20:33:51 WARN MemoryStore: Not enough space to cache rdd_6394_1 in memory! (computed 161.0 MiB so far)\n",
      "24/05/10 20:33:52 WARN MemoryStore: Not enough space to cache rdd_6394_1 in memory! (computed 161.0 MiB so far)\n",
      "24/05/10 20:33:53 WARN MemoryStore: Not enough space to cache rdd_6394_1 in memory! (computed 161.0 MiB so far)\n",
      "24/05/10 20:33:54 WARN MemoryStore: Not enough space to cache rdd_6394_1 in memory! (computed 161.0 MiB so far)\n",
      "24/05/10 20:33:57 WARN DAGScheduler: Broadcasting large task binary with size 1369.6 KiB\n",
      "24/05/10 20:33:58 WARN MemoryStore: Not enough space to cache rdd_6394_1 in memory! (computed 161.0 MiB so far)\n",
      "24/05/10 20:33:59 WARN MemoryStore: Not enough space to cache rdd_6394_1 in memory! (computed 161.0 MiB so far)\n",
      "24/05/10 20:33:59 WARN MemoryStore: Not enough space to cache rdd_6394_1 in memory! (computed 161.0 MiB so far)\n",
      "24/05/10 20:34:01 WARN MemoryStore: Not enough space to cache rdd_6394_1 in memory! (computed 161.0 MiB so far)\n",
      "24/05/10 20:34:02 WARN MemoryStore: Not enough space to cache rdd_6394_1 in memory! (computed 161.0 MiB so far)\n",
      "24/05/10 20:34:04 WARN DAGScheduler: Broadcasting large task binary with size 1369.4 KiB\n",
      "24/05/10 20:34:05 WARN MemoryStore: Not enough space to cache rdd_6394_1 in memory! (computed 161.0 MiB so far)\n",
      "24/05/10 20:34:06 WARN MemoryStore: Not enough space to cache rdd_6394_1 in memory! (computed 161.0 MiB so far)\n",
      "24/05/10 20:34:06 WARN MemoryStore: Not enough space to cache rdd_6394_1 in memory! (computed 161.0 MiB so far)\n",
      "24/05/10 20:34:07 WARN MemoryStore: Not enough space to cache rdd_6394_1 in memory! (computed 161.0 MiB so far)\n",
      "24/05/10 20:34:08 WARN MemoryStore: Not enough space to cache rdd_6394_1 in memory! (computed 161.0 MiB so far)\n",
      "24/05/10 20:34:12 WARN DAGScheduler: Broadcasting large task binary with size 1369.6 KiB\n",
      "24/05/10 20:34:12 WARN MemoryStore: Not enough space to cache rdd_6394_1 in memory! (computed 161.0 MiB so far)\n",
      "24/05/10 20:34:13 WARN MemoryStore: Not enough space to cache rdd_6394_1 in memory! (computed 161.0 MiB so far)\n",
      "24/05/10 20:34:14 WARN MemoryStore: Not enough space to cache rdd_6394_1 in memory! (computed 161.0 MiB so far)\n",
      "24/05/10 20:34:15 WARN MemoryStore: Not enough space to cache rdd_6394_1 in memory! (computed 161.0 MiB so far)\n",
      "24/05/10 20:34:16 WARN MemoryStore: Not enough space to cache rdd_6394_1 in memory! (computed 161.0 MiB so far)\n",
      "24/05/10 20:34:18 WARN DAGScheduler: Broadcasting large task binary with size 1369.4 KiB\n",
      "24/05/10 20:34:19 WARN MemoryStore: Not enough space to cache rdd_6394_1 in memory! (computed 161.0 MiB so far)\n",
      "24/05/10 20:34:20 WARN MemoryStore: Not enough space to cache rdd_6394_1 in memory! (computed 161.0 MiB so far)\n",
      "24/05/10 20:34:21 WARN MemoryStore: Not enough space to cache rdd_6394_1 in memory! (computed 161.0 MiB so far)\n",
      "24/05/10 20:34:22 WARN MemoryStore: Not enough space to cache rdd_6394_1 in memory! (computed 161.0 MiB so far)\n",
      "24/05/10 20:34:23 WARN MemoryStore: Not enough space to cache rdd_6394_1 in memory! (computed 161.0 MiB so far)\n",
      "24/05/10 20:34:26 WARN DAGScheduler: Broadcasting large task binary with size 1369.6 KiB\n",
      "24/05/10 20:34:28 WARN MemoryStore: Not enough space to cache rdd_7252_0 in memory! (computed 154.1 MiB so far)\n",
      "24/05/10 20:34:28 WARN BlockManager: Persisting block rdd_7252_0 to disk instead.\n",
      "24/05/10 20:34:32 WARN MemoryStore: Not enough space to cache rdd_7252_1 in memory! (computed 160.8 MiB so far)\n",
      "24/05/10 20:34:32 WARN BlockManager: Persisting block rdd_7252_1 to disk instead.\n",
      "24/05/10 20:34:34 WARN MemoryStore: Not enough space to cache rdd_7252_0 in memory! (computed 249.2 MiB so far)\n",
      "24/05/10 20:34:34 WARN MemoryStore: Not enough space to cache rdd_7252_0 in memory! (computed 249.2 MiB so far)\n",
      "24/05/10 20:34:35 WARN MemoryStore: Not enough space to cache rdd_7252_0 in memory! (computed 249.2 MiB so far)\n",
      "24/05/10 20:34:36 WARN MemoryStore: Not enough space to cache rdd_7252_0 in memory! (computed 249.2 MiB so far)\n",
      "24/05/10 20:34:38 WARN MemoryStore: Not enough space to cache rdd_7252_0 in memory! (computed 249.2 MiB so far)\n",
      "24/05/10 20:34:42 WARN MemoryStore: Not enough space to cache rdd_11_1 in memory! (computed 158.9 MiB so far)\n",
      "24/05/10 20:34:42 WARN DAGScheduler: Broadcasting large task binary with size 1364.0 KiB\n",
      "24/05/10 20:34:43 WARN MemoryStore: Not enough space to cache rdd_7252_1 in memory! (computed 160.8 MiB so far)\n",
      "24/05/10 20:34:44 WARN MemoryStore: Not enough space to cache rdd_7252_1 in memory! (computed 160.8 MiB so far)\n",
      "24/05/10 20:34:45 WARN MemoryStore: Not enough space to cache rdd_7252_1 in memory! (computed 160.8 MiB so far)\n",
      "24/05/10 20:34:46 WARN MemoryStore: Not enough space to cache rdd_7252_1 in memory! (computed 160.8 MiB so far)\n",
      "24/05/10 20:34:47 WARN MemoryStore: Not enough space to cache rdd_7252_1 in memory! (computed 160.8 MiB so far)\n",
      "24/05/10 20:34:51 WARN DAGScheduler: Broadcasting large task binary with size 1364.2 KiB\n",
      "24/05/10 20:34:51 WARN MemoryStore: Not enough space to cache rdd_7252_1 in memory! (computed 160.8 MiB so far)\n",
      "24/05/10 20:34:52 WARN MemoryStore: Not enough space to cache rdd_7252_1 in memory! (computed 160.8 MiB so far)\n",
      "24/05/10 20:34:53 WARN MemoryStore: Not enough space to cache rdd_7252_1 in memory! (computed 160.8 MiB so far)\n",
      "24/05/10 20:34:54 WARN MemoryStore: Not enough space to cache rdd_7252_1 in memory! (computed 160.8 MiB so far)\n",
      "24/05/10 20:34:55 WARN MemoryStore: Not enough space to cache rdd_7252_1 in memory! (computed 160.8 MiB so far)\n",
      "24/05/10 20:34:57 WARN DAGScheduler: Broadcasting large task binary with size 1364.0 KiB\n",
      "24/05/10 20:34:58 WARN MemoryStore: Not enough space to cache rdd_7252_1 in memory! (computed 160.8 MiB so far)\n",
      "24/05/10 20:34:59 WARN MemoryStore: Not enough space to cache rdd_7252_1 in memory! (computed 160.8 MiB so far)\n",
      "24/05/10 20:35:00 WARN MemoryStore: Not enough space to cache rdd_7252_1 in memory! (computed 160.8 MiB so far)\n",
      "24/05/10 20:35:01 WARN MemoryStore: Not enough space to cache rdd_7252_1 in memory! (computed 160.8 MiB so far)\n",
      "24/05/10 20:35:02 WARN MemoryStore: Not enough space to cache rdd_7252_1 in memory! (computed 160.8 MiB so far)\n",
      "24/05/10 20:35:05 WARN DAGScheduler: Broadcasting large task binary with size 1364.2 KiB\n",
      "24/05/10 20:35:06 WARN MemoryStore: Not enough space to cache rdd_7252_1 in memory! (computed 160.8 MiB so far)\n",
      "24/05/10 20:35:07 WARN MemoryStore: Not enough space to cache rdd_7252_1 in memory! (computed 160.8 MiB so far)\n",
      "24/05/10 20:35:07 WARN MemoryStore: Not enough space to cache rdd_7252_1 in memory! (computed 160.8 MiB so far)\n",
      "24/05/10 20:35:09 WARN MemoryStore: Not enough space to cache rdd_7252_1 in memory! (computed 160.8 MiB so far)\n",
      "24/05/10 20:35:10 WARN MemoryStore: Not enough space to cache rdd_7252_1 in memory! (computed 160.8 MiB so far)\n",
      "24/05/10 20:35:12 WARN DAGScheduler: Broadcasting large task binary with size 1364.0 KiB\n",
      "24/05/10 20:35:13 WARN MemoryStore: Not enough space to cache rdd_7252_1 in memory! (computed 160.8 MiB so far)\n",
      "24/05/10 20:35:14 WARN MemoryStore: Not enough space to cache rdd_7252_1 in memory! (computed 160.8 MiB so far)\n",
      "24/05/10 20:35:14 WARN MemoryStore: Not enough space to cache rdd_7252_1 in memory! (computed 160.8 MiB so far)\n",
      "24/05/10 20:35:15 WARN MemoryStore: Not enough space to cache rdd_7252_1 in memory! (computed 160.8 MiB so far)\n",
      "24/05/10 20:35:16 WARN MemoryStore: Not enough space to cache rdd_7252_1 in memory! (computed 160.8 MiB so far)\n",
      "24/05/10 20:35:20 WARN DAGScheduler: Broadcasting large task binary with size 1364.2 KiB\n",
      "24/05/10 20:35:22 WARN MemoryStore: Not enough space to cache rdd_8149_0 in memory! (computed 154.0 MiB so far)\n",
      "24/05/10 20:35:22 WARN BlockManager: Persisting block rdd_8149_0 to disk instead.\n",
      "24/05/10 20:35:26 WARN MemoryStore: Not enough space to cache rdd_8149_1 in memory! (computed 160.8 MiB so far)\n",
      "24/05/10 20:35:26 WARN BlockManager: Persisting block rdd_8149_1 to disk instead.\n",
      "24/05/10 20:35:28 WARN MemoryStore: Not enough space to cache rdd_8149_0 in memory! (computed 249.3 MiB so far)\n",
      "24/05/10 20:35:29 WARN MemoryStore: Not enough space to cache rdd_8149_0 in memory! (computed 249.3 MiB so far)\n",
      "24/05/10 20:35:30 WARN MemoryStore: Not enough space to cache rdd_8149_0 in memory! (computed 249.3 MiB so far)\n",
      "24/05/10 20:35:31 WARN MemoryStore: Not enough space to cache rdd_8149_0 in memory! (computed 249.3 MiB so far)\n",
      "24/05/10 20:35:32 WARN MemoryStore: Not enough space to cache rdd_8149_0 in memory! (computed 249.3 MiB so far)\n",
      "24/05/10 20:35:36 WARN MemoryStore: Not enough space to cache rdd_11_1 in memory! (computed 158.9 MiB so far)\n",
      "24/05/10 20:35:37 WARN DAGScheduler: Broadcasting large task binary with size 1368.1 KiB\n",
      "24/05/10 20:35:38 WARN MemoryStore: Not enough space to cache rdd_8149_1 in memory! (computed 160.8 MiB so far)\n",
      "24/05/10 20:35:39 WARN MemoryStore: Not enough space to cache rdd_8149_1 in memory! (computed 160.8 MiB so far)\n",
      "24/05/10 20:35:40 WARN MemoryStore: Not enough space to cache rdd_8149_1 in memory! (computed 160.8 MiB so far)\n",
      "24/05/10 20:35:41 WARN MemoryStore: Not enough space to cache rdd_8149_1 in memory! (computed 160.8 MiB so far)\n",
      "24/05/10 20:35:42 WARN MemoryStore: Not enough space to cache rdd_8149_1 in memory! (computed 160.8 MiB so far)\n",
      "24/05/10 20:35:45 WARN DAGScheduler: Broadcasting large task binary with size 1368.3 KiB\n",
      "24/05/10 20:35:46 WARN MemoryStore: Not enough space to cache rdd_8149_1 in memory! (computed 160.8 MiB so far)\n",
      "24/05/10 20:35:46 WARN MemoryStore: Not enough space to cache rdd_8149_1 in memory! (computed 160.8 MiB so far)\n",
      "24/05/10 20:35:47 WARN MemoryStore: Not enough space to cache rdd_8149_1 in memory! (computed 160.8 MiB so far)\n",
      "24/05/10 20:35:48 WARN MemoryStore: Not enough space to cache rdd_8149_1 in memory! (computed 160.8 MiB so far)\n",
      "24/05/10 20:35:49 WARN MemoryStore: Not enough space to cache rdd_8149_1 in memory! (computed 160.8 MiB so far)\n",
      "24/05/10 20:35:52 WARN DAGScheduler: Broadcasting large task binary with size 1368.1 KiB\n",
      "24/05/10 20:35:52 WARN MemoryStore: Not enough space to cache rdd_8149_1 in memory! (computed 160.8 MiB so far)\n",
      "24/05/10 20:35:53 WARN MemoryStore: Not enough space to cache rdd_8149_1 in memory! (computed 160.8 MiB so far)\n",
      "24/05/10 20:35:54 WARN MemoryStore: Not enough space to cache rdd_8149_1 in memory! (computed 160.8 MiB so far)\n",
      "24/05/10 20:35:55 WARN MemoryStore: Not enough space to cache rdd_8149_1 in memory! (computed 160.8 MiB so far)\n",
      "24/05/10 20:35:56 WARN MemoryStore: Not enough space to cache rdd_8149_1 in memory! (computed 160.8 MiB so far)\n",
      "24/05/10 20:35:59 WARN DAGScheduler: Broadcasting large task binary with size 1368.3 KiB\n",
      "24/05/10 20:36:00 WARN MemoryStore: Not enough space to cache rdd_8149_1 in memory! (computed 160.8 MiB so far)\n",
      "24/05/10 20:36:01 WARN MemoryStore: Not enough space to cache rdd_8149_1 in memory! (computed 160.8 MiB so far)\n",
      "24/05/10 20:36:02 WARN MemoryStore: Not enough space to cache rdd_8149_1 in memory! (computed 160.8 MiB so far)\n",
      "24/05/10 20:36:03 WARN MemoryStore: Not enough space to cache rdd_8149_1 in memory! (computed 160.8 MiB so far)\n",
      "24/05/10 20:36:04 WARN MemoryStore: Not enough space to cache rdd_8149_1 in memory! (computed 160.8 MiB so far)\n",
      "24/05/10 20:36:06 WARN DAGScheduler: Broadcasting large task binary with size 1368.1 KiB\n",
      "24/05/10 20:36:07 WARN MemoryStore: Not enough space to cache rdd_8149_1 in memory! (computed 160.8 MiB so far)\n",
      "24/05/10 20:36:08 WARN MemoryStore: Not enough space to cache rdd_8149_1 in memory! (computed 160.8 MiB so far)\n",
      "24/05/10 20:36:09 WARN MemoryStore: Not enough space to cache rdd_8149_1 in memory! (computed 160.8 MiB so far)\n",
      "24/05/10 20:36:10 WARN MemoryStore: Not enough space to cache rdd_8149_1 in memory! (computed 160.8 MiB so far)\n",
      "24/05/10 20:36:11 WARN MemoryStore: Not enough space to cache rdd_8149_1 in memory! (computed 160.8 MiB so far)\n",
      "24/05/10 20:36:14 WARN DAGScheduler: Broadcasting large task binary with size 1368.3 KiB\n",
      "24/05/10 20:36:15 WARN MemoryStore: Not enough space to cache rdd_11_1 in memory! (computed 158.9 MiB so far)\n",
      "24/05/10 20:36:16 WARN MemoryStore: Not enough space to cache rdd_11_1 in memory! (computed 158.9 MiB so far)\n",
      "24/05/10 20:36:17 WARN MemoryStore: Not enough space to cache rdd_11_1 in memory! (computed 158.9 MiB so far)\n",
      "24/05/10 20:36:18 WARN MemoryStore: Not enough space to cache rdd_11_1 in memory! (computed 158.9 MiB so far)\n",
      "24/05/10 20:36:20 WARN MemoryStore: Not enough space to cache rdd_11_1 in memory! (computed 158.9 MiB so far)\n",
      "24/05/10 20:36:23 WARN DAGScheduler: Broadcasting large task binary with size 1420.1 KiB\n",
      "24/05/10 20:36:24 WARN DAGScheduler: Broadcasting large task binary with size 1420.1 KiB\n",
      "24/05/10 20:36:24 WARN DAGScheduler: Broadcasting large task binary with size 1420.1 KiB\n"
     ]
    },
    {
     "name": "stdout",
     "output_type": "stream",
     "text": [
      "Accuracy: 0.7941442255557564\n",
      "Precision: 0.7937925198368496\n",
      "Recall: 0.7941442255557563\n"
     ]
    }
   ],
   "source": [
    "# 10-fold cross-validation\n",
    "pipeline, logisticRegression = pipelineCv()\n",
    "\n",
    "paramGrid = ParamGridBuilder() \\\n",
    "    .addGrid(logisticRegression.maxIter, [100, 200, 300]) \\\n",
    "    .addGrid(logisticRegression.regParam, [0.1, 0.01]) \\\n",
    "    .build()\n",
    "\n",
    "evaluator = MulticlassClassificationEvaluator(predictionCol=\"prediction\")\n",
    "crossVal = CrossValidator(estimator=pipeline, estimatorParamMaps=paramGrid, evaluator=evaluator, numFolds=10, seed=123456)\n",
    "crossValModel = crossVal.fit(df_train)\n",
    "predictions = crossValModel.transform(df_test)\n",
    "accuracy = evaluator.evaluate(predictions, {evaluator.metricName: \"accuracy\"})\n",
    "precision = evaluator.evaluate(predictions, {evaluator.metricName: \"weightedPrecision\"})\n",
    "recall = evaluator.evaluate(predictions, {evaluator.metricName: \"weightedRecall\"})\n",
    "\n",
    "print(\"Accuracy:\", accuracy)\n",
    "print(\"Precision:\", precision)\n",
    "print(\"Recall:\", recall)"
   ]
  },
  {
   "cell_type": "code",
   "execution_count": null,
   "id": "b2218442feaf964c",
   "metadata": {
    "ExecuteTime": {
     "end_time": "2024-05-10T19:36:25.376494Z",
     "start_time": "2024-05-10T19:36:25.374215Z"
    },
    "id": "b2218442feaf964c"
   },
   "outputs": [],
   "source": [
    "bestPipelineModel = crossValModel.bestModel\n",
    "bestModel = bestPipelineModel.stages[-1]\n",
    "bestParams = bestModel.extractParamMap()"
   ]
  },
  {
   "cell_type": "code",
   "execution_count": null,
   "id": "f941d6b42a73d9f9",
   "metadata": {
    "ExecuteTime": {
     "end_time": "2024-05-10T19:37:23.533135Z",
     "start_time": "2024-05-10T19:37:23.531077Z"
    },
    "id": "f941d6b42a73d9f9"
   },
   "outputs": [],
   "source": [
    "sparkSession.stop()"
   ]
  },
  {
   "cell_type": "code",
   "execution_count": null,
   "id": "45477145e86b7d64",
   "metadata": {
    "ExecuteTime": {
     "end_time": "2024-05-10T19:37:23.535144Z",
     "start_time": "2024-05-10T19:37:23.533889Z"
    },
    "id": "45477145e86b7d64"
   },
   "outputs": [],
   "source": []
  }
 ],
 "metadata": {
  "colab": {
   "provenance": []
  },
  "kernelspec": {
   "display_name": "Python 3 (ipykernel)",
   "language": "python",
   "name": "python3"
  },
  "language_info": {
   "codemirror_mode": {
    "name": "ipython",
    "version": 3
   },
   "file_extension": ".py",
   "mimetype": "text/x-python",
   "name": "python",
   "nbconvert_exporter": "python",
   "pygments_lexer": "ipython3",
   "version": "3.11.5"
  }
 },
 "nbformat": 4,
 "nbformat_minor": 5
}
